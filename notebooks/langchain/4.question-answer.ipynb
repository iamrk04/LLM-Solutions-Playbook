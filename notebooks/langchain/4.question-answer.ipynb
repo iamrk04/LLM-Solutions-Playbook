{
 "cells": [
  {
   "attachments": {},
   "cell_type": "markdown",
   "metadata": {},
   "source": [
    "# Question Answer\n",
    "- Index\n",
    "    - Create an index\n",
    "    - Query the index directly with LLM\n",
    "    - Query the index via Chain\n",
    "- Vector Store\n",
    "    - Create a vector store\n",
    "    - Query the vector store directly with LLM\n",
    "    - Query the vector store via Chain\n",
    "- Chain Type\n",
    "\n",
    "---"
   ]
  },
  {
   "attachments": {},
   "cell_type": "markdown",
   "metadata": {},
   "source": [
    "## Setup"
   ]
  },
  {
   "cell_type": "code",
   "execution_count": 1,
   "metadata": {},
   "outputs": [],
   "source": [
    "import openai\n",
    "import os\n",
    "from dotenv import load_dotenv, find_dotenv\n",
    "\n",
    "_ = load_dotenv(find_dotenv())\n",
    "openai.api_type = os.environ.get(\"OPENAI_API_TYPE\")\n",
    "openai.api_base = os.environ.get(\"OPENAI_API_BASE\")\n",
    "openai.api_key = os.environ.get(\"OPENAI_API_KEY\")\n",
    "openai.api_version = os.environ.get(\"OPENAI_API_VERSION\")"
   ]
  },
  {
   "cell_type": "code",
   "execution_count": 2,
   "metadata": {},
   "outputs": [],
   "source": [
    "from langchain.chat_models import AzureChatOpenAI\n",
    "\n",
    "llm = AzureChatOpenAI(\n",
    "    deployment_name=\"gpt4\",\n",
    "    temperature=0,\n",
    ")"
   ]
  },
  {
   "attachments": {},
   "cell_type": "markdown",
   "metadata": {},
   "source": [
    "## Index"
   ]
  },
  {
   "attachments": {},
   "cell_type": "markdown",
   "metadata": {},
   "source": [
    "### Create an index\n",
    "We create index when the documents are not small and we need to break them into smaller chunks. This is done to improve the performance of the search."
   ]
  },
  {
   "cell_type": "code",
   "execution_count": 4,
   "metadata": {},
   "outputs": [],
   "source": [
    "from langchain.document_loaders import CSVLoader\n",
    "\n",
    "file = \"../../data/OutdoorClothingCatalog_1000_small.csv\"\n",
    "loader = CSVLoader(file_path=file)\n",
    "docs = loader.load()"
   ]
  },
  {
   "cell_type": "code",
   "execution_count": 5,
   "metadata": {},
   "outputs": [],
   "source": [
    "from langchain.indexes import VectorstoreIndexCreator\n",
    "from langchain.vectorstores import DocArrayInMemorySearch\n",
    "from langchain.embeddings import HuggingFaceEmbeddings\n",
    "\n",
    "index = VectorstoreIndexCreator(\n",
    "    vectorstore_cls=DocArrayInMemorySearch, embedding=HuggingFaceEmbeddings()\n",
    ").from_loaders([loader])"
   ]
  },
  {
   "attachments": {},
   "cell_type": "markdown",
   "metadata": {},
   "source": [
    "### Query the index directly with LLM\n",
    "Fetches all the relevant documents from the index and then sends them as context to the LLM model."
   ]
  },
  {
   "cell_type": "code",
   "execution_count": 6,
   "metadata": {},
   "outputs": [
    {
     "data": {
      "text/markdown": [
       "| Name                          | Sun Protection | Description                                                                                                   |\n",
       "|-------------------------------|----------------|---------------------------------------------------------------------------------------------------------------|\n",
       "| Performance Plus Woven Shirt  | UPF 40+        | Breathable, quick-drying, moisture-wicking, and abrasion-resistant; perfect for trail or travel.              |\n",
       "| Women's Tropical Plaid Shirt  | UPF 50+        | Lightweight, moisture-wicking, wrinkle-resistant, and ventilated; designed for hot weather and flattering fit. |\n",
       "\n",
       "**Performance Plus Woven Shirt**: This shirt is perfect for trail or travel, featuring a breathable and quick-drying fabric. It has a slightly fitted design that softly shapes the body and falls at the hip. The fabric is 100% nylon and provides UPF 40+ sun protection. It is also abrasion-resistant for exceptional durability.\n",
       "\n",
       "**Women's Tropical Plaid Shirt**: Designed for hot weather, this lightweight shirt offers a flattering fit and keeps you cool and comfortable by wicking away perspiration. It is made of 52% polyester and 48% nylon, providing UPF 50+ sun protection. The shirt is wrinkle-resistant and features front and back cape venting for ventilation, as well as low-profile pockets and side shaping for a more flattering fit."
      ],
      "text/plain": [
       "<IPython.core.display.Markdown object>"
      ]
     },
     "metadata": {},
     "output_type": "display_data"
    }
   ],
   "source": [
    "from IPython.display import display, Markdown\n",
    "\n",
    "query = \"Please list all your shirts with sun protection \\\n",
    "in a table in markdown and summarize each one.\"\n",
    "\n",
    "response = index.query(query, llm)\n",
    "display(Markdown(response))"
   ]
  },
  {
   "attachments": {},
   "cell_type": "markdown",
   "metadata": {},
   "source": [
    "### Query the index via Chain\n",
    "Fetches all the relevant documents from the index and then sends them as context to the LLM model."
   ]
  },
  {
   "cell_type": "code",
   "execution_count": 7,
   "metadata": {},
   "outputs": [
    {
     "name": "stdout",
     "output_type": "stream",
     "text": [
      "\n",
      "\n",
      "\u001b[1m> Entering new  chain...\u001b[0m\n",
      "\n",
      "\u001b[1m> Finished chain.\u001b[0m\n"
     ]
    },
    {
     "data": {
      "text/markdown": [
       "| Name                          | Sun Protection | Description                                                                                                   |\n",
       "|-------------------------------|----------------|---------------------------------------------------------------------------------------------------------------|\n",
       "| Performance Plus Woven Shirt  | UPF 40+        | Breathable, quick-drying, moisture-wicking, and abrasion-resistant; perfect for trail or travel.              |\n",
       "| Women's Tropical Plaid Shirt  | UPF 50+        | Lightweight, moisture-wicking, wrinkle-resistant, and ventilated; designed for hot weather and flattering fit. |\n",
       "\n",
       "**Performance Plus Woven Shirt**: This shirt is perfect for trail or travel, featuring a breathable and quick-drying fabric. It has a slightly fitted design that softly shapes the body and falls at the hip. The fabric is 100% nylon and provides UPF 40+ sun protection. It is also abrasion-resistant for exceptional durability.\n",
       "\n",
       "**Women's Tropical Plaid Shirt**: This lightweight shirt is designed for hot weather and has a flattering fit. It is made of 52% polyester and 48% nylon, providing UPF 50+ sun protection. The shirt keeps you cool and comfortable by wicking perspiration away from your skin and dries in minutes. It is also wrinkle-resistant and features front and back cape venting for ventilation."
      ],
      "text/plain": [
       "<IPython.core.display.Markdown object>"
      ]
     },
     "metadata": {},
     "output_type": "display_data"
    }
   ],
   "source": [
    "from langchain.chains import RetrievalQA\n",
    "\n",
    "qa_stuff = RetrievalQA.from_chain_type(\n",
    "    llm=llm,\n",
    "    chain_type=\"stuff\",\n",
    "    retriever=index.vectorstore.as_retriever(),\n",
    "    verbose=True,\n",
    ")\n",
    "\n",
    "response = qa_stuff.run(query)\n",
    "display(Markdown(response))"
   ]
  },
  {
   "attachments": {},
   "cell_type": "markdown",
   "metadata": {},
   "source": [
    "## Vector Store"
   ]
  },
  {
   "attachments": {},
   "cell_type": "markdown",
   "metadata": {},
   "source": [
    "### Create a vector store directly from the documents\n",
    "When the documents are small, we don't need indexing. We can directly create a vector store from the documents."
   ]
  },
  {
   "cell_type": "code",
   "execution_count": 8,
   "metadata": {},
   "outputs": [],
   "source": [
    "db = DocArrayInMemorySearch.from_documents(\n",
    "    documents=docs, embedding=HuggingFaceEmbeddings()\n",
    ")"
   ]
  },
  {
   "attachments": {},
   "cell_type": "markdown",
   "metadata": {},
   "source": [
    "### Query the vector store directly with LLM\n",
    "Fetch all the relevant documents from the vector store and then send them as context to the LLM model."
   ]
  },
  {
   "cell_type": "code",
   "execution_count": 9,
   "metadata": {},
   "outputs": [
    {
     "data": {
      "text/plain": [
       "[Document(page_content=\": 28\\nname: Performance Plus Woven Shirt\\ndescription: Perfect for trail or travel, this breathable summer shirt has the look and feel of cotton - but is packed with performance. Size & Fit Slightly Fitted: Softly shapes the body. Falls at hip. \\r\\n\\r\\nWhy We Love It Designed for total versatility in the backcountry or city streets. We made this woven top with a special quick-dry fabric – one of the fastest drying you'll find anywhere, so you can hit the trail or town in a top that looks great and performs even better. \\r\\n\\r\\nFabric & Care 100% nylon. UPF 40+ rated to block the sun's UV rays. Machine wash and dry. \\r\\n\\r\\nAdditional Features Dries in less than fourteen minutes. Wicks away moisture. Abrasion-resistant for exceptional durability. Imported. \\r\\n\\r\\nSun Protection That Won't Wear Off Our high-performance fabric provides SPF 50+ sun protection, blocking 98% of the sun's harmful rays.\", metadata={'source': '../../data/OutdoorClothingCatalog_1000_small.csv', 'row': 28}),\n",
       " Document(page_content=\": 87\\nname: Women's Tropical Plaid Shirt\\ndescription: Our lightest hot-weather shirt lets you beat the heat with a flattering fit.\\r\\n\\r\\nSize & Fit\\r\\n- Slightly Fitted: Softly shapes the body.\\r\\n- Falls at hip.\\r\\n\\r\\nFabric & Care\\r\\n- 52% polyester/ 48% nylon.\\r\\n- UPF 50+ rated – the highest rated sun protection possible.\\r\\n\\r\\nAdditional Features\\r\\n- Keeps you cool and comfortable by wicking perspiration away from your skin, then dries in minutes.\\r\\n- Smooth buttons are easy on your hands.\\r\\n- Wrinkle resistant.\\r\\n- Front and back cape venting for ventilation.\\r\\n- Low-profile pockets and side shaping offer a more flattering fit.\\r\\n- Two front pockets, tool tabs and eyewear loop.\\r\\n- Imported.\\r\\n\\r\\nQuestions?\\r\\nContact us for more information.\", metadata={'source': '../../data/OutdoorClothingCatalog_1000_small.csv', 'row': 87}),\n",
       " Document(page_content=\": 53\\nname: Tropicview Baseball Cap\\ndescription: This sun-blocking baseball hat features a rear flap for extra coverage. It provides UPF 50+ rated sun protection, the highest possible. \\r\\n\\r\\nFabric & Care \\r\\nBody: 71% nylon, 29% polyester. \\r\\nMesh: 85% polyester, 15% S.Cafe polyester. \\r\\nSweatband: 100% polyester. \\r\\nHandwash, line dry.\\r\\n\\r\\nAdditional Features \\r\\nRear flap allows additional protection and can be tucked away when not needed. \\r\\nElastic cord allows for infinite adjustment for a fit that's always comfortable. \\r\\nCoolmax sweatband wicks away moisture to keep you comfortable in even the hottest of weather. \\r\\nDark underbrim does not reflect sun. \\r\\nMesh side panels increase ventilation. \\r\\nImported.\", metadata={'source': '../../data/OutdoorClothingCatalog_1000_small.csv', 'row': 53}),\n",
       " Document(page_content=\": 2\\nname: Infant and Toddler Girls' Coastal Chill Swimsuit, Two-Piece\\ndescription: She'll love the bright colors, ruffles and exclusive whimsical prints of this toddler's two-piece swimsuit! Our four-way-stretch and chlorine-resistant fabric keeps its shape and resists snags. The UPF 50+ rated fabric provides the highest rated sun protection possible, blocking 98% of the sun's harmful rays. The crossover no-slip straps and fully lined bottom ensure a secure fit and maximum coverage. Machine wash and line dry for best results. Imported.\", metadata={'source': '../../data/OutdoorClothingCatalog_1000_small.csv', 'row': 2})]"
      ]
     },
     "execution_count": 9,
     "metadata": {},
     "output_type": "execute_result"
    }
   ],
   "source": [
    "# embed = embeddings.embed_query(query)\n",
    "docs = db.similarity_search(query)\n",
    "docs"
   ]
  },
  {
   "cell_type": "code",
   "execution_count": 16,
   "metadata": {},
   "outputs": [
    {
     "data": {
      "text/markdown": [
       "| Name                          | Description                                                                                                                                                                                                                                                                                                                                                                                                                                                                                   |\n",
       "|-------------------------------|-----------------------------------------------------------------------------------------------------------------------------------------------------------------------------------------------------------------------------------------------------------------------------------------------------------------------------------------------------------------------------------------------------------------------------------------------------------------------------------------------|\n",
       "| Performance Plus Woven Shirt  | This slightly fitted shirt is perfect for trail or travel, made with 100% nylon and UPF 40+ rated fabric to block the sun's UV rays. It is designed for versatility, with quick-dry fabric that dries in less than fourteen minutes, wicks away moisture, and is abrasion-resistant for exceptional durability.                                                                                                                                                                   |\n",
       "| Women's Tropical Plaid Shirt  | This lightweight hot-weather shirt has a slightly fitted design that softly shapes the body and falls at the hip. Made with 52% polyester and 48% nylon, it has a UPF 50+ rating for the highest sun protection possible. The shirt keeps you cool and comfortable by wicking perspiration away from your skin and drying in minutes. It is wrinkle-resistant and features front and back cape venting for ventilation, low-profile pockets, and side shaping for a flattering fit. |"
      ],
      "text/plain": [
       "<IPython.core.display.Markdown object>"
      ]
     },
     "metadata": {},
     "output_type": "display_data"
    }
   ],
   "source": [
    "qdocs = \"\".join([docs[i].page_content for i in range(len(docs))])\n",
    "\n",
    "delimeter = \"````\"\n",
    "prompt = f\"\"\"\n",
    "context: {delimeter}{qdocs}{delimeter}\n",
    "Using the context mentioned above answer the question below.\n",
    "question: {delimeter}{query}{delimeter}\n",
    "\"\"\"\n",
    "\n",
    "response = llm.call_as_llm(prompt)\n",
    "display(Markdown(response))"
   ]
  },
  {
   "attachments": {},
   "cell_type": "markdown",
   "metadata": {},
   "source": [
    "### Query the vector store via Chain\n",
    "Fetches all the relevant documents from the vector store and then sends them as context to the LLM model."
   ]
  },
  {
   "cell_type": "code",
   "execution_count": 11,
   "metadata": {},
   "outputs": [
    {
     "name": "stdout",
     "output_type": "stream",
     "text": [
      "\n",
      "\n",
      "\u001b[1m> Entering new  chain...\u001b[0m\n",
      "\n",
      "\u001b[1m> Finished chain.\u001b[0m\n"
     ]
    },
    {
     "data": {
      "text/markdown": [
       "| Name                          | Sun Protection | Description                                                                                                   |\n",
       "|-------------------------------|----------------|---------------------------------------------------------------------------------------------------------------|\n",
       "| Performance Plus Woven Shirt  | UPF 40+        | Breathable, quick-dry fabric, slightly fitted, falls at hip, abrasion-resistant, and moisture-wicking.        |\n",
       "| Women's Tropical Plaid Shirt  | UPF 50+        | Lightweight, slightly fitted, falls at hip, moisture-wicking, wrinkle-resistant, and front and back venting. |"
      ],
      "text/plain": [
       "<IPython.core.display.Markdown object>"
      ]
     },
     "metadata": {},
     "output_type": "display_data"
    }
   ],
   "source": [
    "from langchain.chains import RetrievalQA\n",
    "\n",
    "qa_stuff = RetrievalQA.from_chain_type(\n",
    "    llm=llm, chain_type=\"stuff\", retriever=db.as_retriever(), verbose=True\n",
    ")\n",
    "\n",
    "response = qa_stuff.run(query)\n",
    "display(Markdown(response))"
   ]
  },
  {
   "attachments": {},
   "cell_type": "markdown",
   "metadata": {},
   "source": [
    "## Chain Type"
   ]
  },
  {
   "attachments": {},
   "cell_type": "markdown",
   "metadata": {},
   "source": [
    "### `stuff`\n",
    "<br/>\n",
    "<img src=\"../../images/chain-type-stuff.png\" alt=\"Chain Type: Stuff\" style=\"width: 60%; height: auto;\"/>\n",
    "<br/>\n",
    "\n",
    "- Simplest method.\n",
    "- Simply stuff all data into the prompt as context to pass to the LLM model.\n",
    "\n",
    "Pros:\n",
    "- Makes a single call to the LLM model.\n",
    "- The LLM model has access to all the data at once.\n",
    "\n",
    "Cons:\n",
    "- LLMs have a context length limit, and for large documents or many documents this will not work as it will result in a prompt larger than the context length limit."
   ]
  },
  {
   "attachments": {},
   "cell_type": "markdown",
   "metadata": {},
   "source": [
    "### Additional Chain Types\n",
    "<br/>\n",
    "<img src=\"../../images/chain-type-additional.png\" alt=\"Additional Chain Types\" style=\"width: 80%; height: auto;\"/>\n",
    "\n",
    "1. **Map_reduce**: Takes chunks one by one, sends them to the LLM model one by one, receives the individual responses. And then makes a final call to the LLM model to summarize the individual responses. \n",
    "\n",
    "    Pros:\n",
    "    - It can operate on any number of documents, as each chunk is sent to the LLM model individually.\n",
    "    - It can do the individual questions in parallel.\n",
    "\n",
    "    Cons:\n",
    "    - It does take a lot more call.\n",
    "    - It treats each document independently, so it doesn't have access to all the data at once, which may not always be the most desired thing.\n",
    "    \n",
    "    <br/>\n",
    "\n",
    "2. **Refine**: Used to loop over many documents, but this happens iteratively. It builds upon the answer from the previous document.\n",
    "\n",
    "    Pros:\n",
    "    - It can operate on any number of documents, as each chunk is sent to the LLM model individually.\n",
    "    - Really good for combining information and building up an answer over time.\n",
    "\n",
    "    Cons:\n",
    "    - It takes the same number of calls as Map_Reduce.\n",
    "    - Generally lead to longer answers.\n",
    "    - It's not that fast because now the calls aren't independent, they depend on the result of previous calls.\n",
    "\n",
    "    <br/>\n",
    "\n",
    "3. **Map_rerank**: Single call to the LLM for each document, and it also returns a score. And then you select the highest score. This relies on the LLM to know what the score should be, so prompt-engineering is required to tell the LLM that it should be high score if it's releveant to the document.\n",
    "\n",
    "    Pros:\n",
    "    - It can operate on any number of documents, as each chunk is sent to the LLM model individually.\n",
    "    - It can do the individual questions in parallel.\n",
    "\n",
    "    Cons:\n",
    "    - It takes the same number of calls as Map_Reduce.\n",
    "    - It's not always the most relevant answer.\n",
    "\n",
    "> Note: These methods (chain types) can also be used for lots of other chains besides just question answering. For example, a really common use case of the Map_reduce chain type is summarization, where you have a really long document, and you want to recursively summarize it."
   ]
  }
 ],
 "metadata": {
  "kernelspec": {
   "display_name": "llm",
   "language": "python",
   "name": "python3"
  },
  "language_info": {
   "codemirror_mode": {
    "name": "ipython",
    "version": 3
   },
   "file_extension": ".py",
   "mimetype": "text/x-python",
   "name": "python",
   "nbconvert_exporter": "python",
   "pygments_lexer": "ipython3",
   "version": "3.11.3"
  }
 },
 "nbformat": 4,
 "nbformat_minor": 2
}
