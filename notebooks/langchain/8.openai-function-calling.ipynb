{
 "cells": [
  {
   "cell_type": "markdown",
   "metadata": {},
   "source": [
    "## OpenAI Function Calling\n",
    "\n",
    "---"
   ]
  },
  {
   "cell_type": "markdown",
   "metadata": {},
   "source": [
    "## Setup"
   ]
  },
  {
   "cell_type": "code",
   "execution_count": 122,
   "metadata": {},
   "outputs": [],
   "source": [
    "import openai\n",
    "import os\n",
    "from dotenv import load_dotenv, find_dotenv\n",
    "\n",
    "_ = load_dotenv(find_dotenv())\n",
    "openai.api_type = os.environ.get(\"OPENAI_API_TYPE\")\n",
    "openai.api_base = os.environ.get(\"OPENAI_API_BASE\")\n",
    "openai.api_key = os.environ.get(\"OPENAI_API_KEY\")\n",
    "openai.api_version = os.environ.get(\"OPENAI_API_VERSION\")\n",
    "\n",
    "deployment_id = \"gpt40125\""
   ]
  },
  {
   "cell_type": "markdown",
   "metadata": {},
   "source": [
    "## Define the Function"
   ]
  },
  {
   "cell_type": "code",
   "execution_count": 123,
   "metadata": {},
   "outputs": [],
   "source": [
    "import json\n",
    "\n",
    "# Example dummy function hard coded to return the same weather\n",
    "# In production, this could be your backend API or an external API\n",
    "def get_current_weather(location, unit=\"celsius\"):\n",
    "    \"\"\"Get the current weather in a given location\"\"\"\n",
    "    weather_info = {\n",
    "        \"location\": location,\n",
    "        \"temperature\": \"32\",\n",
    "        \"unit\": unit,\n",
    "        \"forecast\": [\"sunny\", \"windy\"],\n",
    "    }\n",
    "    return json.dumps(weather_info)"
   ]
  },
  {
   "cell_type": "code",
   "execution_count": 124,
   "metadata": {},
   "outputs": [],
   "source": [
    "# define a function\n",
    "functions = [\n",
    "    {\n",
    "        \"name\": \"get_current_weather\",\n",
    "        \"description\": \"Get the current weather in a given location\",\n",
    "        \"parameters\": {\n",
    "            \"type\": \"object\",\n",
    "            \"properties\": {\n",
    "                \"location\": {\n",
    "                    \"type\": \"string\",\n",
    "                    \"description\": \"The city and state, e.g. San Francisco, CA\",\n",
    "                },\n",
    "                \"unit\": {\"type\": \"string\", \"enum\": [\"celsius\", \"fahrenheit\"]},\n",
    "            },\n",
    "            \"required\": [\"location\"],\n",
    "        },\n",
    "    }\n",
    "]"
   ]
  },
  {
   "cell_type": "markdown",
   "metadata": {},
   "source": [
    "## Function Calling"
   ]
  },
  {
   "cell_type": "markdown",
   "metadata": {},
   "source": [
    "### Prompt related to the function"
   ]
  },
  {
   "cell_type": "code",
   "execution_count": 125,
   "metadata": {},
   "outputs": [],
   "source": [
    "messages = [\n",
    "    {\n",
    "        \"role\": \"user\",\n",
    "        \"content\": \"What's the weather like in Boston?\"\n",
    "    }\n",
    "]"
   ]
  },
  {
   "cell_type": "code",
   "execution_count": 126,
   "metadata": {},
   "outputs": [
    {
     "data": {
      "text/plain": [
       "<OpenAIObject chat.completion id=chatcmpl-9CmDqmquDZKnuJnzFYi2LUB4Aurgz at 0x1fb4e8f7f50> JSON: {\n",
       "  \"choices\": [\n",
       "    {\n",
       "      \"content_filter_results\": {},\n",
       "      \"finish_reason\": \"function_call\",\n",
       "      \"index\": 0,\n",
       "      \"logprobs\": null,\n",
       "      \"message\": {\n",
       "        \"content\": null,\n",
       "        \"function_call\": {\n",
       "          \"arguments\": \"{\\\"location\\\":\\\"Boston, MA\\\",\\\"unit\\\":\\\"fahrenheit\\\"}\",\n",
       "          \"name\": \"get_current_weather\"\n",
       "        },\n",
       "        \"role\": \"assistant\"\n",
       "      }\n",
       "    }\n",
       "  ],\n",
       "  \"created\": 1712832330,\n",
       "  \"id\": \"chatcmpl-9CmDqmquDZKnuJnzFYi2LUB4Aurgz\",\n",
       "  \"model\": \"gpt-4\",\n",
       "  \"object\": \"chat.completion\",\n",
       "  \"prompt_filter_results\": [\n",
       "    {\n",
       "      \"prompt_index\": 0,\n",
       "      \"content_filter_results\": {\n",
       "        \"hate\": {\n",
       "          \"filtered\": false,\n",
       "          \"severity\": \"safe\"\n",
       "        },\n",
       "        \"self_harm\": {\n",
       "          \"filtered\": false,\n",
       "          \"severity\": \"safe\"\n",
       "        },\n",
       "        \"sexual\": {\n",
       "          \"filtered\": false,\n",
       "          \"severity\": \"safe\"\n",
       "        },\n",
       "        \"violence\": {\n",
       "          \"filtered\": false,\n",
       "          \"severity\": \"safe\"\n",
       "        }\n",
       "      }\n",
       "    }\n",
       "  ],\n",
       "  \"system_fingerprint\": \"fp_2f57f81c11\",\n",
       "  \"usage\": {\n",
       "    \"completion_tokens\": 22,\n",
       "    \"prompt_tokens\": 82,\n",
       "    \"total_tokens\": 104\n",
       "  }\n",
       "}"
      ]
     },
     "execution_count": 126,
     "metadata": {},
     "output_type": "execute_result"
    }
   ],
   "source": [
    "response = openai.ChatCompletion.create(\n",
    "    deployment_id=deployment_id,\n",
    "    messages=messages,\n",
    "    temperature=0,\n",
    "    functions=functions\n",
    ")\n",
    "response"
   ]
  },
  {
   "cell_type": "code",
   "execution_count": 127,
   "metadata": {},
   "outputs": [
    {
     "data": {
      "text/plain": [
       "<OpenAIObject at 0x1fb4e930110> JSON: {\n",
       "  \"content\": null,\n",
       "  \"function_call\": {\n",
       "    \"arguments\": \"{\\\"location\\\":\\\"Boston, MA\\\",\\\"unit\\\":\\\"fahrenheit\\\"}\",\n",
       "    \"name\": \"get_current_weather\"\n",
       "  },\n",
       "  \"role\": \"assistant\"\n",
       "}"
      ]
     },
     "execution_count": 127,
     "metadata": {},
     "output_type": "execute_result"
    }
   ],
   "source": [
    "response_message = response[\"choices\"][0][\"message\"]\n",
    "response_message"
   ]
  },
  {
   "cell_type": "markdown",
   "metadata": {},
   "source": [
    "The function call does not actually call the function, but returns the necessary info to call the function. We still need to manually call the function."
   ]
  },
  {
   "cell_type": "code",
   "execution_count": 128,
   "metadata": {},
   "outputs": [
    {
     "data": {
      "text/plain": [
       "'{\"location\": {\"location\": \"Boston, MA\", \"unit\": \"fahrenheit\"}, \"temperature\": \"32\", \"unit\": \"celsius\", \"forecast\": [\"sunny\", \"windy\"]}'"
      ]
     },
     "execution_count": 128,
     "metadata": {},
     "output_type": "execute_result"
    }
   ],
   "source": [
    "args = json.loads(response_message[\"function_call\"][\"arguments\"])\n",
    "get_current_weather(args)"
   ]
  },
  {
   "cell_type": "markdown",
   "metadata": {},
   "source": [
    "### Prompt not related to the function"
   ]
  },
  {
   "cell_type": "code",
   "execution_count": 129,
   "metadata": {},
   "outputs": [],
   "source": [
    "messages = [\n",
    "    {\n",
    "        \"role\": \"user\",\n",
    "        \"content\": \"hi!\",\n",
    "    }\n",
    "]"
   ]
  },
  {
   "cell_type": "code",
   "execution_count": 130,
   "metadata": {},
   "outputs": [
    {
     "data": {
      "text/plain": [
       "<OpenAIObject chat.completion id=chatcmpl-9CmDtbYYricA9xAhUKfk7ZML9sud2 at 0x1fb4e8f75f0> JSON: {\n",
       "  \"choices\": [\n",
       "    {\n",
       "      \"content_filter_results\": {\n",
       "        \"hate\": {\n",
       "          \"filtered\": false,\n",
       "          \"severity\": \"safe\"\n",
       "        },\n",
       "        \"self_harm\": {\n",
       "          \"filtered\": false,\n",
       "          \"severity\": \"safe\"\n",
       "        },\n",
       "        \"sexual\": {\n",
       "          \"filtered\": false,\n",
       "          \"severity\": \"safe\"\n",
       "        },\n",
       "        \"violence\": {\n",
       "          \"filtered\": false,\n",
       "          \"severity\": \"safe\"\n",
       "        }\n",
       "      },\n",
       "      \"finish_reason\": \"stop\",\n",
       "      \"index\": 0,\n",
       "      \"logprobs\": null,\n",
       "      \"message\": {\n",
       "        \"content\": \"Hello! How can I assist you today?\",\n",
       "        \"role\": \"assistant\"\n",
       "      }\n",
       "    }\n",
       "  ],\n",
       "  \"created\": 1712832333,\n",
       "  \"id\": \"chatcmpl-9CmDtbYYricA9xAhUKfk7ZML9sud2\",\n",
       "  \"model\": \"gpt-4\",\n",
       "  \"object\": \"chat.completion\",\n",
       "  \"prompt_filter_results\": [\n",
       "    {\n",
       "      \"prompt_index\": 0,\n",
       "      \"content_filter_results\": {\n",
       "        \"hate\": {\n",
       "          \"filtered\": false,\n",
       "          \"severity\": \"safe\"\n",
       "        },\n",
       "        \"self_harm\": {\n",
       "          \"filtered\": false,\n",
       "          \"severity\": \"safe\"\n",
       "        },\n",
       "        \"sexual\": {\n",
       "          \"filtered\": false,\n",
       "          \"severity\": \"safe\"\n",
       "        },\n",
       "        \"violence\": {\n",
       "          \"filtered\": false,\n",
       "          \"severity\": \"safe\"\n",
       "        }\n",
       "      }\n",
       "    }\n",
       "  ],\n",
       "  \"system_fingerprint\": \"fp_2f57f81c11\",\n",
       "  \"usage\": {\n",
       "    \"completion_tokens\": 10,\n",
       "    \"prompt_tokens\": 76,\n",
       "    \"total_tokens\": 86\n",
       "  }\n",
       "}"
      ]
     },
     "execution_count": 130,
     "metadata": {},
     "output_type": "execute_result"
    }
   ],
   "source": [
    "response = openai.ChatCompletion.create(\n",
    "    deployment_id=deployment_id,\n",
    "    temperature=0,\n",
    "    messages=messages,\n",
    "    functions=functions\n",
    ")\n",
    "response"
   ]
  },
  {
   "cell_type": "code",
   "execution_count": 131,
   "metadata": {},
   "outputs": [
    {
     "data": {
      "text/plain": [
       "<OpenAIObject at 0x1fb4e932b10> JSON: {\n",
       "  \"content\": \"Hello! How can I assist you today?\",\n",
       "  \"role\": \"assistant\"\n",
       "}"
      ]
     },
     "execution_count": 131,
     "metadata": {},
     "output_type": "execute_result"
    }
   ],
   "source": [
    "response_message = response[\"choices\"][0][\"message\"]\n",
    "response_message"
   ]
  },
  {
   "cell_type": "markdown",
   "metadata": {},
   "source": [
    "This time model did not use the function since the prompt was not related to the function."
   ]
  },
  {
   "cell_type": "markdown",
   "metadata": {},
   "source": [
    "## Parameter to control using function"
   ]
  },
  {
   "cell_type": "markdown",
   "metadata": {},
   "source": [
    "Parameter `function_call` can take the following values:\n",
    "- `auto`: The model will decide whether to use the function or not. This is also the default value.\n",
    "- `none`: The model will not use the function.\n",
    "- `{\"name\": \"<function_name>\"}`: The model will always use the function with the given name."
   ]
  },
  {
   "cell_type": "markdown",
   "metadata": {},
   "source": [
    "### `auto`"
   ]
  },
  {
   "cell_type": "code",
   "execution_count": 132,
   "metadata": {},
   "outputs": [
    {
     "data": {
      "text/plain": [
       "<OpenAIObject at 0x1fb4e933b30> JSON: {\n",
       "  \"content\": \"Hello! How can I assist you today?\",\n",
       "  \"role\": \"assistant\"\n",
       "}"
      ]
     },
     "execution_count": 132,
     "metadata": {},
     "output_type": "execute_result"
    }
   ],
   "source": [
    "messages = [\n",
    "    {\n",
    "        \"role\": \"user\",\n",
    "        \"content\": \"hi!\",\n",
    "    }\n",
    "]\n",
    "response = openai.ChatCompletion.create(\n",
    "    deployment_id=deployment_id,\n",
    "    messages=messages,\n",
    "    temperature=0,\n",
    "    functions=functions,\n",
    "    function_call=\"auto\"\n",
    ")\n",
    "response[\"choices\"][0][\"message\"]"
   ]
  },
  {
   "cell_type": "markdown",
   "metadata": {},
   "source": [
    "### `none`"
   ]
  },
  {
   "cell_type": "code",
   "execution_count": 133,
   "metadata": {},
   "outputs": [
    {
     "data": {
      "text/plain": [
       "<OpenAIObject at 0x1fb4e9334d0> JSON: {\n",
       "  \"content\": \"To provide you with accurate weather information, could you specify if you'd like the temperature in Celsius or Fahrenheit?\",\n",
       "  \"role\": \"assistant\"\n",
       "}"
      ]
     },
     "execution_count": 133,
     "metadata": {},
     "output_type": "execute_result"
    }
   ],
   "source": [
    "messages = [\n",
    "    {\n",
    "        \"role\": \"user\",\n",
    "        \"content\": \"What's the weather like in Boston?\"\n",
    "    }\n",
    "]\n",
    "\n",
    "response = openai.ChatCompletion.create(\n",
    "    deployment_id=deployment_id,\n",
    "    messages=messages,\n",
    "    functions=functions,\n",
    "    function_call=\"none\"\n",
    ")\n",
    "response[\"choices\"][0][\"message\"]"
   ]
  },
  {
   "cell_type": "markdown",
   "metadata": {},
   "source": [
    "### `{\"name\": \"<function_name>\"}`"
   ]
  },
  {
   "cell_type": "code",
   "execution_count": 134,
   "metadata": {},
   "outputs": [
    {
     "data": {
      "text/plain": [
       "<OpenAIObject at 0x1fb4e933b90> JSON: {\n",
       "  \"content\": null,\n",
       "  \"function_call\": {\n",
       "    \"arguments\": \"{\\\"location\\\":\\\"Boston, MA\\\",\\\"unit\\\":\\\"fahrenheit\\\"}\",\n",
       "    \"name\": \"get_current_weather\"\n",
       "  },\n",
       "  \"role\": \"assistant\"\n",
       "}"
      ]
     },
     "execution_count": 134,
     "metadata": {},
     "output_type": "execute_result"
    }
   ],
   "source": [
    "messages = [\n",
    "    {\n",
    "        \"role\": \"user\",\n",
    "        \"content\": \"What's the weather like in Boston?\"\n",
    "    }\n",
    "]\n",
    "\n",
    "response = openai.ChatCompletion.create(\n",
    "    deployment_id=deployment_id,\n",
    "    messages=messages,\n",
    "    temperature=0,\n",
    "    functions=functions,\n",
    "    function_call={\"name\": \"get_current_weather\"}\n",
    ")\n",
    "response[\"choices\"][0][\"message\"]"
   ]
  },
  {
   "cell_type": "markdown",
   "metadata": {},
   "source": [
    "What happens when we force the model to use the function and the prompt is not related to the function?"
   ]
  },
  {
   "cell_type": "code",
   "execution_count": 135,
   "metadata": {},
   "outputs": [
    {
     "data": {
      "text/plain": [
       "<OpenAIObject at 0x1fb4e932f30> JSON: {\n",
       "  \"content\": null,\n",
       "  \"function_call\": {\n",
       "    \"arguments\": \"{\\\"location\\\":\\\"San Francisco, CA\\\",\\\"unit\\\":\\\"celsius\\\"}\",\n",
       "    \"name\": \"get_current_weather\"\n",
       "  },\n",
       "  \"role\": \"assistant\"\n",
       "}"
      ]
     },
     "execution_count": 135,
     "metadata": {},
     "output_type": "execute_result"
    }
   ],
   "source": [
    "messages = [\n",
    "    {\n",
    "        \"role\": \"user\",\n",
    "        \"content\": \"hi!\",\n",
    "    }\n",
    "]\n",
    "response = openai.ChatCompletion.create(\n",
    "    deployment_id=deployment_id,\n",
    "    messages=messages,\n",
    "    temperature=0,\n",
    "    functions=functions,\n",
    "    function_call={\"name\": \"get_current_weather\"}\n",
    ")\n",
    "response[\"choices\"][0][\"message\"]"
   ]
  },
  {
   "cell_type": "markdown",
   "metadata": {},
   "source": [
    "Model got confused and made up things, there was nothing related to the function in the prompt. Since, we forced the model to use the function, it made up things."
   ]
  },
  {
   "cell_type": "markdown",
   "metadata": {},
   "source": [
    "## Token Usage"
   ]
  },
  {
   "cell_type": "markdown",
   "metadata": {},
   "source": [
    "Function calling increases the token count becasue of additional content."
   ]
  },
  {
   "cell_type": "markdown",
   "metadata": {},
   "source": [
    "### Utlity function to extract relevant details"
   ]
  },
  {
   "cell_type": "code",
   "execution_count": 136,
   "metadata": {},
   "outputs": [],
   "source": [
    "from typing import Dict, List, Any\n",
    "\n",
    "\n",
    "DETAILS_DICT: Dict[str, List[Any]] = {\n",
    "    \"mode\": [],\n",
    "    \"prompt_mssg\": [],\n",
    "    \"response_mssg\": [],\n",
    "    \"prompt_tokens\": [],\n",
    "    \"completion_tokens\": [],\n",
    "    \"total_tokens\": [],\n",
    "}\n",
    "\n",
    "def save_details(mode: str, prompt_mssg: Any, response: Any) -> None:\n",
    "    global DETAILS_DICT\n",
    "    DETAILS_DICT[\"mode\"].append(mode)\n",
    "    DETAILS_DICT[\"prompt_mssg\"].append(prompt_mssg)\n",
    "    DETAILS_DICT[\"response_mssg\"].append(response[\"choices\"][0][\"message\"])\n",
    "    usage = response[\"usage\"]\n",
    "    DETAILS_DICT[\"prompt_tokens\"].append(usage[\"prompt_tokens\"])\n",
    "    DETAILS_DICT[\"completion_tokens\"].append(usage[\"completion_tokens\"])\n",
    "    DETAILS_DICT[\"total_tokens\"].append(usage[\"total_tokens\"])\n"
   ]
  },
  {
   "cell_type": "markdown",
   "metadata": {},
   "source": [
    "### Call with different modes"
   ]
  },
  {
   "cell_type": "code",
   "execution_count": 137,
   "metadata": {},
   "outputs": [],
   "source": [
    "messages = [\n",
    "    {\n",
    "        \"role\": \"user\",\n",
    "        \"content\": \"hi!\",\n",
    "    }\n",
    "]"
   ]
  },
  {
   "cell_type": "code",
   "execution_count": 138,
   "metadata": {},
   "outputs": [],
   "source": [
    "# no function call\n",
    "\n",
    "response = openai.ChatCompletion.create(\n",
    "    deployment_id=deployment_id,\n",
    "    messages=messages,\n",
    "    temperature=0,\n",
    ")\n",
    "\n",
    "save_details(\"no_function_call\", messages, response)"
   ]
  },
  {
   "cell_type": "code",
   "execution_count": 139,
   "metadata": {},
   "outputs": [],
   "source": [
    "# function call - none\n",
    "\n",
    "response = openai.ChatCompletion.create(\n",
    "    deployment_id=deployment_id,\n",
    "    messages=messages,\n",
    "    temperature=0,\n",
    "    functions=functions,\n",
    "    function_call=\"none\"\n",
    ")\n",
    "\n",
    "save_details(\"none\", messages, response)"
   ]
  },
  {
   "cell_type": "code",
   "execution_count": 140,
   "metadata": {},
   "outputs": [],
   "source": [
    "# function call - auto\n",
    "\n",
    "response = openai.ChatCompletion.create(\n",
    "    deployment_id=deployment_id,\n",
    "    messages=messages,\n",
    "    temperature=0,\n",
    "    functions=functions,\n",
    "    function_call=\"auto\"\n",
    ")\n",
    "\n",
    "save_details(\"auto\", messages, response)"
   ]
  },
  {
   "cell_type": "code",
   "execution_count": 141,
   "metadata": {},
   "outputs": [],
   "source": [
    "# function call - forced\n",
    "\n",
    "response = openai.ChatCompletion.create(\n",
    "    deployment_id=deployment_id,\n",
    "    messages=messages,\n",
    "    temperature=0,\n",
    "    functions=functions,\n",
    "    function_call={\"name\": \"get_current_weather\"}\n",
    ")\n",
    "\n",
    "save_details(\"forced\", messages, response)"
   ]
  },
  {
   "cell_type": "markdown",
   "metadata": {},
   "source": [
    "### Display details"
   ]
  },
  {
   "cell_type": "code",
   "execution_count": 142,
   "metadata": {},
   "outputs": [
    {
     "data": {
      "text/html": [
       "<div>\n",
       "<style scoped>\n",
       "    .dataframe tbody tr th:only-of-type {\n",
       "        vertical-align: middle;\n",
       "    }\n",
       "\n",
       "    .dataframe tbody tr th {\n",
       "        vertical-align: top;\n",
       "    }\n",
       "\n",
       "    .dataframe thead th {\n",
       "        text-align: right;\n",
       "    }\n",
       "</style>\n",
       "<table border=\"1\" class=\"dataframe\">\n",
       "  <thead>\n",
       "    <tr style=\"text-align: right;\">\n",
       "      <th></th>\n",
       "      <th>mode</th>\n",
       "      <th>prompt_mssg</th>\n",
       "      <th>response_mssg</th>\n",
       "      <th>prompt_tokens</th>\n",
       "      <th>completion_tokens</th>\n",
       "      <th>total_tokens</th>\n",
       "    </tr>\n",
       "  </thead>\n",
       "  <tbody>\n",
       "    <tr>\n",
       "      <th>0</th>\n",
       "      <td>no_function_call</td>\n",
       "      <td>[{'role': 'user', 'content': 'hi!'}]</td>\n",
       "      <td>{'content': 'Hello! How can I assist you today?', 'role': 'assistant'}</td>\n",
       "      <td>9</td>\n",
       "      <td>9</td>\n",
       "      <td>18</td>\n",
       "    </tr>\n",
       "    <tr>\n",
       "      <th>1</th>\n",
       "      <td>none</td>\n",
       "      <td>[{'role': 'user', 'content': 'hi!'}]</td>\n",
       "      <td>{'content': 'Hello! How can I assist you today?', 'role': 'assistant'}</td>\n",
       "      <td>77</td>\n",
       "      <td>9</td>\n",
       "      <td>86</td>\n",
       "    </tr>\n",
       "    <tr>\n",
       "      <th>2</th>\n",
       "      <td>auto</td>\n",
       "      <td>[{'role': 'user', 'content': 'hi!'}]</td>\n",
       "      <td>{'content': 'Hello! How can I assist you today?', 'role': 'assistant'}</td>\n",
       "      <td>76</td>\n",
       "      <td>10</td>\n",
       "      <td>86</td>\n",
       "    </tr>\n",
       "    <tr>\n",
       "      <th>3</th>\n",
       "      <td>forced</td>\n",
       "      <td>[{'role': 'user', 'content': 'hi!'}]</td>\n",
       "      <td>{'content': None, 'function_call': {'arguments': '{\"location\":\"New York, NY\",\"unit\":\"fahrenheit\"}', 'name': 'get_current_weather'}, 'role': 'assistant'}</td>\n",
       "      <td>86</td>\n",
       "      <td>13</td>\n",
       "      <td>99</td>\n",
       "    </tr>\n",
       "  </tbody>\n",
       "</table>\n",
       "</div>"
      ],
      "text/plain": [
       "               mode                           prompt_mssg  \\\n",
       "0  no_function_call  [{'role': 'user', 'content': 'hi!'}]   \n",
       "1              none  [{'role': 'user', 'content': 'hi!'}]   \n",
       "2              auto  [{'role': 'user', 'content': 'hi!'}]   \n",
       "3            forced  [{'role': 'user', 'content': 'hi!'}]   \n",
       "\n",
       "                                                                                                                                              response_mssg  \\\n",
       "0                                                                                    {'content': 'Hello! How can I assist you today?', 'role': 'assistant'}   \n",
       "1                                                                                    {'content': 'Hello! How can I assist you today?', 'role': 'assistant'}   \n",
       "2                                                                                    {'content': 'Hello! How can I assist you today?', 'role': 'assistant'}   \n",
       "3  {'content': None, 'function_call': {'arguments': '{\"location\":\"New York, NY\",\"unit\":\"fahrenheit\"}', 'name': 'get_current_weather'}, 'role': 'assistant'}   \n",
       "\n",
       "   prompt_tokens  completion_tokens  total_tokens  \n",
       "0              9                  9            18  \n",
       "1             77                  9            86  \n",
       "2             76                 10            86  \n",
       "3             86                 13            99  "
      ]
     },
     "execution_count": 142,
     "metadata": {},
     "output_type": "execute_result"
    }
   ],
   "source": [
    "import pandas as pd\n",
    "\n",
    "df = pd.DataFrame(DETAILS_DICT)\n",
    "pd.set_option(\"display.max_colwidth\", None)\n",
    "df"
   ]
  },
  {
   "cell_type": "markdown",
   "metadata": {},
   "source": [
    "## Pass function call results to model"
   ]
  },
  {
   "cell_type": "markdown",
   "metadata": {},
   "source": [
    "### Do the function call"
   ]
  },
  {
   "cell_type": "code",
   "execution_count": 145,
   "metadata": {},
   "outputs": [
    {
     "data": {
      "text/plain": [
       "<OpenAIObject at 0x1fb4f4a04d0> JSON: {\n",
       "  \"content\": null,\n",
       "  \"function_call\": {\n",
       "    \"arguments\": \"{\\\"location\\\":\\\"Boston, MA\\\",\\\"unit\\\":\\\"fahrenheit\\\"}\",\n",
       "    \"name\": \"get_current_weather\"\n",
       "  },\n",
       "  \"role\": \"assistant\"\n",
       "}"
      ]
     },
     "execution_count": 145,
     "metadata": {},
     "output_type": "execute_result"
    }
   ],
   "source": [
    "messages = [\n",
    "    {\n",
    "        \"role\": \"user\",\n",
    "        \"content\": \"What's the weather like in Boston?\"\n",
    "    }\n",
    "]\n",
    "\n",
    "response = openai.ChatCompletion.create(\n",
    "    deployment_id=deployment_id,\n",
    "    messages=messages,\n",
    "    temperature=0,\n",
    "    functions=functions\n",
    ")\n",
    "response_mssg = response[\"choices\"][0][\"message\"]\n",
    "response_mssg"
   ]
  },
  {
   "cell_type": "markdown",
   "metadata": {},
   "source": [
    "### Append the assistant's message to the prompt"
   ]
  },
  {
   "cell_type": "code",
   "execution_count": 146,
   "metadata": {},
   "outputs": [],
   "source": [
    "messages.append(response_mssg)"
   ]
  },
  {
   "cell_type": "markdown",
   "metadata": {},
   "source": [
    "### Append the function call results to the prompt"
   ]
  },
  {
   "cell_type": "code",
   "execution_count": 147,
   "metadata": {},
   "outputs": [],
   "source": [
    "args = json.loads(response_mssg['function_call']['arguments'])\n",
    "observation = get_current_weather(args)"
   ]
  },
  {
   "cell_type": "code",
   "execution_count": 148,
   "metadata": {},
   "outputs": [],
   "source": [
    "messages.append(\n",
    "    {\n",
    "        \"role\": \"function\",\n",
    "        \"name\": \"get_current_weather\",\n",
    "        \"content\": observation,\n",
    "    }\n",
    ")"
   ]
  },
  {
   "cell_type": "markdown",
   "metadata": {},
   "source": [
    "### Call the model"
   ]
  },
  {
   "cell_type": "code",
   "execution_count": 150,
   "metadata": {},
   "outputs": [
    {
     "data": {
      "text/plain": [
       "<OpenAIObject at 0x1fb4f4a05f0> JSON: {\n",
       "  \"content\": \"The current weather in Boston, MA is sunny and windy with a temperature of 32\\u00b0C.\",\n",
       "  \"role\": \"assistant\"\n",
       "}"
      ]
     },
     "execution_count": 150,
     "metadata": {},
     "output_type": "execute_result"
    }
   ],
   "source": [
    "response = openai.ChatCompletion.create(\n",
    "    deployment_id=deployment_id,\n",
    "    messages=messages,\n",
    "    temperature=0,\n",
    ")\n",
    "response_mssg = response[\"choices\"][0][\"message\"]\n",
    "response_mssg"
   ]
  }
 ],
 "metadata": {
  "kernelspec": {
   "display_name": "llm",
   "language": "python",
   "name": "python3"
  },
  "language_info": {
   "codemirror_mode": {
    "name": "ipython",
    "version": 3
   },
   "file_extension": ".py",
   "mimetype": "text/x-python",
   "name": "python",
   "nbconvert_exporter": "python",
   "pygments_lexer": "ipython3",
   "version": "3.11.3"
  }
 },
 "nbformat": 4,
 "nbformat_minor": 2
}
