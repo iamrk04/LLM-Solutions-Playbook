{
 "cells": [
  {
   "attachments": {},
   "cell_type": "markdown",
   "metadata": {},
   "source": [
    "# Document Loaders: Streamlined Data Ingestion\n",
    "There are many document loaders available in LangChain, but we will focus here on a few important ones. The `TextLoader` handles plain text files, `CSVLoader` handles csv files, while the `PyPDFLoader` specializes in PDF files, offering easy access to content and metadata. `SeleniumURLLoader` is designed for loading HTML documents from URLs that require JavaScript rendering. Lastly, the `GoogleDriveLoader` provides seamless integration with Google Drive, allowing for the import of data from Google Docs or folders.\n",
    "\n",
    "---"
   ]
  },
  {
   "attachments": {},
   "cell_type": "markdown",
   "metadata": {},
   "source": [
    "## Set environment variables"
   ]
  },
  {
   "cell_type": "code",
   "execution_count": 1,
   "metadata": {},
   "outputs": [],
   "source": [
    "import os\n",
    "from dotenv import load_dotenv, find_dotenv\n",
    "\n",
    "_ = load_dotenv(find_dotenv())"
   ]
  },
  {
   "attachments": {},
   "cell_type": "markdown",
   "metadata": {},
   "source": [
    "## `TextLoader` (Text)\n",
    "Handles plain text files. You can use the `encoding` argument to change the encoding type."
   ]
  },
  {
   "cell_type": "code",
   "execution_count": 3,
   "metadata": {},
   "outputs": [
    {
     "name": "stdout",
     "output_type": "stream",
     "text": [
      "1\n"
     ]
    },
    {
     "data": {
      "text/plain": [
       "[Document(page_content=\"Google opens up its AI language model PaLM to challenge OpenAI and GPT-3\\nGoogle is offering developers access to one of its most advanced AI language models: PaLM.\\nThe search giant is launching an API for PaLM alongside a number of AI enterprise tools\\nit says will help businesses “generate text, images, code, videos, audio, and more from\\nsimple natural language prompts.”\\n\\nPaLM is a large language model, or LLM, similar to the GPT series created by OpenAI or\\nMeta's LLaMA family of models. Google first announced PaLM in April 2022. Like other LLMs,\\nPaLM is a flexible system that can potentially carry out all sorts of text generation and\\nediting tasks. You could train PaLM to be a conversational chatbot like ChatGPT, for\\nexample, or you could use it for tasks like summarizing text or even writing code.\\n(It's similar to features Google also announced today for its Workspace apps like Google\\nDocs and Gmail.)\\n\", metadata={'source': '../../data/PaLM.txt'})]"
      ]
     },
     "execution_count": 3,
     "metadata": {},
     "output_type": "execute_result"
    }
   ],
   "source": [
    "from langchain.document_loaders import TextLoader\n",
    "\n",
    "loader = TextLoader(\"../../data/PaLM.txt\")\n",
    "documents = loader.load()\n",
    "print(len(documents))\n",
    "documents"
   ]
  },
  {
   "attachments": {},
   "cell_type": "markdown",
   "metadata": {},
   "source": [
    "## `CSVLoader` (csv)"
   ]
  },
  {
   "cell_type": "code",
   "execution_count": 2,
   "metadata": {},
   "outputs": [
    {
     "data": {
      "text/plain": [
       "Document(page_content=\": 0\\nname: Women's Campside Oxfords\\ndescription: This ultracomfortable lace-to-toe Oxford boasts a super-soft canvas, thick cushioning, and quality construction for a broken-in feel from the first time you put them on. \\r\\n\\r\\nSize & Fit: Order regular shoe size. For half sizes not offered, order up to next whole size. \\r\\n\\r\\nSpecs: Approx. weight: 1 lb.1 oz. per pair. \\r\\n\\r\\nConstruction: Soft canvas material for a broken-in feel and look. Comfortable EVA innersole with Cleansport NXT® antimicrobial odor control. Vintage hunt, fish and camping motif on innersole. Moderate arch contour of innersole. EVA foam midsole for cushioning and support. Chain-tread-inspired molded rubber outsole with modified chain-tread pattern. Imported. \\r\\n\\r\\nQuestions? Please contact us for any inquiries.\", metadata={'source': '../../data/OutdoorClothingCatalog_1000_small.csv', 'row': 0})"
      ]
     },
     "execution_count": 2,
     "metadata": {},
     "output_type": "execute_result"
    }
   ],
   "source": [
    "from langchain.document_loaders import CSVLoader\n",
    "\n",
    "file = \"../../data/OutdoorClothingCatalog_1000_small.csv\"\n",
    "loader = CSVLoader(file_path=file)\n",
    "data = loader.load()\n",
    "data[0]"
   ]
  },
  {
   "attachments": {},
   "cell_type": "markdown",
   "metadata": {},
   "source": [
    "## `PyPDFLoader` (PDF)\n",
    "Handles PDF files. The LangChain library provides two methods for loading and processing PDF files: `PyPDFLoader` and `PDFMinerLoader`. Using `PyPDFLoader` offers advantages such as simple, straightforward usage and easy access to page content and metadata, like page numbers, in a structured format. However, it has disadvantages, including limited text extraction capabilities compared to `PDFMinerLoader`."
   ]
  },
  {
   "cell_type": "code",
   "execution_count": 3,
   "metadata": {},
   "outputs": [
    {
     "name": "stdout",
     "output_type": "stream",
     "text": [
      "page_content='1 \\n \\nAcademic Skills, Trent University    www.trentu.ca/academicskills  \\nPeterborough, ON Canada                     © 2014  \\n  Writing Article Summaries  \\n \\n \\nUnderstanding Article Summaries  \\nAn article summary is a short, focused paper about one scholarly \\narticle. This paper is informed by critical reading of an article. For \\nargumentative articles, the summary identifies, explains, and \\nanalyses the thesis and supporting arguments; for empirica l articles, \\nthe summary identifies, explains, and analyses the research \\nquestions, methods, and findings.  \\nAlthough article summaries are often short and rarely account for a \\nlarge portion of your grade, they are a strong indicator of your \\nreading and writ ing skills. Professors ask you to write article \\nsummaries to help you to develop essential skills in critical reading, \\nsummarizing, and clear, organized writing. Furthermore, an article \\nsummary requires you to read a scholarly article quite closely, which \\nprovides a useful introduction to the conventions of writing in your \\ndiscipline (e.g. Political Studies, Biology, or Anthropology).  \\nCommon Problems in Article Summaries  \\nThe most common problem that students have when writing an \\narticle summary is that the y misunderstand the goal of the \\nassignment. In an article summary, your job is to write about the \\narticle,  not about the actual topic of the article. For example, if you \\nare summarizing Smith’s a rticle about the causes of the B ubonic \\nplague in Europe, your  summary should be about Smith’s article: \\nWhat does she want to find out about the plague? What evidence \\ndoes she use? What is her argument? You are not writing a pa per \\nabout the actual causes of B ubonic plague in Europe.  Further, a s a part of critical r eading, you will often consider your \\nown position on a topic or an argument; it is tempting to include an \\nassessment or opinion about the thesis or findings, but this is not \\nthe goal of an article summary. Rather, you must identify, explain, \\nand analyse the  main point and how it is supported.  \\nRead Carefully and Closely  \\nYour key to success in writing an article summary is your \\nunderstanding of the article; therefore, it is essential to read \\ncarefully and closely. The Academic Skills Centre  offers helpful \\ninstruction on the steps for critical reading: pre -reading, active and \\nanalytical reading, and reflection.  \\nArgumentative Articles  \\n As you read an argumentative article, consider the following \\nquestions:  \\n1. What is the topic?  \\n2. What is the research question? In other words, what is the \\nauthor trying to find out about that topic?  \\n3. What is the thesis or position? What are the supporting \\nargum ents?  \\n4. How are supporting arguments developed? What kind of \\nevidence is used?  \\n5. What is the significance of the author’s thesis? What does it \\nhelp you to understand about the topic?  \\nEmpirical Articles  \\nAs you read an empirical article, consider the following  questions:  \\n1. What is the topic?  \\n2. What is the research question?' metadata={'source': '../../data/WritingArticleSummary.pdf', 'page': 0}\n"
     ]
    }
   ],
   "source": [
    "from langchain.document_loaders import PyPDFLoader\n",
    "\n",
    "loader = PyPDFLoader(\"../../data/WritingArticleSummary.pdf\")\n",
    "pages = loader.load_and_split()\n",
    "\n",
    "print(pages[0])"
   ]
  },
  {
   "attachments": {},
   "cell_type": "markdown",
   "metadata": {},
   "source": [
    "## `SeleniumURLLoader` (URL)\n",
    "The `SeleniumURLLoader` module offers a robust yet user-friendly approach for loading HTML documents from a list of URLs requiring JavaScript rendering. The `SeleniumURLLoader` class includes the following attributes:\n",
    "- URLs (List[str]): List of URLs to load.\n",
    "- continue_on_failure (bool, default=True): Continues loading other URLs on failure if True.\n",
    "- browser (str, default=\"chrome\"): Browser selection, either 'Chrome' or 'Firefox'.\n",
    "- executable_path (Optional[str], default=None): Browser executable path.\n",
    "- headless (bool, default=True): Browser runs in headless mode if True.\n",
    "\n",
    "> Note: Please provide the full path to your browser executable file in `binary_location`."
   ]
  },
  {
   "cell_type": "code",
   "execution_count": 4,
   "metadata": {},
   "outputs": [
    {
     "name": "stdout",
     "output_type": "stream",
     "text": [
      "page_content=\"OPENASSISTANT TAKES ON CHATGPT!\\n\\nInfo\\n\\nShopping\\n\\nWatch Later\\n\\nShare\\n\\nCopy link\\n\\nTap to unmute\\n\\nIf playback doesn't begin shortly, try restarting your device.\\n\\nUp next\\n\\nLiveUpcoming\\n\\nPlay now\\n\\nMachine Learning Street Talk\\n\\nSubscribe\\n\\nSubscribed\\n\\nYou're signed out\\n\\nVideos that you watch may be added to the TV's watch history and influence TV recommendations. To avoid this, cancel and sign in to YouTube on your computer.\\n\\nSwitch camera\\n\\nShare\\n\\nAn error occurred while retrieving sharing information. Please try again later.\\n\\n2:19\\n\\n2:19 / 59:51\\n\\nWatch full video\\n\\n•\\n\\nScroll for details\\n\\nNew!\\n\\nWatch ads now so that you can enjoy fewer interruptions\\n\\nGot it\\n\\nAbout\\n\\nPress\\n\\nCopyright\\n\\nContact us\\n\\nCreator\\n\\nAdvertise\\n\\nDevelopers\\n\\nTerms\\n\\nPrivacy\\n\\nPolicy & Safety\\n\\nHow YouTube works\\n\\nTest new features\\n\\n© 2023 Google LLC\" metadata={'source': 'https://www.youtube.com/watch?v=TFa539R09EQ&t=139s'}\n"
     ]
    }
   ],
   "source": [
    "from langchain.document_loaders import SeleniumURLLoader\n",
    "\n",
    "urls = [\n",
    "    \"https://www.youtube.com/watch?v=TFa539R09EQ&t=139s\",\n",
    "    \"https://www.youtube.com/watch?v=6Zv6A_9urh4&t=112s\",\n",
    "]\n",
    "\n",
    "loader = SeleniumURLLoader(\n",
    "    urls=urls,\n",
    "    binary_location=os.environ.get(\"BROWSER_EXEC_PATH\"),\n",
    ")\n",
    "data = loader.load()\n",
    "\n",
    "print(data[0])"
   ]
  },
  {
   "attachments": {},
   "cell_type": "markdown",
   "metadata": {},
   "source": [
    "## `GoogleDriveLoader`\n",
    "Prepare necessary credentials and tokens:\n",
    "- By default, the GoogleDriveLoader searches for the credentials.json file in ~/.credentials/credentials.json. Use the `credentials_file` keyword argument to modify this path.\n",
    "- The token.json file follows the same principle and will be created automatically upon the loader's first use.\n",
    "\n",
    "To set up the credentials_file, follow these steps:\n",
    "- Create a new Google Cloud Platform project or use an existing one by visiting the Google Cloud Console. Ensure that billing is enabled for your project.\n",
    "- Enable the Google Drive API by navigating to its dashboard in the Google Cloud Console and clicking \"Enable.\"\n",
    "- Create a service account by going to the Service Accounts page in the Google Cloud Console. Follow the prompts to set up a new service account.\n",
    "- Assign necessary roles to the service account, such as \"Google Drive API - Drive File Access\" and \"Google Drive API - Drive Metadata Read/Write Access,\" depending on your needs.\n",
    "- After creating the service account, access the \"Actions\" menu next to it, select \"Manage keys,\" click \"Add Key,\" and choose \"JSON\" as the key type. This generates a JSON key file and downloads it to your computer, which serves as your credentials_file.\n",
    "\n",
    "Retrieve the folder or document ID from the URL:\n",
    "- Folder: https://drive.google.com/drive/u/0/folders/{folder_id}\n",
    "- Document: https://docs.google.com/document/d/{document_id}/edit"
   ]
  },
  {
   "cell_type": "code",
   "execution_count": null,
   "metadata": {},
   "outputs": [],
   "source": [
    "from langchain.document_loaders import GoogleDriveLoader\n",
    "\n",
    "loader = GoogleDriveLoader(\n",
    "    folder_id=\"your_folder_id\",\n",
    "    recursive=False,  # Optional: Fetch files from subfolders recursively. Defaults to False.\n",
    ")\n",
    "docs = loader.load()"
   ]
  }
 ],
 "metadata": {
  "kernelspec": {
   "display_name": "llm",
   "language": "python",
   "name": "python3"
  },
  "language_info": {
   "codemirror_mode": {
    "name": "ipython",
    "version": 3
   },
   "file_extension": ".py",
   "mimetype": "text/x-python",
   "name": "python",
   "nbconvert_exporter": "python",
   "pygments_lexer": "ipython3",
   "version": "3.11.3"
  }
 },
 "nbformat": 4,
 "nbformat_minor": 2
}
