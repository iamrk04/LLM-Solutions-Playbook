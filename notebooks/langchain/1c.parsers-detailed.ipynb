{
 "cells": [
  {
   "attachments": {},
   "cell_type": "markdown",
   "metadata": {},
   "source": [
    "# Parsers Detailed\n",
    "While the language models can only generate textual outputs, a predictable data structure is always preferred in a production environment. The Output Parsers help create a data structure to define the expectations from the output precisely. We can ask for a list of words in case of the word suggestion application or a combination of different variables like a word and the explanation of why it fits. The parser can extract the expected information for you.\n",
    "\n",
    "Throughout this notebook, we will work on a thesaurus application that has to generate a list of possible substitute words based on the context.\n",
    "\n",
    "---"
   ]
  },
  {
   "attachments": {},
   "cell_type": "markdown",
   "metadata": {},
   "source": [
    "## 1. Output Parsers"
   ]
  },
  {
   "attachments": {},
   "cell_type": "markdown",
   "metadata": {},
   "source": [
    "### 1.1 `PydanticOutputParser`\n",
    "This class instructs the model to generate its output in a JSON format and then extract the information from the response. This class uses the Pydantic library, which helps define and validate data structures in Python. It enables us to characterize the expected output with a name, type, and description.\n",
    "\n",
    "We need a variable that can store multiple suggestions in the thesaurus example. It can be easily done by defining a class that inherits from the Pydantic’s `BaseModel` class."
   ]
  },
  {
   "cell_type": "code",
   "execution_count": 1,
   "metadata": {},
   "outputs": [
    {
     "name": "stderr",
     "output_type": "stream",
     "text": [
      "c:\\Users\\rahulkuma\\AppData\\Local\\anaconda3\\envs\\llm\\Lib\\site-packages\\deeplake\\util\\check_latest_version.py:32: UserWarning: A newer version of deeplake (3.6.7) is available. It's recommended that you update to the latest version using `pip install -U deeplake`.\n",
      "  warnings.warn(\n"
     ]
    }
   ],
   "source": [
    "from langchain.output_parsers import PydanticOutputParser\n",
    "from pydantic import BaseModel, Field, validator\n",
    "from typing import List\n",
    "\n",
    "# Define your desired data structure.\n",
    "class Suggestions(BaseModel):\n",
    "    words: List[str] = Field(description=\"list of substitue words based on context\")\n",
    "\n",
    "    # Throw error in case of receiving a numbered-list from API\n",
    "    @validator(\"words\")\n",
    "    def not_start_with_number(cls, field):\n",
    "        for item in field:\n",
    "            if item[0].isnumeric():\n",
    "                raise ValueError(\"The word can not start with numbers!\")\n",
    "        return field\n",
    "\n",
    "\n",
    "parser = PydanticOutputParser(pydantic_object=Suggestions)"
   ]
  },
  {
   "cell_type": "code",
   "execution_count": 2,
   "metadata": {},
   "outputs": [],
   "source": [
    "from langchain.prompts import PromptTemplate\n",
    "\n",
    "template = \"\"\"\n",
    "Offer a list of suggestions to substitue the specified target_word based on the presented context.\n",
    "{format_instructions}\n",
    "target_word={target_word}\n",
    "context={context}\n",
    "\"\"\"\n",
    "\n",
    "prompt = PromptTemplate(\n",
    "    template=template,\n",
    "    input_variables=[\"target_word\", \"context\"],  # initialized later\n",
    "    partial_variables={\n",
    "        \"format_instructions\": parser.get_format_instructions()\n",
    "    },  # initialized instantly\n",
    ")\n",
    "\n",
    "model_input = prompt.format_prompt(\n",
    "    target_word=\"behaviour\",\n",
    "    context=\"The behaviour of the students in the classroom was disruptive and made it difficult for the teacher to conduct the lesson.\",\n",
    ")"
   ]
  },
  {
   "cell_type": "code",
   "execution_count": 3,
   "metadata": {},
   "outputs": [
    {
     "data": {
      "text/plain": [
       "Suggestions(words=['conduct', 'actions', 'attitude', 'manner', 'demeanor'])"
      ]
     },
     "execution_count": 3,
     "metadata": {},
     "output_type": "execute_result"
    }
   ],
   "source": [
    "from langchain.chat_models import AzureChatOpenAI\n",
    "\n",
    "model = AzureChatOpenAI(deployment_name=\"gpt4\", temperature=0.0)\n",
    "\n",
    "output = model.predict(model_input.to_string())\n",
    "\n",
    "parser.parse(output)"
   ]
  },
  {
   "attachments": {},
   "cell_type": "markdown",
   "metadata": {},
   "source": [
    "#### Multiple Outputs Example\n",
    "Here is a sample code for Pydantic class to process multiple outputs. It requests the model to suggest a list of words and present the reasoning behind each proposition."
   ]
  },
  {
   "cell_type": "code",
   "execution_count": 4,
   "metadata": {},
   "outputs": [],
   "source": [
    "class Suggestions(BaseModel):\n",
    "    words: List[str] = Field(description=\"list of substitue words based on context\")\n",
    "    reasons: List[str] = Field(\n",
    "        description=\"the reasoning of why this word fits the context\"\n",
    "    )\n",
    "\n",
    "    @validator(\"words\")\n",
    "    def not_start_with_number(cls, field):\n",
    "        for item in field:\n",
    "            if item[0].isnumeric():\n",
    "                raise ValueError(\"The word can not start with numbers!\")\n",
    "        return field\n",
    "\n",
    "    # manipulates the output to ensure every reasoning ends with a dot.\n",
    "    @validator(\"reasons\")\n",
    "    def end_with_dot(cls, field):\n",
    "        for idx, item in enumerate(field):\n",
    "            if item[-1] != \".\":\n",
    "                field[idx] += \".\"\n",
    "        return field\n",
    "\n",
    "\n",
    "parser = PydanticOutputParser(pydantic_object=Suggestions)"
   ]
  },
  {
   "cell_type": "code",
   "execution_count": 5,
   "metadata": {},
   "outputs": [],
   "source": [
    "template = \"\"\"\n",
    "Offer a list of suggestions to substitute the specified target_word based \\\n",
    "on the presented context and the reasoning for each word.\n",
    "{format_instructions}\n",
    "target_word={target_word}\n",
    "context={context}\n",
    "\"\"\"\n",
    "\n",
    "prompt = PromptTemplate(\n",
    "    template=template,\n",
    "    input_variables=[\"target_word\", \"context\"],  # initialized later\n",
    "    partial_variables={\n",
    "        \"format_instructions\": parser.get_format_instructions()\n",
    "    },  # initialized instantly\n",
    ")\n",
    "\n",
    "# .format_prompt() returns PromptValue. Need to use .to_string() to convert it into string.\n",
    "model_input = prompt.format_prompt(\n",
    "    target_word=\"behaviour\",\n",
    "    context=\"The behaviour of the students in the classroom was disruptive and made it difficult for the teacher to conduct the lesson.\",\n",
    ")"
   ]
  },
  {
   "cell_type": "code",
   "execution_count": 6,
   "metadata": {},
   "outputs": [
    {
     "data": {
      "text/plain": [
       "Suggestions(words=['conduct', 'actions', 'attitude', 'manner', 'demeanor'], reasons=['Conduct refers to the way people behave in a particular situation, which fits the context of students in a classroom.', 'Actions can describe the specific things the students were doing that were disruptive.', 'Attitude refers to the general disposition or mindset of the students, which could be causing the disruption.', 'Manner describes the way in which the students were behaving, which is relevant to the context.', 'Demeanor refers to the outward behavior or bearing of the students, which can be disruptive in a classroom setting.'])"
      ]
     },
     "execution_count": 6,
     "metadata": {},
     "output_type": "execute_result"
    }
   ],
   "source": [
    "output = model.predict(model_input.to_string())\n",
    "\n",
    "parser.parse(output)"
   ]
  },
  {
   "cell_type": "code",
   "execution_count": 7,
   "metadata": {},
   "outputs": [
    {
     "data": {
      "text/plain": [
       "'\\nOffer a list of suggestions to substitute the specified target_word based on the presented context and the reasoning for each word.\\nThe output should be formatted as a JSON instance that conforms to the JSON schema below.\\n\\nAs an example, for the schema {\"properties\": {\"foo\": {\"title\": \"Foo\", \"description\": \"a list of strings\", \"type\": \"array\", \"items\": {\"type\": \"string\"}}}, \"required\": [\"foo\"]}}\\nthe object {\"foo\": [\"bar\", \"baz\"]} is a well-formatted instance of the schema. The object {\"properties\": {\"foo\": [\"bar\", \"baz\"]}} is not well-formatted.\\n\\nHere is the output schema:\\n```\\n{\"properties\": {\"words\": {\"title\": \"Words\", \"description\": \"list of substitue words based on context\", \"type\": \"array\", \"items\": {\"type\": \"string\"}}, \"reasons\": {\"title\": \"Reasons\", \"description\": \"the reasoning of why this word fits the context\", \"type\": \"array\", \"items\": {\"type\": \"string\"}}}, \"required\": [\"words\", \"reasons\"]}\\n```\\ntarget_word=behaviour\\ncontext=The behaviour of the students in the classroom was disruptive and made it difficult for the teacher to conduct the lesson.\\n'"
      ]
     },
     "execution_count": 7,
     "metadata": {},
     "output_type": "execute_result"
    }
   ],
   "source": [
    "# Check the prompt to the model\n",
    "model_input.to_string()"
   ]
  },
  {
   "attachments": {},
   "cell_type": "markdown",
   "metadata": {},
   "source": [
    "### 1.2 `CommaSeparatedOutputParser`\n",
    "It is evident from the name of this class that it manages comma-separated outputs. It handles one specific case: **anytime you want to receive a list of outputs from the model**. However, requesting additional reasoning information using the `CommaSeparatedOutputParser` class is impossible."
   ]
  },
  {
   "cell_type": "code",
   "execution_count": 8,
   "metadata": {},
   "outputs": [],
   "source": [
    "from langchain.output_parsers import CommaSeparatedListOutputParser\n",
    "\n",
    "parser = CommaSeparatedListOutputParser()"
   ]
  },
  {
   "cell_type": "code",
   "execution_count": 9,
   "metadata": {},
   "outputs": [
    {
     "data": {
      "text/plain": [
       "['conduct',\n",
       " 'demeanor',\n",
       " 'actions',\n",
       " 'attitude',\n",
       " 'manners',\n",
       " 'performance',\n",
       " 'deportment',\n",
       " 'bearing']"
      ]
     },
     "execution_count": 9,
     "metadata": {},
     "output_type": "execute_result"
    }
   ],
   "source": [
    "# Prepare the Prompt\n",
    "template = \"\"\"\n",
    "Offer a list of suggestions to substitute the word '{target_word}' \\\n",
    "based on the presented following text: {context}.\n",
    "{format_instructions}\n",
    "\"\"\"\n",
    "\n",
    "prompt = PromptTemplate(\n",
    "    template=template,\n",
    "    input_variables=[\"target_word\", \"context\"],\n",
    "    partial_variables={\"format_instructions\": parser.get_format_instructions()},\n",
    ")\n",
    "\n",
    "# .format() returns string. No need to use .to_string().\n",
    "model_input = prompt.format(\n",
    "    target_word=\"behaviour\",\n",
    "    context=\"The behaviour of the students in the classroom was disruptive and made it difficult for the teacher to conduct the lesson.\",\n",
    ")\n",
    "\n",
    "# Send the Request\n",
    "output = model.predict(model_input)\n",
    "parser.parse(output)"
   ]
  },
  {
   "attachments": {},
   "cell_type": "markdown",
   "metadata": {},
   "source": [
    "### 1.3 `StructuredOutputParser`\n",
    "While it can process multiple outputs, it is not as rich as `PydanticOutputParser`. It results in json output.\n",
    "\n",
    "The code below demonstrates how to define a schema. This class lies in between `PydanticOutputParser` class which provides validation and more flexibility for more complex tasks, and the `CommaSeparatedOutputParser` class which covers more straightforward applications."
   ]
  },
  {
   "cell_type": "code",
   "execution_count": 10,
   "metadata": {},
   "outputs": [],
   "source": [
    "from langchain.output_parsers import StructuredOutputParser, ResponseSchema\n",
    "\n",
    "response_schemas = [\n",
    "    ResponseSchema(\n",
    "        name=\"word\", description=\"A list of substitue words based on context\"\n",
    "    ),\n",
    "    ResponseSchema(\n",
    "        name=\"reason\",\n",
    "        description=\"A list of reasoning about why word fits the context.\",\n",
    "    ),\n",
    "]\n",
    "\n",
    "parser = StructuredOutputParser.from_response_schemas(response_schemas)"
   ]
  },
  {
   "cell_type": "code",
   "execution_count": 11,
   "metadata": {},
   "outputs": [
    {
     "data": {
      "text/plain": [
       "{'word': ['conduct', 'actions', 'attitude', 'manner', 'demeanor'],\n",
       " 'reason': [\"similar meaning in the context of students' actions\",\n",
       "  'refers to the way students act',\n",
       "  \"describes the students' mindset and actions\",\n",
       "  'refers to the way students behave',\n",
       "  \"describes the students' outward appearance and actions\"]}"
      ]
     },
     "execution_count": 11,
     "metadata": {},
     "output_type": "execute_result"
    }
   ],
   "source": [
    "template = \"\"\"\n",
    "Offer a list of suggestions to substitute the specified target_word based \\\n",
    "on the presented context and the reasoning for each word in the following format:\n",
    "\n",
    "word: list the substitute words here as a comma-separated Python list.\n",
    "reason: list the reasoning for each word here as a comma-separated Python list.\n",
    "\n",
    "target_word: {target_word}\n",
    "context: {context}\n",
    "\n",
    "{format_instructions}\n",
    "\"\"\"\n",
    "\n",
    "prompt = PromptTemplate(\n",
    "    template=template,\n",
    "    input_variables=[\"target_word\", \"context\"],  # initialized later\n",
    "    partial_variables={\n",
    "        \"format_instructions\": parser.get_format_instructions()\n",
    "    },  # initialized instantly\n",
    ")\n",
    "\n",
    "# .format_prompt() returns PromptValue. Need to use .to_string() to convert it into string.\n",
    "model_input = prompt.format_prompt(\n",
    "    target_word=\"behaviour\",\n",
    "    context=\"The behaviour of the students in the classroom was disruptive and made it difficult for the teacher to conduct the lesson.\",\n",
    ")\n",
    "\n",
    "# Send the Request\n",
    "output = model.predict(model_input.to_string())\n",
    "parser.parse(output)"
   ]
  },
  {
   "attachments": {},
   "cell_type": "markdown",
   "metadata": {},
   "source": [
    "## 2. Fixing Errors\n",
    "The parsers are powerful tools to dynamically extract the information from the prompt and validate it to some extent. Still, they do not guarantee a response. Imagine a situation where you deployed your application, and the model’s response [to a user’s request] is incomplete, causing the parser to throw an error. It is not ideal! In the following subsections, we will introduce two classes acting as fail-safe. They add a layer on top of the model’s response to help fix the errors.\n",
    "\n",
    "> Note: The best practice to incorporate these techniques in production is to catch the parsing error using a `try: ... except: ...` method. It means we can capture the errors in the `except` section and attempt to fix them using the mentioned classes. It will limit the number of API calls and avoid unnecessary costs that are associated with it."
   ]
  },
  {
   "attachments": {},
   "cell_type": "markdown",
   "metadata": {},
   "source": [
    "### 2.1 `OutputFixingParser`\n",
    "This method tries to fix the parsing error by looking at the model’s response and the previous parser. It uses a Large Language Model (LLM) to solve the issue."
   ]
  },
  {
   "attachments": {},
   "cell_type": "markdown",
   "metadata": {},
   "source": [
    "#### Create the error\n",
    "The code below will generate an error in the last line because we used the word `reasoning` in `missformatted_output` instead of the expected `reasons` key from `Suggestions` class."
   ]
  },
  {
   "cell_type": "code",
   "execution_count": null,
   "metadata": {},
   "outputs": [],
   "source": [
    "from langchain.output_parsers import PydanticOutputParser\n",
    "from pydantic import BaseModel, Field\n",
    "from typing import List\n",
    "\n",
    "# Define your desired data structure.\n",
    "class Suggestions(BaseModel):\n",
    "    words: List[str] = Field(description=\"list of substitue words based on context\")\n",
    "    reasons: List[str] = Field(\n",
    "        description=\"the reasoning of why this word fits the context\"\n",
    "    )\n",
    "\n",
    "\n",
    "parser = PydanticOutputParser(pydantic_object=Suggestions)\n",
    "\n",
    "missformatted_output = '{\"words\": [\"conduct\", \"manner\"], \"reasoning\": [\"refers to the way someone acts in a particular situation.\", \"refers to the way someone behaves in a particular situation.\"]}'\n",
    "\n",
    "parser.parse(missformatted_output)"
   ]
  },
  {
   "cell_type": "markdown",
   "metadata": {},
   "source": [
    "#### Fix the error"
   ]
  },
  {
   "cell_type": "code",
   "execution_count": 13,
   "metadata": {},
   "outputs": [
    {
     "data": {
      "text/plain": [
       "Suggestions(words=['conduct', 'manner'], reasons=['refers to the way someone acts in a particular situation.', 'refers to the way someone behaves in a particular situation.'])"
      ]
     },
     "execution_count": 13,
     "metadata": {},
     "output_type": "execute_result"
    }
   ],
   "source": [
    "from langchain.output_parsers import OutputFixingParser\n",
    "\n",
    "outputfixing_parser = OutputFixingParser.from_llm(parser=parser, llm=model)\n",
    "outputfixing_parser.parse(missformatted_output)"
   ]
  },
  {
   "attachments": {},
   "cell_type": "markdown",
   "metadata": {},
   "source": [
    "The `from_llm()` function takes the old parser and a language model as input parameters. Then, It initializes a new parser for you that has the ability to fix output errors. In this case, it successfully identified the misnamed key and changed it to what we defined.\n",
    "\n",
    "However, fixing the issues using this class is not always possible. And, in such scenarios we should use `RetryOutputParser` class."
   ]
  },
  {
   "attachments": {},
   "cell_type": "markdown",
   "metadata": {},
   "source": [
    "### 2.2 `RetryOutputParser`\n",
    "In some cases, the parser needs access to both the output and the prompt to process the full context."
   ]
  },
  {
   "cell_type": "code",
   "execution_count": 17,
   "metadata": {},
   "outputs": [],
   "source": [
    "template = \"\"\"\n",
    "Offer a list of suggestions to substitute the specified target_word based \\\n",
    "on the presented context and the reasoning for each word in the following format:\n",
    "\n",
    "word: list the substitute words here as a comma-separated Python list.\n",
    "reason: list the reasoning for each word here as a comma-separated Python list.\n",
    "\n",
    "target_word: {target_word}\n",
    "context: {context}\n",
    "\n",
    "{format_instructions}\n",
    "\"\"\"\n",
    "\n",
    "prompt = PromptTemplate(\n",
    "    template=template,\n",
    "    input_variables=[\"target_word\", \"context\"],  # initialized later\n",
    "    partial_variables={\n",
    "        \"format_instructions\": parser.get_format_instructions()\n",
    "    },  # initialized instantly\n",
    ")\n",
    "\n",
    "# .format_prompt() returns PromptValue. Need to use .to_string() to convert it into string.\n",
    "model_input = prompt.format_prompt(\n",
    "    target_word=\"behaviour\",\n",
    "    context=\"The behaviour of the students in the classroom was disruptive and made it difficult for the teacher to conduct the lesson.\",\n",
    ")"
   ]
  },
  {
   "cell_type": "code",
   "execution_count": 18,
   "metadata": {},
   "outputs": [
    {
     "data": {
      "text/plain": [
       "Suggestions(words=['conduct', 'manner', 'attitude'], reasons=[\"'conduct' refers to the way people behave in a particular situation\", \"'manner' refers to the way people act or behave\", \"'attitude' refers to the way people display their feelings or thoughts through their actions\"])"
      ]
     },
     "execution_count": 18,
     "metadata": {},
     "output_type": "execute_result"
    }
   ],
   "source": [
    "from langchain.output_parsers import RetryWithErrorOutputParser\n",
    "\n",
    "missformatted_output = '{\"words\": [\"conduct\", \"manner\"]}'\n",
    "\n",
    "retry_parser = RetryWithErrorOutputParser.from_llm(parser=parser, llm=model)\n",
    "\n",
    "retry_parser.parse_with_prompt(missformatted_output, model_input)"
   ]
  }
 ],
 "metadata": {
  "kernelspec": {
   "display_name": "llm",
   "language": "python",
   "name": "python3"
  },
  "language_info": {
   "codemirror_mode": {
    "name": "ipython",
    "version": 3
   },
   "file_extension": ".py",
   "mimetype": "text/x-python",
   "name": "python",
   "nbconvert_exporter": "python",
   "pygments_lexer": "ipython3",
   "version": "3.11.0"
  }
 },
 "nbformat": 4,
 "nbformat_minor": 2
}
