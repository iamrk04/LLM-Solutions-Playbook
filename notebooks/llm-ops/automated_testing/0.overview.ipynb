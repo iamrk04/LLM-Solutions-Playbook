{
 "cells": [
  {
   "cell_type": "markdown",
   "metadata": {},
   "source": [
    "# Automated Testing for LLMOps\n",
    "\n",
    "---"
   ]
  },
  {
   "cell_type": "markdown",
   "metadata": {},
   "source": [
    "\n",
    "\n",
    "\n",
    "<br/>\n",
    "<img src=\"../../../images/traditional-software-vs-llm.png\" alt=\"Traditional Software vs LLM\" style=\"width: 70%; height: auto;\"/>"
   ]
  },
  {
   "cell_type": "markdown",
   "metadata": {},
   "source": [
    "We wil be using two ways to automatically evaluate our LLM app:\n",
    "- **Rule Based Evals**: use string or pattern matching to evaluate response from LLM\n",
    "- **Model Gaded Evals**: use LLM to evaluate response from another LLM"
   ]
  }
 ],
 "metadata": {
  "language_info": {
   "name": "python"
  }
 },
 "nbformat": 4,
 "nbformat_minor": 2
}
