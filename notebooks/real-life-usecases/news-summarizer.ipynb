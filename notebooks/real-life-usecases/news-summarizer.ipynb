{
 "cells": [
  {
   "attachments": {},
   "cell_type": "markdown",
   "metadata": {},
   "source": [
    "# News Summarizer\n",
    "The idea is to build a News Articles Summarizer that will do the following:\n",
    "- firstly get the latest news article with the help of the News API.\n",
    "- then summarize the fetched news article using LLM under some word limit.\n",
    "\n",
    "---"
   ]
  },
  {
   "attachments": {},
   "cell_type": "markdown",
   "metadata": {},
   "source": [
    "## Setup\n",
    "You will need the API key for the News API which you can get from [here](https://newsdata.io/). You will have to create an account to proceed with generation of API key. Once you have the API key, you can define it in the `.env` file like this: `NEWSDATA_KEY=\"<your-api-key>\"`"
   ]
  },
  {
   "cell_type": "code",
   "execution_count": 1,
   "metadata": {},
   "outputs": [],
   "source": [
    "import openai\n",
    "import os\n",
    "from dotenv import load_dotenv, find_dotenv\n",
    "\n",
    "_ = load_dotenv(find_dotenv())\n",
    "openai.api_type = os.environ.get(\"OPENAI_API_TYPE\")\n",
    "openai.api_base = os.environ.get(\"OPENAI_API_BASE\")\n",
    "openai.api_version = os.environ.get(\"OPENAI_API_VERSION\")\n",
    "openai.api_key = os.environ.get(\"OPENAI_API_KEY\")"
   ]
  },
  {
   "cell_type": "code",
   "execution_count": 2,
   "metadata": {},
   "outputs": [],
   "source": [
    "from newsdataapi import NewsDataApiClient\n",
    "from langchain.agents import initialize_agent, Tool\n",
    "from langchain.agents import AgentType\n",
    "from time import sleep"
   ]
  },
  {
   "attachments": {},
   "cell_type": "markdown",
   "metadata": {},
   "source": [
    "## `NewsExtractor` class\n",
    "Responsible for getting the news articles from the News API."
   ]
  },
  {
   "cell_type": "code",
   "execution_count": 3,
   "metadata": {},
   "outputs": [],
   "source": [
    "class NewsExtractor:\n",
    "    \"\"\"\n",
    "    A class for extracting the latest news based on a search query.\n",
    "    \"\"\"\n",
    "\n",
    "    def __init__(self, search_query: str = None):\n",
    "        \"\"\"\n",
    "        Initializes the NewsExtractor instance.\n",
    "\n",
    "        :param search_query: The text to be searched. Defaults to None.\n",
    "        :type search_query: str, optional\n",
    "        \"\"\"\n",
    "        self.search_query = search_query\n",
    "\n",
    "    def get_news(self, input: str) -> str:\n",
    "        \"\"\"\n",
    "        Gets a single latest news.\n",
    "\n",
    "        :param input: Empty string, to be used by agent.\n",
    "        :type query: str\n",
    "        :return: A string containing the latest news.\n",
    "        :rtype: str\n",
    "        \"\"\"\n",
    "        import random\n",
    "\n",
    "        api = NewsDataApiClient(apikey=os.environ.get(\"NEWSDATA_KEY\"))\n",
    "\n",
    "        if self.search_query:\n",
    "            # If a search query is provided, retrieve the news based on the query, country (India), and language (English)\n",
    "            response = api.news_api(q=self.search_query, country=\"in\", language=\"en\")\n",
    "        else:\n",
    "            # If no search query is provided, retrieve the general news for the country (India) and language (English)\n",
    "            response = api.news_api(country=\"in\", language=\"en\")\n",
    "\n",
    "        # Extract the content of each news item from the response and store it in the 'news' list\n",
    "        news = [content[\"content\"] for content in response[\"results\"]]\n",
    "\n",
    "        # Return a randomly selected news item from the 'news' list\n",
    "        return random.choice(news)"
   ]
  },
  {
   "attachments": {},
   "cell_type": "markdown",
   "metadata": {},
   "source": [
    "## `news_summarizer` function"
   ]
  },
  {
   "cell_type": "code",
   "execution_count": 4,
   "metadata": {},
   "outputs": [],
   "source": [
    "from typing import List\n",
    "from langchain.chains import LLMChain\n",
    "from langchain.prompts import PromptTemplate\n",
    "from langchain.chat_models import AzureChatOpenAI\n",
    "\n",
    "\n",
    "def news_summarizer(\n",
    "    limit: str = \"175 characters\",\n",
    "    total_news: int = 5,\n",
    "    sleep_seconds: int = 20,\n",
    "    search_query: str = None,\n",
    ") -> List[str]:\n",
    "    \"\"\"\n",
    "    Function that retrieves the latest news and generates short summaries for the news using an AI model.\n",
    "\n",
    "    :param limit: The maximum limit for each news summary. Defaults to \"175 characters\".\n",
    "    :type limit: str, optional\n",
    "    :param total_news: The number of news articles to summarize. Defaults to 5.\n",
    "    :type total_news: int, optional\n",
    "    :param sleep_seconds: The number of seconds to wait between each news retrieval and summarization. Defaults to 20.\n",
    "    :type sleep_seconds: int, optional\n",
    "    :param search_query: The text to be searched. Defaults to None.\n",
    "    :type search_query: str, optional\n",
    "    :return: A list of responses containing the generated news summaries.\n",
    "    :rtype: list\n",
    "    \"\"\"\n",
    "    # Initializing the AzureChatOpenAI model\n",
    "    llm = AzureChatOpenAI(deployment_name=\"gpt4\", temperature=0)\n",
    "\n",
    "    # Initializing the LLMChain with the summarize_prompt\n",
    "    summarize_prompt = PromptTemplate(\n",
    "        input_variables=[\"news\"], template=\"Summarize the following: {news}\"\n",
    "    )\n",
    "    summarize_chain = LLMChain(llm=llm, prompt=summarize_prompt)\n",
    "\n",
    "    # Initializing the NewsExtractor class with the provided search query\n",
    "    news = NewsExtractor(search_query)\n",
    "\n",
    "    # Initializing the tools\n",
    "    tools = [\n",
    "        Tool(\n",
    "            name=\"get_news\",\n",
    "            func=news.get_news,\n",
    "            description=\"gets a single news\",\n",
    "        ),\n",
    "        Tool(\n",
    "            name=\"summarize_news\",\n",
    "            func=summarize_chain.run,\n",
    "            description=\"summarizes the news\",\n",
    "        ),\n",
    "    ]\n",
    "\n",
    "    # Initializing the agent with the tools and the AzureChatOpenAI model\n",
    "    agent = initialize_agent(\n",
    "        tools=tools,\n",
    "        llm=llm,\n",
    "        agent=AgentType.ZERO_SHOT_REACT_DESCRIPTION,\n",
    "        verbose=True,\n",
    "        handle_parsing_errors=True,\n",
    "    )\n",
    "\n",
    "    # The prompt for the agent to generate the news summaries\n",
    "    prompt = f\"\"\"\n",
    "    Your task is to get a single news. Then generate a short summary for this news \\\n",
    "    in at most {limit}. Try to be as short as possible. Do not cross \\\n",
    "    the {limit} limit for summarized news.\n",
    "    \"\"\"\n",
    "\n",
    "    responses = []\n",
    "\n",
    "    for _ in range(total_news):\n",
    "        response = agent.run(prompt)  # Running the agent to generate the news summary\n",
    "        responses.append(response)\n",
    "        sleep(sleep_seconds)  # to avoid rate limiting at OpenAI\n",
    "\n",
    "    return responses  # Returning the list of generated news summaries"
   ]
  },
  {
   "cell_type": "code",
   "execution_count": 5,
   "metadata": {},
   "outputs": [
    {
     "name": "stdout",
     "output_type": "stream",
     "text": [
      "\n",
      "\n",
      "\u001b[1m> Entering new  chain...\u001b[0m\n",
      "\u001b[32;1m\u001b[1;3mI need to get a single news article and then summarize it in 50 words or less. I will first get the news article.\u001b[0m\n",
      "Observation: Invalid Format: Missing 'Action:' after 'Thought:'\n",
      "Thought:\u001b[32;1m\u001b[1;3mI need to get a single news article and then summarize it in 50 words or less. I will first get the news article.\n",
      "Action: get_news\u001b[0m\n",
      "Observation: Invalid Format: Missing 'Action Input:' after 'Action:'\n",
      "Thought:\u001b[32;1m\u001b[1;3mI need to get a single news article and then summarize it in 50 words or less. I will first get the news article.\n",
      "Action: get_news\n",
      "Action Input: {}\u001b[0m\n",
      "Observation: \u001b[36;1m\u001b[1;3mFormer India captain MS Dhoni 's decision to bat ahead of an in-form Yuvraj Singh in the 2011 ODI World Cup final against Sri Lanka turned out to be a game-changer. Knowing the Muttiah Muralitharan challenge that awaited the Indian team, Dhoni told the then-India coach Gary Kirsten that he plans to promote himself in the batting order. The rest, as they say, is history. More than a decade after the final, Muralitharan has opened up on the episode, sharing his opinion on why Dhoni did what he did that day. In a chat during the ODI World Cup 2023 schedule announcement show, the Sri Lanka legend revealed that he already knew Dhoni would promote himself over Yuvraj Singh because of the experience he had playing against him in the Indian Premier League. For the unversed, Dhoni and Muralitharan were teammates at Chennai Super Kings at one stage. \"I knew because Yuvraj (Singh) was not very comfortable playing me, although he was the best player in World Cup at that time, middle-order number four position. I knew because I was bowling a lot against him (Dhoni) in the nets in Chennai while playing in the IPL. \"So Dhoni knew how to play me very well. So I thought he didn't want to give any wickets to me because I was wicketless despite bowling well,\" the iconic spinner revealed. Having faced Muralitharan a number of times in the nets, Dhoni was best accustomed to tackle the tricky spinner's challenge. \"There was a lot of dew at that time and we couldn't spin the ball much. Gambhir was there at the other end, so when we got the wicket, definitely I knew he will come because he knows how to play me very well as I've played for Chennai (Super Kings),\" Murali further revealed.\u001b[0m\n",
      "Thought:\u001b[32;1m\u001b[1;3mNow that I have the news article, I will summarize it in 50 words or less.\n",
      "Action: summarize_news\n",
      "Action Input: {\"text\": \"Former India captain MS Dhoni 's decision to bat ahead of an in-form Yuvraj Singh in the 2011 ODI World Cup final against Sri Lanka turned out to be a game-changer. Knowing the Muttiah Muralitharan challenge that awaited the Indian team, Dhoni told the then-India coach Gary Kirsten that he plans to promote himself in the batting order. The rest, as they say, is history. More than a decade after the final, Muralitharan has opened up on the episode, sharing his opinion on why Dhoni did what he did that day. In a chat during the ODI World Cup 2023 schedule announcement show, the Sri Lanka legend revealed that he already knew Dhoni would promote himself over Yuvraj Singh because of the experience he had playing against him in the Indian Premier League. For the unversed, Dhoni and Muralitharan were teammates at Chennai Super Kings at one stage. \\\"I knew because Yuvraj (Singh) was not very comfortable playing me, although he was the best player in World Cup at that time, middle-order number four position. I knew because I was bowling a lot against him (Dhoni) in the nets in Chennai while playing in the IPL. \\\"So Dhoni knew how to play me very well. So I thought he didn't want to give any wickets to me because I was wicketless despite bowling well,\\\" the iconic spinner revealed. Having faced Muralitharan a number of times in the nets, Dhoni was best accustomed to tackle the tricky spinner's challenge. \\\"There was a lot of dew at that time and we couldn't spin the ball much. Gambhir was there at the other end, so when we got the wicket, definitely I knew he will come because he knows how to play me very well as I've played for Chennai (Super Kings),\\\" Murali further revealed.\"}\u001b[0m\n",
      "Observation: \u001b[33;1m\u001b[1;3mFormer India captain MS Dhoni's decision to bat ahead of Yuvraj Singh in the 2011 ODI World Cup final against Sri Lanka proved to be a game-changer. Dhoni was familiar with Sri Lankan spinner Muttiah Muralitharan's bowling style from their time as teammates at Chennai Super Kings in the Indian Premier League. Muralitharan recently revealed that he knew Dhoni would promote himself over Singh, as Singh was not comfortable playing against him. Dhoni's experience facing Muralitharan in the nets helped him tackle the spinner's challenge during the match.\u001b[0m\n",
      "Thought:\u001b[32;1m\u001b[1;3mI now know the final answer.\n",
      "Final Answer: Dhoni's decision to bat ahead of Yuvraj Singh in the 2011 ODI World Cup final was a game-changer. Familiar with Muralitharan's bowling from their time at Chennai Super Kings, Dhoni promoted himself, knowing Singh was uncomfortable playing against Muralitharan. This experience helped Dhoni tackle the spinner's challenge.\u001b[0m\n",
      "\n",
      "\u001b[1m> Finished chain.\u001b[0m\n"
     ]
    }
   ],
   "source": [
    "response = news_summarizer(limit=\"50 words\", total_news=1, search_query=\"cricket\")"
   ]
  },
  {
   "cell_type": "code",
   "execution_count": 6,
   "metadata": {},
   "outputs": [
    {
     "data": {
      "text/plain": [
       "[\"Dhoni's decision to bat ahead of Yuvraj Singh in the 2011 ODI World Cup final was a game-changer. Familiar with Muralitharan's bowling from their time at Chennai Super Kings, Dhoni promoted himself, knowing Singh was uncomfortable playing against Muralitharan. This experience helped Dhoni tackle the spinner's challenge.\"]"
      ]
     },
     "execution_count": 6,
     "metadata": {},
     "output_type": "execute_result"
    }
   ],
   "source": [
    "response"
   ]
  },
  {
   "cell_type": "code",
   "execution_count": 7,
   "metadata": {},
   "outputs": [
    {
     "data": {
      "text/plain": [
       "47"
      ]
     },
     "execution_count": 7,
     "metadata": {},
     "output_type": "execute_result"
    }
   ],
   "source": [
    "len(response[0].split(\" \"))"
   ]
  }
 ],
 "metadata": {
  "kernelspec": {
   "display_name": "langchain",
   "language": "python",
   "name": "python3"
  },
  "language_info": {
   "codemirror_mode": {
    "name": "ipython",
    "version": 3
   },
   "file_extension": ".py",
   "mimetype": "text/x-python",
   "name": "python",
   "nbconvert_exporter": "python",
   "pygments_lexer": "ipython3",
   "version": "3.11.0"
  }
 },
 "nbformat": 4,
 "nbformat_minor": 2
}
