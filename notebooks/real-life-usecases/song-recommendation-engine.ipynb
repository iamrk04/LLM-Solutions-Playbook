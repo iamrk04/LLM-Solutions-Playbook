{
 "cells": [
  {
   "attachments": {},
   "cell_type": "markdown",
   "metadata": {},
   "source": [
    "# Song Recommendation Engine\n",
    "Explore three strategies for constructing an emotion-responsive recommendation engine, and learn from their successes and failures.\n",
    "\n",
    "---"
   ]
  },
  {
   "attachments": {},
   "cell_type": "markdown",
   "metadata": {},
   "source": [
    "## Introduction"
   ]
  },
  {
   "attachments": {},
   "cell_type": "markdown",
   "metadata": {},
   "source": [
    "**The goal is simple**: We ask how the user feels, and we want to retrieve Disney songs that go \"well\" with that input. For example, if the user is sad, a song like Reflection from Mulan would probably be appropriate.\n",
    "\n",
    "You won't get good results if you try to find similarities between users' feelings (like, \"Today I am great\") and song lyrics. That's because song embeddings capture everything in the lyrics, making them \"more open\". Instead, we want to encode inputs, users, and lyrics into a similar representation and then run the search.  We need mainly three things: data, a way to encode it, and a way to match it with user input.\n",
    "\n",
    "> Note: You will need to set `SPOTIPY_CLIENT_ID` and `SPOTIPY_CLIENT_SECRET` in .env file, please get it from [Spotify for Developers](https://developer.spotify.com/dashboard/applications) by creating an app."
   ]
  },
  {
   "cell_type": "markdown",
   "metadata": {},
   "source": [
    "## Workflow"
   ]
  },
  {
   "attachments": {},
   "cell_type": "markdown",
   "metadata": {},
   "source": [
    "Building a song recommendation engine using LangChain involves data collection, encoding, and matching. We scrape Disney song lyrics and gather their Spotify URLs. Using Activeloop Deep Lake Vector Database in LangChain, we convert the lyrics into embedded data with relevant metadata.\n",
    "\n",
    "For matching songs to user input, we convert both song lyrics and user inputs into a list of emotions with the help of the OpenAI model. These emotions are embedded and stored in Deep Lake. A similarity search is then conducted in the vector database based on these emotions to provide song recommendations.\n",
    "\n",
    "We filter out low-scoring matches and ensure the same song isn't recommended twice to add variation. "
   ]
  },
  {
   "attachments": {},
   "cell_type": "markdown",
   "metadata": {},
   "source": [
    "## Setup"
   ]
  },
  {
   "cell_type": "code",
   "execution_count": 1,
   "metadata": {},
   "outputs": [],
   "source": [
    "import openai\n",
    "import os\n",
    "from dotenv import load_dotenv, find_dotenv\n",
    "\n",
    "_ = load_dotenv(find_dotenv())\n",
    "openai.api_type = os.environ.get(\"OPENAI_API_TYPE\")\n",
    "openai.api_base = os.environ.get(\"OPENAI_API_BASE\")\n",
    "openai.api_version = os.environ.get(\"OPENAI_API_VERSION\")\n",
    "openai.api_key = os.environ.get(\"OPENAI_API_KEY\")"
   ]
  },
  {
   "attachments": {},
   "cell_type": "markdown",
   "metadata": {},
   "source": [
    "## Building the system"
   ]
  },
  {
   "attachments": {},
   "cell_type": "markdown",
   "metadata": {},
   "source": [
    "### 1. Getting the data"
   ]
  },
  {
   "attachments": {},
   "cell_type": "markdown",
   "metadata": {},
   "source": [
    "To get our songs, we scraped https://www.disneyclips.com/lyrics/, a website containing all the lyrics for all Disney songs ever made."
   ]
  },
  {
   "cell_type": "code",
   "execution_count": 2,
   "metadata": {},
   "outputs": [],
   "source": [
    "# This cell avoid the error: RuntimeError: This event loop is already running\n",
    "\n",
    "import nest_asyncio\n",
    "\n",
    "nest_asyncio.apply()"
   ]
  },
  {
   "cell_type": "code",
   "execution_count": 3,
   "metadata": {},
   "outputs": [],
   "source": [
    "from scripts import songs_lyrics_scrapper"
   ]
  },
  {
   "attachments": {},
   "cell_type": "markdown",
   "metadata": {},
   "source": [
    "Then, we used [Spotify Python APIs](https://spotipy.readthedocs.io/en/2.22.1/) to get all the embedding URLs for each song into the [\"Disney Hits\" Playlist](https://open.spotify.com/playlist/37i9dQZF1DX8C9xQcOrE6T). We removed all the songs we had scraped that were not in this playlist. By doing so, we end up with 85 songs."
   ]
  },
  {
   "cell_type": "code",
   "execution_count": null,
   "metadata": {},
   "outputs": [],
   "source": [
    "from scripts import keep_only_lyrics_on_spotify"
   ]
  },
  {
   "attachments": {},
   "cell_type": "markdown",
   "metadata": {},
   "source": [
    "### 2. Data Encoding"
   ]
  },
  {
   "attachments": {},
   "cell_type": "markdown",
   "metadata": {},
   "source": [
    "Creating the dataset is pretty straightforward. Given the previous json file, we proceed to embed the text field and add all the rest of the keys/values as metadata."
   ]
  },
  {
   "cell_type": "code",
   "execution_count": 6,
   "metadata": {},
   "outputs": [],
   "source": [
    "from langchain.embeddings import HuggingFaceEmbeddings\n",
    "from langchain.chat_models import AzureChatOpenAI\n",
    "from langchain.vectorstores import DeepLake\n",
    "import json\n",
    "\n",
    "\n",
    "def create_db(dataset_path: str, json_filepath: str) -> DeepLake:\n",
    "    with open(json_filepath, \"r\") as f:\n",
    "        data = json.load(f)\n",
    "\n",
    "    texts = []\n",
    "    metadatas = []\n",
    "\n",
    "    for movie, lyrics in data.items():\n",
    "        for lyric in lyrics:\n",
    "            texts.append(lyric[\"text\"])\n",
    "            metadatas.append(\n",
    "                {\n",
    "                    \"movie\": movie,\n",
    "                    \"name\": lyric[\"name\"],\n",
    "                    \"embed_url\": lyric[\"embed_url\"],\n",
    "                }\n",
    "            )\n",
    "\n",
    "    embeddings = HuggingFaceEmbeddings()\n",
    "\n",
    "    db = DeepLake.from_texts(\n",
    "        texts, embeddings, metadatas=metadatas, dataset_path=dataset_path\n",
    "    )\n",
    "\n",
    "    return db"
   ]
  },
  {
   "attachments": {},
   "cell_type": "markdown",
   "metadata": {},
   "source": [
    "To load it, we can simply:"
   ]
  },
  {
   "cell_type": "code",
   "execution_count": 7,
   "metadata": {},
   "outputs": [],
   "source": [
    "def load_db(dataset_path: str, *args, **kwargs) -> DeepLake:\n",
    "    db = DeepLake(dataset_path, *args, **kwargs)\n",
    "    return db"
   ]
  },
  {
   "attachments": {},
   "cell_type": "markdown",
   "metadata": {},
   "source": [
    "### 3. Approaches to Matching Moods to Songs"
   ]
  },
  {
   "attachments": {},
   "cell_type": "markdown",
   "metadata": {},
   "source": [
    "#### 3.1 What Didn't Work"
   ]
  },
  {
   "attachments": {},
   "cell_type": "markdown",
   "metadata": {},
   "source": [
    "- **Similarity Search of Direct Embeddings**: This approach was straightforward. We create embeddings for the lyrics and the user input and do a similarity search. Unfortunately, we noticed terrible suggestions because we want to match the user's emotions to the songs theme rather than precisely what it says (lyrics).\n",
    "- **Using ChatGPT as a Retrieval System**: We also tried to nuke the whole lyrics into ChatGPT and asked it to return matching songs with the user input. We had first to create a one-sentence summary of each lyric to fit the token limit. This did work okayish but was overkill."
   ]
  },
  {
   "attachments": {},
   "cell_type": "markdown",
   "metadata": {},
   "source": [
    "#### 3.2 What Did Work: Similarity Search of Emotions Embeddings"
   ]
  },
  {
   "attachments": {},
   "cell_type": "markdown",
   "metadata": {},
   "source": [
    "Finally, we arrived at an inexpensive approach to run, which gives good results. We convert each lyric to a list of 8 emotions using ChatGPT: "
   ]
  },
  {
   "cell_type": "code",
   "execution_count": null,
   "metadata": {},
   "outputs": [],
   "source": [
    "from scripts import create_emotions_summary"
   ]
  },
  {
   "attachments": {},
   "cell_type": "markdown",
   "metadata": {},
   "source": [
    "We then embedded each emotion for each song with GPT3.5-turbo and stored it with Deep Lake:"
   ]
  },
  {
   "cell_type": "code",
   "execution_count": 14,
   "metadata": {},
   "outputs": [
    {
     "name": "stdout",
     "output_type": "stream",
     "text": [
      "Your Deep Lake dataset has been successfully created!\n",
      "The dataset is private so make sure you are logged in!\n"
     ]
    },
    {
     "name": "stderr",
     "output_type": "stream",
     "text": [
      "-"
     ]
    },
    {
     "name": "stdout",
     "output_type": "stream",
     "text": [
      "Dataset(path='hub://iamrk04/song-recommendation', tensors=['embedding', 'id', 'metadata', 'text'])\n",
      "\n",
      "  tensor      htype      shape     dtype  compression\n",
      "  -------    -------    -------   -------  ------- \n",
      " embedding  embedding  (79, 768)  float32   None   \n",
      "    id        text      (79, 1)     str     None   \n",
      " metadata     json      (79, 1)     str     None   \n",
      "   text       text      (79, 1)     str     None   \n"
     ]
    },
    {
     "name": "stderr",
     "output_type": "stream",
     "text": [
      " \r"
     ]
    }
   ],
   "source": [
    "my_activeloop_org_id = os.environ.get(\"ACTIVELOOP_ORG_ID\")\n",
    "my_activeloop_dataset_name = \"song-recommendation\"\n",
    "\n",
    "dataset_path = f\"hub://{my_activeloop_org_id}/{my_activeloop_dataset_name}\"\n",
    "\n",
    "db = create_db(\n",
    "    dataset_path=dataset_path,\n",
    "    json_filepath=\"../../temp/emotions_with_spotify_url.json\",\n",
    ")"
   ]
  },
  {
   "attachments": {},
   "cell_type": "markdown",
   "metadata": {},
   "source": [
    "Use the code below to load the db once you have it, avoid running the previous cell again:"
   ]
  },
  {
   "cell_type": "code",
   "execution_count": 27,
   "metadata": {},
   "outputs": [
    {
     "name": "stdout",
     "output_type": "stream",
     "text": [
      "Deep Lake Dataset in hub://iamrk04/song-recommendation already exists, loading from the storage\n"
     ]
    }
   ],
   "source": [
    "my_activeloop_org_id = os.environ.get(\"ACTIVELOOP_ORG_ID\")\n",
    "my_activeloop_dataset_name = \"song-recommendation\"\n",
    "\n",
    "dataset_path = f\"hub://{my_activeloop_org_id}/{my_activeloop_dataset_name}\"\n",
    "\n",
    "db = load_db(\n",
    "    dataset_path=dataset_path,\n",
    "    embedding_function=HuggingFaceEmbeddings(),\n",
    "    read_only=True,\n",
    ")"
   ]
  },
  {
   "attachments": {},
   "cell_type": "markdown",
   "metadata": {},
   "source": [
    "Then, we need to convert the user input to a list of emotions. We used ChatGPT again with a custom prompt:"
   ]
  },
  {
   "cell_type": "code",
   "execution_count": 108,
   "metadata": {},
   "outputs": [],
   "source": [
    "from langchain.prompts import PromptTemplate\n",
    "from langchain.chat_models import AzureChatOpenAI\n",
    "from langchain.chains import LLMChain\n",
    "\n",
    "\n",
    "def convert_input_to_emotions(user_input: str) -> str:\n",
    "    \"\"\"\n",
    "    Convert user input to emotions using LLM.\n",
    "\n",
    "    :param user_input: User input\n",
    "    :return: Emotions\n",
    "    \"\"\"\n",
    "    prompt = PromptTemplate(\n",
    "        input_variables=[\"user_input\"],\n",
    "        template=\"\"\"\\\n",
    "We have a simple song retrieval system. It accepts 8 emotions. You are tasked to suggest \\\n",
    "between 1 and 4 emotions to match the users feelings. Suggest more emotions for longer \\\n",
    "sentences and just one or two for small ones, trying to condense the main theme of the input.\n",
    "\n",
    "Examples:\n",
    "\n",
    "```\n",
    "Input: \"I had a great day!\" \n",
    "\"Joy\"\n",
    "Input: \"I am very tired today and I am not feeling well\"\n",
    "\"Exhaustion, Discomfort, and Fatigue\"\n",
    "Input: \"I am in Love\"\n",
    "\"Love\"\n",
    "```\n",
    "\n",
    "Please, suggest emotions for input = ```{user_input}```, reply ONLY with a list of emotions/feelings/vibes\\\n",
    "\"\"\",\n",
    "    )\n",
    "    model = AzureChatOpenAI(deployment_name=\"gpt4\", temperature=0.7)\n",
    "    chain = LLMChain(llm=model, prompt=prompt)\n",
    "    return chain.run(user_input=user_input)"
   ]
  },
  {
   "attachments": {},
   "cell_type": "markdown",
   "metadata": {},
   "source": [
    "### 4. Post processing"
   ]
  },
  {
   "cell_type": "code",
   "execution_count": 56,
   "metadata": {},
   "outputs": [],
   "source": [
    "import numpy as np\n",
    "from typing import Tuple, List\n",
    "from langchain.schema import Document\n",
    "\n",
    "\n",
    "# filter out the low-scoring ones.\n",
    "def filter_scores(\n",
    "    matches: List[Tuple[Document, float]], threshold: float = 0.8\n",
    ") -> List[Tuple[Document, float]]:\n",
    "    \"\"\"\n",
    "    Filter scores by threshold.\n",
    "\n",
    "    :param matches: List of tuples (doc, score)\n",
    "    :param threshold: Threshold to use for filtering\n",
    "    :return: List of filtered tuples (doc, score)\n",
    "    \"\"\"\n",
    "    return [(doc, score) for (doc, score) in matches if score > threshold]\n",
    "\n",
    "\n",
    "# To add more variations, aka only sometimes recommend the first one, we need to sample\n",
    "# from the list of candidate matches. To do so, we first ensure the scores sum to one by\n",
    "# dividing by their sum.\n",
    "def normalize_scores_by_sum(\n",
    "    matches: List[Tuple[Document, float]]\n",
    ") -> List[Tuple[Document, float]]:\n",
    "    \"\"\"\n",
    "    Normalize scores by sum.\n",
    "\n",
    "    :param matches: List of tuples (doc, score)\n",
    "    :return: List of normalized tuples (doc, score)\n",
    "    \"\"\"\n",
    "    scores = [score for _, score in matches]\n",
    "    total = sum(scores)\n",
    "    return [(doc, (score / total)) for doc, score in matches]\n",
    "\n",
    "\n",
    "def weighted_random_sample(items: np.array, weights: np.array, n: int) -> np.array:\n",
    "    \"\"\"\n",
    "    Does np.random.choice but ensuring we don't have duplicates in the final result\n",
    "\n",
    "    Args:\n",
    "        items (np.array): _description_\n",
    "        weights (np.array): _description_\n",
    "        n (int): _description_\n",
    "\n",
    "    Returns:\n",
    "        np.array: _description_\n",
    "    \"\"\"\n",
    "    indices = np.arange(len(items))\n",
    "    out_indices = []\n",
    "\n",
    "    for _ in range(n):\n",
    "        chosen_index = np.random.choice(indices, p=weights)\n",
    "        out_indices.append(chosen_index)\n",
    "\n",
    "        mask = indices != chosen_index\n",
    "        indices = indices[mask]\n",
    "        weights = weights[mask]\n",
    "\n",
    "        if weights.sum() != 0:\n",
    "            weights = weights / weights.sum()\n",
    "\n",
    "    return items[out_indices]"
   ]
  },
  {
   "attachments": {},
   "cell_type": "markdown",
   "metadata": {},
   "source": [
    "### 5. Putting it all together"
   ]
  },
  {
   "cell_type": "code",
   "execution_count": 116,
   "metadata": {},
   "outputs": [],
   "source": [
    "from typing import List\n",
    "\n",
    "\n",
    "def get_recommendation(\n",
    "    user_input: str,\n",
    "    retrieve_songs: int = 20,\n",
    "    match_score: float = 0.5,\n",
    "    out_songs: int = 3,\n",
    ") -> List[str]:\n",
    "    \"\"\"\n",
    "    Get song recommendations based on user input.\n",
    "\n",
    "    :param user_input: User input.\n",
    "    :param retrieve_songs: max number of songs to retrieve from db.\n",
    "    :param match_score: Minimum match score to filter matching songs.\n",
    "    :param out_songs: Number of songs to return.\n",
    "    \"\"\"\n",
    "    # Get emotions from a user's input\n",
    "    emotions = convert_input_to_emotions(user_input)\n",
    "    print(f\"Detected emotions: {emotions}\")\n",
    "\n",
    "    # We find the k more similar song\n",
    "    matches = db.similarity_search_with_score(\n",
    "        query=emotions, distance_metric=\"cos\", k=retrieve_songs\n",
    "    )\n",
    "    print(f\"Matches: {matches}\")\n",
    "\n",
    "    # post-process the results\n",
    "    try:\n",
    "        norm_filtered_matches = normalize_scores_by_sum(\n",
    "            filter_scores(matches, match_score)\n",
    "        )\n",
    "        docs, scores = zip(*norm_filtered_matches)\n",
    "        choosen_docs = weighted_random_sample(\n",
    "            np.array(docs), np.array(scores), n=out_songs\n",
    "        ).tolist()\n",
    "        return [doc.metadata[\"name\"] for doc in choosen_docs]\n",
    "    except:\n",
    "        return []"
   ]
  },
  {
   "cell_type": "code",
   "execution_count": 119,
   "metadata": {},
   "outputs": [
    {
     "name": "stdout",
     "output_type": "stream",
     "text": [
      "Detected emotions: Happiness, Excitement\n",
      "Matches: [(Document(page_content='Excitement, joy, amusement, wonder, friendship, enthusiasm, surprise, gratitude', metadata={'movie': 'Aladdin', 'name': 'Friend Like Me', 'embed_url': 'https://open.spotify.com/embed/track/5f2TWu6R2YYCJtLQ0fP78H?utm_source=generator'}), 0.7973227500915527), (Document(page_content='excitement, admiration, triumph, joy, pride, confidence, awe, inspiration', metadata={'movie': 'Hercules', 'name': 'Zero to Hero', 'embed_url': 'https://open.spotify.com/embed/track/4zDfgax6Ihb0UWdour1ZEs?utm_source=generator'}), 0.7807521820068359), (Document(page_content='excitement, anticipation, loneliness, elation, hope, anxiety, vulnerability, joy', metadata={'movie': 'Frozen', 'name': 'For the First Time in Forever', 'embed_url': 'https://open.spotify.com/embed/track/70b5Sq3ePOu3Gqg0hjlOtR?utm_source=generator'}), 0.7761297225952148), (Document(page_content='excitement, anticipation, happiness, playfulness, curiosity, contentment, warmth, joy', metadata={'movie': 'Frozen', 'name': 'In Summer', 'embed_url': 'https://open.spotify.com/embed/track/7bG6SQBGZthPDG5QJL5Gf7?utm_source=generator'}), 0.7708556652069092), (Document(page_content='joy, excitement, love, hope, surprise, connection, anticipation, happiness', metadata={'movie': 'Frozen', 'name': 'Love is an Open Door', 'embed_url': 'https://open.spotify.com/embed/track/68jg6wseZjKSJ0HUMjNS7C?utm_source=generator'}), 0.7706248760223389), (Document(page_content='excitement, anticipation, confidence, defiance, frustration, amusement, determination, joy', metadata={'movie': 'The Lion King', 'name': \"I Just Can't Wait to Be King\", 'embed_url': 'https://open.spotify.com/embed/track/2xUdYfY3LpJb4Iv37RypnO?utm_source=generator'}), 0.7545185089111328), (Document(page_content='Excitement, Curiosity, Surprise, Anticipation, Joy, Confusion, Nostalgia, Anxiety', metadata={'movie': 'The Little Mermaid (Live-Action)', 'name': 'The Scuttlebutt', 'embed_url': 'https://open.spotify.com/embed/track/2wLDS3oCMufFrvwN2IK3Bt?utm_source=generator'}), 0.7515593767166138), (Document(page_content='joy, happiness, excitement, unity, connection, love, passion, celebration', metadata={'movie': 'Coco', 'name': 'The World Es Mi Familia', 'embed_url': 'https://open.spotify.com/embed/track/7FOS31xq9jv4cXWtp6Jnzw?utm_source=generator'}), 0.7441020011901855), (Document(page_content='Excitement, Anticipation, Confidence, Playfulness, Defiance, Frustration, Pride, Joy', metadata={'movie': 'The Lion King (live-action)', 'name': \"I Just Can't Wait to Be King\", 'embed_url': 'https://open.spotify.com/embed/track/2xUdYfY3LpJb4Iv37RypnO?utm_source=generator'}), 0.7376486659049988), (Document(page_content='Excitement, joy, ambition, nostalgia, determination, playfulness, hope, confidence', metadata={'movie': 'The Princess and the Frog', 'name': \"When We're Human\", 'embed_url': 'https://open.spotify.com/embed/track/2g2kJZcu1cFTw4aKE7w9Iq?utm_source=generator'}), 0.7323504686355591), (Document(page_content='Excitement, Adventure, Enchantment, Anticipation, Wonder, Amazement, Curiosity, Joy', metadata={'movie': 'Aladdin: The Return of Jafar', 'name': 'Arabian Nights', 'embed_url': 'https://open.spotify.com/embed/track/0CKmN3Wwk8W4zjU0pqq2cv?utm_source=generator'}), 0.7197777628898621), (Document(page_content='joy, pride, contentment, curiosity, nostalgia, determination, belonging, happiness', metadata={'movie': 'Moana', 'name': 'Where You Are', 'embed_url': 'https://open.spotify.com/embed/track/2bwSCIuNtVrQPVddCi8sOW?utm_source=generator'}), 0.7184285521507263), (Document(page_content='curiosity, fear, frustration, excitement, confusion, joy, anticipation, nostalgia', metadata={'movie': 'Encanto', 'name': \"We Don't Talk About Bruno\", 'embed_url': 'https://open.spotify.com/embed/track/52xJxFP6TqMuO4Yt0eOkMz?utm_source=generator'}), 0.7124330401420593), (Document(page_content='amusement, confidence, gratitude, pride, surprise, joy, playfulness, curiosity', metadata={'movie': 'Moana', 'name': \"You're Welcome\", 'embed_url': 'https://open.spotify.com/embed/track/6U4VqEHy4n5VeiH4pQPL24?utm_source=generator'}), 0.7081313729286194), (Document(page_content='joy, realization, clarity, love, wonder, excitement, connection, hope', metadata={'movie': 'Tangled', 'name': 'I See the Light', 'embed_url': 'https://open.spotify.com/embed/track/6klpXs2uAjagnZMFkt4qkl?utm_source=generator'}), 0.707676351070404), (Document(page_content='joy, excitement, wonder, adventure, love, freedom, awe, happiness', metadata={'movie': 'Aladdin', 'name': 'A Whole New World', 'embed_url': 'https://open.spotify.com/embed/track/1hwdPQtFHISvZ9SXMkNrIK?utm_source=generator'}), 0.7035000920295715), (Document(page_content='Excitement, camaraderie, longing, humor, determination, desire, playfulness, pride', metadata={'movie': 'Mulan', 'name': 'A Girl Worth Fighting For', 'embed_url': 'https://open.spotify.com/embed/track/3wjgPeXocinhLyPL37p70e?utm_source=generator'}), 0.7010424733161926), (Document(page_content='curiosity, confusion, fear, reassurance, anticipation, nostalgia, growth, acceptance', metadata={'movie': 'Frozen 2', 'name': 'When I Am Older', 'embed_url': 'https://open.spotify.com/embed/track/1Tt7zr1yDbKbT8L4jzSZ74?utm_source=generator'}), 0.6876150965690613), (Document(page_content='Excitement, wonder, joy, adventure, romance, freedom, curiosity, enchantment', metadata={'movie': 'Aladdin (live-action)', 'name': 'A Whole New World (End Title)', 'embed_url': 'https://open.spotify.com/embed/track/4U9CF27YlwHRtUGKUzhUTT?utm_source=generator'}), 0.6835641860961914), (Document(page_content='inspiration, hope, excitement, joy, triumph, determination, confidence, pride', metadata={'movie': 'Hercules', 'name': 'A Star Is Born', 'embed_url': 'https://open.spotify.com/embed/track/64Eug7tFE4KWJNQUE73BGe?utm_source=generator'}), 0.6810703277587891)]\n"
     ]
    },
    {
     "data": {
      "text/plain": [
       "['Arabian Nights', 'Friend Like Me', \"We Don't Talk About Bruno\"]"
      ]
     },
     "execution_count": 119,
     "metadata": {},
     "output_type": "execute_result"
    }
   ],
   "source": [
    "user_input = \"I am happy and excited\"\n",
    "response = get_recommendation(user_input)\n",
    "response"
   ]
  }
 ],
 "metadata": {
  "kernelspec": {
   "display_name": "llm",
   "language": "python",
   "name": "python3"
  },
  "language_info": {
   "codemirror_mode": {
    "name": "ipython",
    "version": 3
   },
   "file_extension": ".py",
   "mimetype": "text/x-python",
   "name": "python",
   "nbconvert_exporter": "python",
   "pygments_lexer": "ipython3",
   "version": "3.11.3"
  }
 },
 "nbformat": 4,
 "nbformat_minor": 2
}
