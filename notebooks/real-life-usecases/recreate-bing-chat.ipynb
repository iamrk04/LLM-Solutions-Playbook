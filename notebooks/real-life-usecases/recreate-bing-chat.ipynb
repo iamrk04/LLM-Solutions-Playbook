{
 "cells": [
  {
   "attachments": {},
   "cell_type": "markdown",
   "metadata": {},
   "source": [
    "# Recreate Bing Chat\n",
    "\n",
    "---"
   ]
  },
  {
   "attachments": {},
   "cell_type": "markdown",
   "metadata": {},
   "source": [
    "## Introduction"
   ]
  },
  {
   "attachments": {},
   "cell_type": "markdown",
   "metadata": {},
   "source": [
    "While the Large Language Models (LLMs) possess impressive capabilities, they have certain limitations that can present challenges when deploying them in a production environment. The hallucination problem makes them answer certain questions wrongly with high confidence. This issue can be attributed to various factors, one of which is that their training process has a cut-off date. So, these models do not have access to events preceding that date.\n",
    "\n",
    "This lesson will explore the idea of finding the best articles from the Internet as the context for a chatbot to find the correct answer. We will use LangChain’s integration with Google Search API and the `SeleniumURLLoader` to extract the stories from search results. This is followed by choosing and using the most relevant options in the prompt.\n",
    "\n",
    "> Note: Notice that the same pipeline could be done with the Bing API, but we'll use the Google Search API in this project because it is used in other lessons of this course, thus avoiding creating several keys for the same functionality."
   ]
  },
  {
   "cell_type": "markdown",
   "metadata": {},
   "source": [
    "## Workflow"
   ]
  },
  {
   "attachments": {},
   "cell_type": "markdown",
   "metadata": {},
   "source": [
    "The user query is used to extract relevant articles using a search engine (e.g. Bing or Google Search), which are then split into chunks. We then compute the embeddings of each chunk, rank them by cosine similarity with respect to the embedding of the query, and put the most relevant chunks into a prompt to generate the final answer, while also keeping track of the sources.\n",
    "<br/>\n",
    "<img src=\"../../images/bing-chat-workflow.png\" alt=\"State of Workflow\" style=\"width: 55%; height: auto;\"/>"
   ]
  },
  {
   "attachments": {},
   "cell_type": "markdown",
   "metadata": {},
   "source": [
    "## Setup"
   ]
  },
  {
   "cell_type": "code",
   "execution_count": 1,
   "metadata": {},
   "outputs": [],
   "source": [
    "import openai\n",
    "import os\n",
    "from dotenv import load_dotenv, find_dotenv\n",
    "\n",
    "_ = load_dotenv(find_dotenv())\n",
    "openai.api_type = os.environ.get(\"OPENAI_API_TYPE\")\n",
    "openai.api_base = os.environ.get(\"OPENAI_API_BASE\")\n",
    "openai.api_key = os.environ.get(\"OPENAI_API_KEY\")\n",
    "openai.api_version = os.environ.get(\"OPENAI_API_VERSION\")"
   ]
  },
  {
   "attachments": {},
   "cell_type": "markdown",
   "metadata": {},
   "source": [
    "## Building the system"
   ]
  },
  {
   "attachments": {},
   "cell_type": "markdown",
   "metadata": {},
   "source": [
    "We must set up the API Key and a custom search engine to be able to use Google search API. To get the key, head to the [Google Cloud console](https://console.cloud.google.com/apis/credentials) and generate the key by pressing the CREATE CREDENTIALS buttons from the top and choosing API KEY. Then, head to the [Programmable Search Engine](https://programmablesearchengine.google.com/controlpanel/create) dashboard and remember to select the “Search the entire web” option. The Search engine ID will be visible in the details. You might also need to enable the “Custom Search API” service under the Enable APIs and services. (You will receive the instruction from API if required) We can now configure the environment variables `GOOGLE_CSE_ID` and `GOOGLE_API_KEY`, allowing the Google wrapper to connect with the API."
   ]
  },
  {
   "attachments": {},
   "cell_type": "markdown",
   "metadata": {},
   "source": [
    "### 1. Get Search Results"
   ]
  },
  {
   "cell_type": "code",
   "execution_count": 5,
   "metadata": {},
   "outputs": [
    {
     "data": {
      "text/plain": [
       "[{'title': 'Fast & Furious movies in order | chronological and release order ...',\n",
       "  'link': 'https://www.radiotimes.com/movies/fast-and-furious-order/',\n",
       "  'snippet': 'Mar 22, 2023 ... Fast & Furious Presents: Hobbs & Shaw (2019); F9 (2021); Fast and Furious 10 (2023). Tokyo Drift also marks the first appearance of Han Lue, a\\xa0...'},\n",
       " {'title': 'FAST X | Official Trailer 2 - YouTube',\n",
       "  'link': 'https://www.youtube.com/watch?v=aOb15GVFZxU',\n",
       "  'snippet': 'Apr 19, 2023 ... Fast X, the tenth film in the Fast & Furious Saga, launches the final ... witnessed it all and has spent the last 12 years masterminding a\\xa0...'},\n",
       " {'title': 'How to Watch Fast and Furious Movies in Chronological Order - IGN',\n",
       "  'link': 'https://www.ign.com/articles/fast-and-furious-movies-in-order',\n",
       "  'snippet': \"Looking to go on a Fast and Furious binge? ... With the latest Fast and Furious film: Fast X out now, we've put together this handy guide on how to watch\\xa0...\"},\n",
       " {'title': 'Fast & Furious - Wikipedia',\n",
       "  'link': 'https://en.wikipedia.org/wiki/Fast_%26_Furious',\n",
       "  'snippet': 'It began the original tetralogy of films focused on illegal street racing, which culminated in the film Fast & Furious (2009). The series transitioned\\xa0...'},\n",
       " {'title': 'Is Fast X the Last Movie of the Fast and Furious Franchise?',\n",
       "  'link': 'https://www.comingsoon.net/guides/news/1287501-is-fast-x-the-last-movie-fast-and-furious-franchise-final-one-10',\n",
       "  'snippet': \"May 11, 2023 ... Will there be another Fast and Furious movie? ... Fast X isn't the last movie of the Fast and Furious franchise, as Fast and Furious 11 is already\\xa0...\"}]"
      ]
     },
     "execution_count": 5,
     "metadata": {},
     "output_type": "execute_result"
    }
   ],
   "source": [
    "from langchain.tools import Tool\n",
    "from langchain.utilities import GoogleSearchAPIWrapper\n",
    "\n",
    "search = GoogleSearchAPIWrapper()\n",
    "TOP_N_RESULTS = 5\n",
    "\n",
    "\n",
    "def top_n_results(query):\n",
    "    return search.results(query, TOP_N_RESULTS)\n",
    "\n",
    "\n",
    "tool = Tool(\n",
    "    name=\"Google Search\",\n",
    "    description=\"Search Google for recent results.\",\n",
    "    func=top_n_results,\n",
    ")\n",
    "\n",
    "query = \"What is the latest fast and furious movie?\"\n",
    "\n",
    "results = tool.run(query)\n",
    "\n",
    "results"
   ]
  },
  {
   "attachments": {},
   "cell_type": "markdown",
   "metadata": {},
   "source": [
    "### 2. Extract content from URL"
   ]
  },
  {
   "cell_type": "code",
   "execution_count": 6,
   "metadata": {},
   "outputs": [
    {
     "name": "stdout",
     "output_type": "stream",
     "text": [
      "Number of pages: 5\n",
      "page_content='Home\\n\\nMovies\\n\\nHow to watch all the Fast and Furious movies in order - full chronological timeline and release order\\n\\nWe may earn commission from links on this page. Our editorial is always independent (learn more)\\n\\nHow to watch all the Fast and Furious movies in order - full chronological timeline and release order\\n\\nWhat’s the best way to watch Vin Diesel, Dwayne Johnson and Paul Walker in action? Here\\'s a speedy explanation of the Fast & Furious movie timeline.\\n\\nUniversal\\n\\nBy \\n\\nThomas Ling\\n\\nPublished: Wednesday, 22nd March 2023 at 11:10 am\\n\\nSave\\n\\nShare on facebook\\n\\nShare on twitter\\n\\nShare on pinterest\\n\\nShare on reddit\\n\\nEmail to a friend\\n\\nIf you’re planning to watch the Fast and Furious movies before Fast X speeds into cinemas this May, it’s a good idea to make sure you’re watching them in the best order.\\n\\nAdvertisement\\n\\nYou might think a blockbuster franchise about cars would be pretty straightforward, but since it began in 2001 with the loud and brash street-racing and gangster thriller The Fast and Furious, the franchise has only got bigger in size, ambition and outrageousness – and the complicated narrative the 12 films have woven together can be difficult to follow.\\n\\nWith the two-part finale to the Fast saga wrapping up the story for Dominic Toretto (Vin Diesel) and his crew, the stakes are bound to be high.\\n\\nSo, ahead of Fast X, which will see the Toretto family tree branching out further, with Hollywood icon Rita Moreno joining the cast as Dom\\'s grandmother, read on for everything you need to know about how watch the franchise in order.\\n\\nHow to watch the Fast and Furious movies: chronological timeline order\\n\\nAlthough most of the Fast films follow on from each other, there is one standout exception: you guessed it, The Fast and the Furious: Tokyo Drift.\\n\\nAlthough it was the third Fast film to be released in cinemas, Tokyo Drift is actually set between Fast & Furious 6 and Furious 7. Swerving away from the story of Brian and Dom, the film follows a completely new set of characters led by Sean Boswell (Lucas Black), a student forced to move to Japan to avoid jail time.\\n\\nHere are the movies in chronological order:\\n\\nThe Fast and the Furious (2001)\\n\\n2 Fast 2 Furious (2003)\\n\\nFast & Furious (2009)\\n\\nFast Five (2011)\\n\\nFast & Furious 6 (2013)\\n\\nThe Fast and the Furious: Tokyo Drift (2006)\\n\\nFurious 7 (2015)\\n\\nThe Fate of the Furious (2017)\\n\\nFast & Furious Presents: Hobbs & Shaw (2019)\\n\\nF9 (2021)\\n\\nFast and Furious 10 (2023)\\n\\nTokyo Drift also marks the first appearance of Han Lue, a fan favourite who (SPOILER ALERT) appeared to be killed in a chase near the end of the film.\\n\\nUniversal\\n\\nFortunately, Universal decided Han was so popular he would be resurrected with a clever workaround: all subsequent Fast films would be set before Toyko Drift.\\n\\nThis meant Han was able to return alive and well in Fast & Furious, the next film in the franchise.\\n\\nFast and Furious timeline\\n\\nJust to make things even more complicated, the Fast and Furious franchise also features several high-speed prequels, sequels and midquels. Most of these shorts were created for DVD releases of the original movies, shining light on unknown areas of the high-speed saga’s timeline.\\n\\nMore like this\\n\\nHow to watch the X-Men movies in order - full chronological timeline and release order\\n\\nFirst released on the DVD of 2 Fast 2 Furious (the next film on this list), the short film Turbo-Charged Prelude shows exactly how Brian (Paul Walker) went from being an LAPD cop to criminal. The reason is the one you’d expect: after assisting Dom Toretto (Vin Diesel) evade law enforcement, Brian himself becomes a wanted man.\\n\\nLos Bandoleros, the next short film, focuses on Dom and was served up to fans via a DVD bonus feature. No, it doesn’t explain how Brian became a fully-fledged FBI agent by the next film but does introduce audiences to Han (Sung Kang), Rico (Don Omar) and Tego (Tego Calderon). Including all of these mini-movies, the Fast and Furious timeline looks like this:\\n\\nThe Fast and the Furious\\n\\nTurbo-Charged Prelude\\n\\n2 Fast 2 Furious\\n\\nLos Bandoleros\\n\\nFast & Furious\\n\\nFast Five\\n\\nFast & Furious 6\\n\\nThe Fast and the Furious: Tokyo Drift\\n\\nFurious 7\\n\\nThe Fate of the Furious\\n\\nFast & Furious Presents: Hobbs & Shaw\\n\\nF9\\n\\nHow to watch the Fast and Furious movies: release order\\n\\nIf you’re new to the Fast and Furious, sticking to the simplest route may be the best. After all, most of the movies follow a chronological order, with only really the third instalment in the franchise, The Fast and the Furious: Tokyo Drift (2006), causing some confusing pile-ups in the timeline as discussed.\\n\\nHere\\'s how you watch Fast & Furious movies in order of release:\\n\\nThe Fast and the Furious (2001)\\n\\n2 Fast 2 Furious (2003)\\n\\nThe Fast and the Furious: Tokyo Drift (2006)\\n\\nFast & Furious (2009)\\n\\nFast Five (2011)\\n\\nFast & Furious 6 (2013)\\n\\nFurious 7 (2015)\\n\\nThe Fate of the Furious (2017)\\n\\nFast & Furious Presents: Hobbs & Shaw (2019)\\n\\nF9 (2021)\\n\\nFast and Furious 10 (2023)\\n\\nFor all of the details on the released films and how to watch them, see below.\\n\\n1. The Fast and the Furious (2001)\\n\\nStarring: Paul Walker, Vin Diesel, Michelle Rodriguez, Jordana Brewster, Rick Yune, Chad Lindberg, Johnny Strong, Ted Levine.\\n\\nThe first episode in the saga, The Fast and the Furious (2001), follows undercover cop Brian O\\'Conner (Paul Walker), who integrates himself into a heist crew run by Dominic Toretto (Vin Diesel).\\n\\nWhere to watch: Amazon\\n\\n2. 2 Fast 2 Furious (2003)\\n\\nStarring: Paul Walker, Tyrese Gibson, Eva Mendes, Cole Hauser, Chris \"Ludacris\" Bridges, James Remar.\\n\\n2 Fast 2 Furious doesn\\'t feature Vin Diesel, but it does star Walker and follows on from the events of The Fast and the Furious. This one introduces Ludacris as Tej and Tyrese Gibson as Roman, who went on to become two main characters.\\n\\nWhere to watch: Amazon\\n\\n3. The Fast and the Furious: Tokyo Drift (2006)\\n\\nStarring: Lucas Black, Bow Wow, Nathalie Kelley, Sung Kang, Brian Tee.\\n\\nThis is where things take a turn. This one was seen as a \\'reboot\\' of sorts for the whole franchise. There was no Paul Walker or Diesel (outside of a minor cameo)... or Ludacris, or Michelle Rodriguez, or Gibson. Basically no core characters here. The movie was set in Japan and featured Han (Sung Kang). Luckily, fans took to Han, but the movie did confuse the timeline somewhat.\\n\\nWhere to watch: Amazon\\n\\n4. Fast & Furious (2009)\\n\\nStarring: Vin Diesel, Paul Walker, Michelle Rodriguez, Jordana Brewster, John Ortiz, Gal Gadot, Laz Alonso.\\n\\nNot to be confused with the first film in the franchise (these titles are confusing!) this one comes fourth. Set after 2 Fast 2 Furious, we ignore The Fast and the Furious: Tokyo Drift for now.\\n\\nWhere to watch: Amazon\\n\\n5. Fast Five (2011)\\n\\nStarring: Vin Diesel, Paul Walker, Jordana Brewster, Tyrese Gibson, Chris “Ludacris” Bridges, Sung Kang, Tego Calderon, Don Omar, Gal Gadot, with Dwayne Johnson, and Matt Schulze.\\n\\nThe Rock first appears in Fast Five as Luke Hobbs, and we finally see Ludacris and Tyrese return to the franchise. Sung Kang also appears as Han – and Gal Gadot pops up too. The movies start ramping up and steering into the ridiculousness here.\\n\\nWhere to watch: Amazon\\n\\n6. Fast & Furious 6 (2013)\\n\\nStarring: Vin Diesel, Paul Walker, Dwayne Johnson, Michelle Rodriguez, Jordana Brewster, Tyrese Gibson, Chris \"Ludacris\" Bridges, Sung Kang, Gal Gadot, Luke Evans, Gina Carano, John Ortiz.\\n\\nWe have a new villain introduced, or a whole villain family with Luke Evans starring as Owen Shaw. We also have a post-credits scene to introduce Jason Statham\\'s character Deckard Shaw, who appears to kill Han in a scene first glimpsed in Tokyo Drift. Now we\\'ve caught up – phew.\\n\\nWhere to watch: Amazon\\n\\n7. Furious 7 (2015)\\n\\nStarring: Vin Diesel, Paul Walker, Dwayne Johnson, Michelle Rodriguez, Tyrese Gibson, Chris “Ludacris” Bridges, Jordana Brewster, Djimon Hounsou, with Kurt Russell, and Jason Statham.\\n\\nThe team reunite for this one that sees us say goodbye to Paul Walker. Statham is back after that credits scene for his first proper starring role in the FF franchise which saw him clash with Diesel and The Rock.\\n\\nWhere to watch: Amazon\\n\\nTake a look at our When is Black Friday 2022 explainer, for the latest news and advice on when to start your shopping this year.\\n\\n8. The Fate of the Furious (2017)\\n\\n2017 Universal City Studios Productions LLLP\\n\\nStarring: Vin Diesel, Dwayne Johnson, Jason Statham, Michelle Rodriguez, Tyrese Gibson, Chris \"Ludacris\" Bridges, Scott Eastwood, Nathalie Emmanuel, Elsa Pataky, with Kurt Russell, and Charlize Theron.\\n\\nWe carry on the franchise with this eighth movie. We say hello to Charlize Theron here as villain Cipher. This marks the first instalment without Paul Walker\\'s Brian and also introduces us to a new member of Dom\\'s clan.\\n\\nWhere to watch: Amazon\\n\\n9. Fast and Furious Presents: Hobbs and Shaw (2019)\\n\\nStarring: Dwayne Johnson, Jason Statham, Idris Elba, Vanessa Kirby, Cliff Curtis, and Helen Mirren.\\n\\nA little detour here, as it\\'s not really part of the core franchise, but a spin-off. The Rock and Statham return to team up against Idris Elba\\'s super-soldier. Shaw transitions from villain to hero. Vanessa Kirby also stars as Statham\\'s sister Hattie, while Helen Mirren reprises her role as their mother following a cameo in the eighth Fast and Furious film.\\n\\nWhere to watch: Amazon\\n\\n10. F9 (2021)\\n\\nUniversal\\n\\nStarring: Vin Diesel, Michelle Rodriguez, Tyrese Gibson, Chris \"Ludacris\" Bridges, John Cena, Nathalie Emmanuel, Jordana Brewster, Sung Kang, with Helen Mirren, with Kurt Russell, and Charlize Theron.\\n\\nIn the most recent instalment of The Fast Saga, Dominic and Letty find their retirement interrupted as a dangerous new threat emerges: Dom\\'s younger brother, Jakob Toretto, played by John Cena.\\n\\nDwayne Johnson is absent from this film, but we do get the return of Charlize Theron as Cipher and Helen Mirren as Queenie Shaw.\\n\\nWhere to watch: Amazon\\n\\n11. Fast X\\n\\nUniversal\\n\\nStarring: Vin Diesel, Michelle Rodriguez, Tyrese Gibson, Chris \"Ludacris\" Bridges, Jordana Brewster, Nathalie Emmanuel, Sung Kang, Jason Statham, Scott Eastwood, Michael Rooker, Charlize Theron, Cardi B, Jason Momoa, Daniela Melchior, Brie Larson, Alan Ritchson, and Rita Moreno.\\n\\nThe tenth and penultimate film in the main Fast and Furious series will be due in 2023.\\n\\nThe film will see Jason Statham return to the main franchise as Deckard Shaw, whilst also introducing new stars to the series in the form of Jason Momoa as a villain and Oscar winners Brie Larson and Rita Moreno.\\n\\nCharlize Theron will also return as the recurring antagonist and hacker Cipher.\\n\\nWe wouldn\\'t be surprised if this one ends in a cliffhanger ahead of the eleventh film.\\n\\nFast X to be released in cinemas on 19th May 2023.\\n\\nWhere to watch the Fast and Furious movies\\n\\nUntil recently, most of the Fast and Furious franchise could be viewed on streaming service NOW with a cinema pass (£11.99 a month), however, the majority of the films have now left the platform – with only Furious 7 (2015) remaining.\\n\\nNone of the franchise is available on Netflix.\\n\\nAs for the first 6 films and the Fate of the Furious, all of these are available to stream for free on Prime Video for subscribers but you can rent or purchase F9 and Hobbs & Shaw of Amazon Prime Video, with prices ranging from £2.49 to £4.99.\\n\\nThe director\\'s cut of Fast and Furious 9 is also available on the service.\\n\\nThe Fast and Furious films are available to watch and buy/rent on Amazon Prime Video – try Amazon Prime Video for free for 30 days.\\n\\nIf you’re looking for something else to watch check out our TV Guide or Streaming Guide, or visit our dedicated Film hub.\\n\\nAdvertisement\\n\\nTry Radio Times magazine today and get 12 issues for only £1 with delivery to your home – subscribe now. For more from the biggest stars in TV, listen to The Radio Times Podcast.\\n\\nSponsored content\\n\\nAdvertisement\\n\\nAdvertisement\\n\\nYou may like\\n\\nHow to watch the X-Men movies in order - full chronological timeline and release order\\n\\nHow to watch all Marvel movies in order: MCU chronological timeline and release order\\n\\nAll about\\n\\nFast & Furious 6News, photos, videos and full episode guide\\n\\nAdvertisement\\n\\nYou may also like\\n\\nHow to watch the X-Men movies in order - full chronological timeline and release order\\n\\nHow to watch all Marvel movies in order: MCU chronological timeline and release order\\n\\nHow to watch the Star Wars movies in order: Every order from chronological timeline to release date\\n\\nHow to watch all five Indiana Jones movies in chronological order\\n\\nSponsored content' metadata={'source': 'https://www.radiotimes.com/movies/fast-and-furious-order/'}\n"
     ]
    }
   ],
   "source": [
    "from langchain.document_loaders import SeleniumURLLoader\n",
    "\n",
    "urls = [result[\"link\"] for result in results]\n",
    "\n",
    "loader = SeleniumURLLoader(\n",
    "    urls=urls,\n",
    "    binary_location=os.environ.get(\"BROWSER_EXEC_PATH\"),\n",
    ")\n",
    "docs = loader.load()\n",
    "\n",
    "print(\"Number of pages:\", len(docs))\n",
    "print(docs[0])"
   ]
  },
  {
   "attachments": {},
   "cell_type": "markdown",
   "metadata": {},
   "source": [
    "### 3. Split documents into chunks"
   ]
  },
  {
   "cell_type": "code",
   "execution_count": 8,
   "metadata": {},
   "outputs": [
    {
     "name": "stdout",
     "output_type": "stream",
     "text": [
      "Number of chunks: 28\n"
     ]
    },
    {
     "data": {
      "text/plain": [
       "Document(page_content=\"Home\\n\\nMovies\\n\\nHow to watch all the Fast and Furious movies in order - full chronological timeline and release order\\n\\nWe may earn commission from links on this page. Our editorial is always independent (learn more)\\n\\nHow to watch all the Fast and Furious movies in order - full chronological timeline and release order\\n\\nWhat’s the best way to watch Vin Diesel, Dwayne Johnson and Paul Walker in action? Here's a speedy explanation of the Fast & Furious movie timeline.\\n\\nUniversal\\n\\nBy \\n\\nThomas Ling\\n\\nPublished: Wednesday, 22nd March 2023 at 11:10 am\\n\\nSave\\n\\nShare on facebook\\n\\nShare on twitter\\n\\nShare on pinterest\\n\\nShare on reddit\\n\\nEmail to a friend\\n\\nIf you’re planning to watch the Fast and Furious movies before Fast X speeds into cinemas this May, it’s a good idea to make sure you’re watching them in the best order.\\n\\nAdvertisement\\n\\nYou might think a blockbuster franchise about cars would be pretty straightforward, but since it began in 2001 with the loud and brash street-racing and gangster thriller The Fast and Furious, the franchise has only got bigger in size, ambition and outrageousness – and the complicated narrative the 12 films have woven together can be difficult to follow.\\n\\nWith the two-part finale to the Fast saga wrapping up the story for Dominic Toretto (Vin Diesel) and his crew, the stakes are bound to be high.\\n\\nSo, ahead of Fast X, which will see the Toretto family tree branching out further, with Hollywood icon Rita Moreno joining the cast as Dom's grandmother, read on for everything you need to know about how watch the franchise in order.\\n\\nHow to watch the Fast and Furious movies: chronological timeline order\\n\\nAlthough most of the Fast films follow on from each other, there is one standout exception: you guessed it, The Fast and the Furious: Tokyo Drift.\\n\\nAlthough it was the third Fast film to be released in cinemas, Tokyo Drift is actually set between Fast & Furious 6 and Furious 7. Swerving away from the story of Brian and Dom, the film follows a completely new set of characters led by Sean Boswell (Lucas Black), a student forced to move to Japan to avoid jail time.\\n\\nHere are the movies in chronological order:\\n\\nThe Fast and the Furious (2001)\\n\\n2 Fast 2 Furious (2003)\\n\\nFast & Furious (2009)\\n\\nFast Five (2011)\\n\\nFast & Furious 6 (2013)\\n\\nThe Fast and the Furious: Tokyo Drift (2006)\\n\\nFurious 7 (2015)\\n\\nThe Fate of the Furious (2017)\\n\\nFast & Furious Presents: Hobbs & Shaw (2019)\\n\\nF9 (2021)\\n\\nFast and Furious 10 (2023)\\n\\nTokyo Drift also marks the first appearance of Han Lue, a fan favourite who (SPOILER ALERT) appeared to be killed in a chase near the end of the film.\\n\\nUniversal\\n\\nFortunately, Universal decided Han was so popular he would be resurrected with a clever workaround: all subsequent Fast films would be set before Toyko Drift.\\n\\nThis meant Han was able to return alive and well in Fast & Furious, the next film in the franchise.\\n\\nFast and Furious timeline\\n\\nJust to make things even more complicated, the Fast and Furious franchise also features several high-speed prequels, sequels and midquels. Most of these shorts were created for DVD releases of the original movies, shining light on unknown areas of the high-speed saga’s timeline.\\n\\nMore like this\\n\\nHow to watch the X-Men movies in order - full chronological timeline and release order\\n\\nFirst released on the DVD of 2 Fast 2 Furious (the next film on this list), the short film Turbo-Charged Prelude shows exactly how Brian (Paul Walker) went from being an LAPD cop to criminal. The reason is the one you’d expect: after assisting Dom Toretto (Vin Diesel) evade law enforcement, Brian himself becomes a wanted man.\\n\\nLos Bandoleros, the next short film, focuses on Dom and was served up to fans via a DVD bonus feature. No, it doesn’t explain how Brian became a fully-fledged FBI agent by the next film but does introduce audiences to Han (Sung Kang), Rico (Don Omar) and Tego (Tego Calderon). Including all of these mini-movies, the Fast and Furious timeline looks like this:\", metadata={'source': 'https://www.radiotimes.com/movies/fast-and-furious-order/'})"
      ]
     },
     "execution_count": 8,
     "metadata": {},
     "output_type": "execute_result"
    }
   ],
   "source": [
    "from langchain.text_splitter import RecursiveCharacterTextSplitter\n",
    "\n",
    "text_splitter = RecursiveCharacterTextSplitter(chunk_size=4000, chunk_overlap=100)\n",
    "splitted_docs = text_splitter.split_documents(docs)\n",
    "\n",
    "print(\"Number of chunks:\", len(splitted_docs))\n",
    "splitted_docs[0]"
   ]
  },
  {
   "attachments": {},
   "cell_type": "markdown",
   "metadata": {},
   "source": [
    "### 4. Compute embeddings"
   ]
  },
  {
   "cell_type": "code",
   "execution_count": 11,
   "metadata": {},
   "outputs": [],
   "source": [
    "from langchain.embeddings import HuggingFaceEmbeddings\n",
    "\n",
    "embeddings = HuggingFaceEmbeddings()\n",
    "\n",
    "docs_embeddings = embeddings.embed_documents([doc.page_content for doc in docs])\n",
    "query_embedding = embeddings.embed_query(query)"
   ]
  },
  {
   "attachments": {},
   "cell_type": "markdown",
   "metadata": {},
   "source": [
    "### 5. Find top k chunks"
   ]
  },
  {
   "cell_type": "code",
   "execution_count": 12,
   "metadata": {},
   "outputs": [],
   "source": [
    "import numpy as np\n",
    "from sklearn.metrics.pairwise import cosine_similarity\n",
    "from typing import List\n",
    "\n",
    "\n",
    "def get_top_k_indices(\n",
    "    list_of_doc_vectors: List[List[float]], query_vector: List[float], top_k: int\n",
    ") -> List[int]:\n",
    "    \"\"\"\n",
    "    Returns the indices of the top K vectors in the list of document vectors that\n",
    "    are most similar to the query vector.\n",
    "\n",
    "    :param list_of_doc_vectors: a list of document vectors\n",
    "    :param query_vector: a query vector\n",
    "    :param top_k: the number of top vectors to retrieve\n",
    "    :return: a list of indices of the top K vectors in the list of document vectors\n",
    "    \"\"\"\n",
    "    # convert the lists of vectors to numpy arrays\n",
    "    list_of_doc_vectors = np.array(list_of_doc_vectors)\n",
    "    query_vector = np.array(query_vector)\n",
    "\n",
    "    # compute cosine similarities\n",
    "    similarities = cosine_similarity(\n",
    "        query_vector.reshape(1, -1), list_of_doc_vectors\n",
    "    ).flatten()\n",
    "\n",
    "    # sort the vectors based on cosine similarity\n",
    "    sorted_indices = np.argsort(similarities)[::-1]\n",
    "\n",
    "    # retrieve the top K indices from the sorted list\n",
    "    top_k_indices = sorted_indices[:top_k]\n",
    "\n",
    "    return top_k_indices\n",
    "\n",
    "\n",
    "top_k = 3\n",
    "best_indexes = get_top_k_indices(docs_embeddings, query_embedding, top_k)\n",
    "best_k_documents = [doc for i, doc in enumerate(docs) if i in best_indexes]"
   ]
  },
  {
   "attachments": {},
   "cell_type": "markdown",
   "metadata": {},
   "source": [
    "### 6. Generate answer"
   ]
  },
  {
   "cell_type": "code",
   "execution_count": 18,
   "metadata": {},
   "outputs": [
    {
     "name": "stdout",
     "output_type": "stream",
     "text": [
      "Answer: The latest Fast and Furious movie is \"Fast X.\"\n",
      "Sources: https://www.radiotimes.com/movies/fast-and-furious-order/, https://www.ign.com/articles/fast-and-furious-movies-in-order, https://www.comingsoon.net/guides/news/1287501-is-fast-x-the-last-movie-fast-and-furious-franchise-final-one-10\n"
     ]
    }
   ],
   "source": [
    "from langchain.chains.qa_with_sources import load_qa_with_sources_chain\n",
    "from langchain.chat_models import AzureChatOpenAI\n",
    "\n",
    "llm = AzureChatOpenAI(deployment_name=\"gpt4\", temperature=0)\n",
    "chain = load_qa_with_sources_chain(llm, chain_type=\"stuff\")\n",
    "\n",
    "response = chain(\n",
    "    {\"input_documents\": best_k_documents, \"question\": query}, return_only_outputs=True\n",
    ")\n",
    "\n",
    "response_text, response_sources = response[\"output_text\"].split(\"SOURCES:\")\n",
    "response_text = response_text.strip()\n",
    "response_sources = response_sources.strip()\n",
    "\n",
    "print(f\"Answer: {response_text}\")\n",
    "print(f\"Sources: {response_sources}\")"
   ]
  }
 ],
 "metadata": {
  "kernelspec": {
   "display_name": "llm",
   "language": "python",
   "name": "python3"
  },
  "language_info": {
   "codemirror_mode": {
    "name": "ipython",
    "version": 3
   },
   "file_extension": ".py",
   "mimetype": "text/x-python",
   "name": "python",
   "nbconvert_exporter": "python",
   "pygments_lexer": "ipython3",
   "version": "3.11.3"
  }
 },
 "nbformat": 4,
 "nbformat_minor": 2
}
