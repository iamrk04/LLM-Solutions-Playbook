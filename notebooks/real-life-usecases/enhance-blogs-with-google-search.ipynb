{
 "cells": [
  {
   "attachments": {},
   "cell_type": "markdown",
   "metadata": {},
   "source": [
    "# Supercharge Blog Posts Automatically with Google Search"
   ]
  },
  {
   "attachments": {},
   "cell_type": "markdown",
   "metadata": {},
   "source": [
    "## Introduction"
   ]
  },
  {
   "attachments": {},
   "cell_type": "markdown",
   "metadata": {},
   "source": [
    "These days, AI is changing the copyrighting field by serving as a writing assistant. These language models can find spelling or grammatical errors, change tones, summarize, or even extend the content. However, there are times when the model may not have the specialized knowledge in a particular field to provide expert-level suggestions for extending parts of an article.\n",
    "\n",
    "In this lesson, we will take you step by step through the process of building an application that can effortlessly expand text sections. The process begins by asking an LLM (ChatGPT) to generate a few search queries based on the text at hand. These queries are then used to search the Internet using Google Search API that captures relevant information on the subject. Lastly, only the most relevant results will be presented as context to the model to suggest better content."
   ]
  },
  {
   "cell_type": "markdown",
   "metadata": {},
   "source": [
    "## Workflow"
   ]
  },
  {
   "attachments": {},
   "cell_type": "markdown",
   "metadata": {},
   "source": [
    "First we generate candidate search queries from the selected paragraph that we want to expand. The queries are then used to extract relevant documents using a search engine (e.g. Bing or Google Search), which are the split into small chunks. We then compute embeddings of these chunks and save chunks and embeddings in a Deep Lake dataset. Last, the most similar chunks to the paragraph that we want to expand are retrieved from Deep Lake, and used in a prompt to expand the paragraph with further knowledge.\n",
    "<br/>\n",
    "<img src=\"../../images/blog-post-workflow.png\" alt=\"State of Workflow\" style=\"width: 60%; height: auto;\"/>"
   ]
  },
  {
   "attachments": {},
   "cell_type": "markdown",
   "metadata": {},
   "source": [
    "## Setup"
   ]
  },
  {
   "cell_type": "code",
   "execution_count": 1,
   "metadata": {},
   "outputs": [],
   "source": [
    "import openai\n",
    "import os\n",
    "from dotenv import load_dotenv, find_dotenv\n",
    "\n",
    "_ = load_dotenv(find_dotenv())\n",
    "openai.api_type = os.environ.get(\"OPENAI_API_TYPE\")\n",
    "openai.api_base = os.environ.get(\"OPENAI_API_BASE\")\n",
    "openai.api_key = os.environ.get(\"OPENAI_API_KEY\")\n",
    "openai.api_version = os.environ.get(\"OPENAI_API_VERSION\")"
   ]
  },
  {
   "attachments": {},
   "cell_type": "markdown",
   "metadata": {},
   "source": [
    "## Building the system"
   ]
  },
  {
   "attachments": {},
   "cell_type": "markdown",
   "metadata": {},
   "source": [
    "### 1. Generate Search Queries"
   ]
  },
  {
   "cell_type": "code",
   "execution_count": 2,
   "metadata": {},
   "outputs": [],
   "source": [
    "title = \"OpenAI CEO: AI regulation ‘is essential’\"\n",
    "\n",
    "text_all = \"\"\"Altman highlighted the potential benefits of AI technologies like \\\n",
    "ChatGPT and Dall-E 2 to help address significant challenges such as climate change \\\n",
    "and cancer, but he also stressed the need to mitigate the risks associated with \\\n",
    "increasingly powerful AI models. Altman proposed that governments consider implementing \\\n",
    "licensing and testing requirements for AI models that surpass a certain threshold of \\\n",
    "capabilities. He highlighted OpenAI’s commitment to safety and extensive testing before \\\n",
    "releasing any new systems, emphasising the company’s belief that ensuring the safety of \\\n",
    "AI is crucial. Senators Josh Hawley and Richard Blumenthal expressed their recognition \\\n",
    "of the transformative nature of AI and the need to understand its implications for \\\n",
    "elections, jobs, and security. Blumenthal played an audio introduction using an AI voice \\\n",
    "cloning software trained on his speeches, demonstrating the potential of the technology. \\\n",
    "Blumenthal raised concerns about various risks associated with AI, including deepfakes, \\\n",
    "weaponised disinformation, discrimination, harassment, and impersonation fraud. He also \\\n",
    "emphasised the potential displacement of workers in the face of a new industrial \\\n",
    "revolution driven by AI.\"\"\"\n",
    "\n",
    "text_to_change = \"\"\"Senators Josh Hawley and Richard Blumenthal expressed their \\\n",
    "recognition of the transformative nature of AI and the need to understand its \\\n",
    "implications for elections, jobs, and security. Blumenthal played an audio \\\n",
    "introduction using an AI voice cloning software trained on his speeches, \\\n",
    "demonstrating the potential of the technology.\"\"\""
   ]
  },
  {
   "cell_type": "code",
   "execution_count": 5,
   "metadata": {},
   "outputs": [
    {
     "name": "stdout",
     "output_type": "stream",
     "text": [
      "['AI voice cloning software examples and potential applications', 'Impacts of AI on elections, jobs, and security', \"Senator Richard Blumenthal's stance on AI regulation and technology\"]\n"
     ]
    }
   ],
   "source": [
    "from langchain.chat_models import AzureChatOpenAI\n",
    "from langchain.chains import LLMChain\n",
    "from langchain.prompts import PromptTemplate\n",
    "from langchain.prompts.chat import (\n",
    "    ChatPromptTemplate,\n",
    "    HumanMessagePromptTemplate,\n",
    ")\n",
    "\n",
    "template = \"\"\" You are an exceptional copywriter and content creator.\n",
    "\n",
    "You're reading an article with the following title:\n",
    "----------------\n",
    "{title}\n",
    "----------------\n",
    "\n",
    "You've just read the following piece of text from that article.\n",
    "----------------\n",
    "{text_all}\n",
    "----------------\n",
    "\n",
    "Inside that text, there's the following TEXT TO CONSIDER that you want to enrich with new details.\n",
    "----------------\n",
    "{text_to_change}\n",
    "----------------\n",
    "\n",
    "What are some simple and high-level Google queries that you'd do to search for \\\n",
    "more info to add to that paragraph? Write 3 queries as a bullet point list, \\\n",
    "prepending each line with -.\n",
    "\"\"\"\n",
    "\n",
    "human_message_prompt = HumanMessagePromptTemplate(\n",
    "    prompt=PromptTemplate(\n",
    "        template=template,\n",
    "        input_variables=[\"text_to_change\", \"text_all\", \"title\"],\n",
    "    )\n",
    ")\n",
    "chat_prompt_template = ChatPromptTemplate.from_messages([human_message_prompt])\n",
    "\n",
    "chat = AzureChatOpenAI(deployment_name=\"gpt4\", temperature=0.9)\n",
    "chain = LLMChain(llm=chat, prompt=chat_prompt_template)\n",
    "\n",
    "response = chain.run(\n",
    "    {\"text_to_change\": text_to_change, \"text_all\": text_all, \"title\": title}\n",
    ")\n",
    "\n",
    "queries = [line[2:] for line in response.split(\"\\n\")]\n",
    "print(queries)"
   ]
  },
  {
   "attachments": {},
   "cell_type": "markdown",
   "metadata": {},
   "source": [
    "### 2. Get Search Results"
   ]
  },
  {
   "attachments": {},
   "cell_type": "markdown",
   "metadata": {},
   "source": [
    "We must set up the API Key and a custom search engine to be able to use Google search API. To get the key, head to the [Google Cloud console](https://console.cloud.google.com/apis/credentials) and generate the key by pressing the CREATE CREDENTIALS buttons from the top and choosing API KEY. Then, head to the [Programmable Search Engine](https://programmablesearchengine.google.com/controlpanel/create) dashboard and remember to select the “Search the entire web” option. The Search engine ID will be visible in the details. You might also need to enable the “Custom Search API” service under the Enable APIs and services. (You will receive the instruction from API if required) We can now configure the environment variables `GOOGLE_CSE_ID` and `GOOGLE_API_KEY`, allowing the Google wrapper to connect with the API."
   ]
  },
  {
   "cell_type": "code",
   "execution_count": 8,
   "metadata": {},
   "outputs": [],
   "source": [
    "from langchain.tools import Tool\n",
    "from langchain.utilities import GoogleSearchAPIWrapper\n",
    "\n",
    "# Remember to set the \"GOOGLE_CSE_ID\" and \"GOOGLE_API_KEY\" environment variable.\n",
    "search = GoogleSearchAPIWrapper()\n",
    "TOP_N_RESULTS = 3\n",
    "\n",
    "\n",
    "def top_n_results(query):\n",
    "    return search.results(query, TOP_N_RESULTS)\n",
    "\n",
    "\n",
    "tool = Tool(\n",
    "    name=\"Google Search\",\n",
    "    description=\"Search Google for recent results.\",\n",
    "    func=top_n_results,\n",
    ")\n",
    "\n",
    "all_results = []\n",
    "\n",
    "for query in queries:\n",
    "    results = tool.run(query)\n",
    "    all_results += results"
   ]
  },
  {
   "cell_type": "code",
   "execution_count": 9,
   "metadata": {},
   "outputs": [
    {
     "data": {
      "text/plain": [
       "[{'title': 'Chatbots, deepfakes, and voice clones: AI deception for sale ...',\n",
       "  'link': 'https://www.ftc.gov/business-guidance/blog/2023/03/chatbots-deepfakes-voice-clones-ai-deception-sale',\n",
       "  'snippet': \"Mar 20, 2023 ... The FTC Act's prohibition on deceptive or unfair conduct can apply if you make, sell, or use a tool that is effectively designed to deceive –\\xa0...\"},\n",
       " {'title': '12 AI Voice Cloning Tools to Create Seamless Authentic Voiceovers ...',\n",
       "  'link': 'https://geekflare.com/ai-voice-cloning-tools/',\n",
       "  'snippet': \"4 days ago ... It has the potential to literally clone anybody's voice and then go on to read any ... Why Would You Want to Use an AI Voice Cloning Tool?\"},\n",
       " {'title': 'AI-based voice cloning',\n",
       "  'link': 'https://murf.ai/resources/dynamic-capabilities-of-ai-based-voice-cloning/',\n",
       "  'snippet': \"May 6, 2022 ... With Murf's voice cloning software, you can clone the voice of your favorite ... The potential applications of voice cloning are manifold.\"},\n",
       " {'title': 'Blumenthal & Hawley to Hold Hearing on Oversight of Artificial ...',\n",
       "  'link': 'https://www.blumenthal.senate.gov/newsroom/press/release/blumenthal-and-hawley-to-hold-hearing-on-oversight-of-artificial-intelligence',\n",
       "  'snippet': \"“Artificial intelligence will be transformative in ways we can't even imagine, with implications for Americans' elections, jobs, and security,” said Hawley.\"},\n",
       " {'title': 'Blueprint for an AI Bill of Rights | OSTP | The White House',\n",
       "  'link': 'https://www.whitehouse.gov/ostp/ai-bill-of-rights/',\n",
       "  'snippet': 'Algorithmic discrimination occurs when automated systems contribute to unjustified different treatment or impacts disfavoring people based on their race, color,\\xa0...'},\n",
       " {'title': 'AI-generated disinformation poses threat of misleading voters in ...',\n",
       "  'link': 'https://www.pbs.org/newshour/politics/ai-generated-disinformation-poses-threat-of-misleading-voters-in-2024-election',\n",
       "  'snippet': \"May 14, 2023 ... The implications for the 2024 campaigns and elections are as ... WATCH: Security expert warns of AI tools' potential threat to democracy.\"},\n",
       " {'title': 'Blumenthal (And AI Software) Delivers Opening Remarks at Senate ...',\n",
       "  'link': 'https://www.blumenthal.senate.gov/newsroom/press/release/blumenthal-and-ai-software-delivers-opening-remarks-at-senate-hearing-on-oversight-of-artificial-intelligence',\n",
       "  'snippet': 'May 16, 2023 ... [WASHINGTON, DC] – U.S. Senator Richard Blumenthal (D-CT), Chair of the Senate Judiciary Subcommittee on Privacy, Technology, and the Law,\\xa0...'},\n",
       " {'title': 'Hawley, Blumenthal Introduce Bipartisan Legislation to Protect ...',\n",
       "  'link': 'https://www.hawley.senate.gov/hawley-blumenthal-introduce-bipartisan-legislation-protect-consumers-and-deny-ai-companies-section',\n",
       "  'snippet': 'Jun 14, 2023 ... and Richard Blumenthal (D-Conn.) ... make the same mistakes with generative AI as we did with Big Tech on Section 230,\" said Senator Hawley.'},\n",
       " {'title': 'Blumenthal & Hawley to Hold Hearing on Oversight of Artificial ...',\n",
       "  'link': 'https://www.blumenthal.senate.gov/newsroom/press/release/blumenthal-and-hawley-to-hold-hearing-on-oversight-of-artificial-intelligence',\n",
       "  'snippet': '“Artificial intelligence urgently needs rules and safeguards to address its ... The Senate Judiciary Subcommittee on Privacy, Technology and the Law has\\xa0...'}]"
      ]
     },
     "execution_count": 9,
     "metadata": {},
     "output_type": "execute_result"
    }
   ],
   "source": [
    "all_results"
   ]
  },
  {
   "attachments": {},
   "cell_type": "markdown",
   "metadata": {},
   "source": [
    "### 3. Find the Most Relevant Results"
   ]
  },
  {
   "attachments": {},
   "cell_type": "markdown",
   "metadata": {},
   "source": [
    "#### 3.1 Scrap the URLs"
   ]
  },
  {
   "cell_type": "code",
   "execution_count": 13,
   "metadata": {},
   "outputs": [
    {
     "name": "stdout",
     "output_type": "stream",
     "text": [
      "Number of pages: 9\n",
      "page_content='You may have heard of simulation theory, the notion that nothing is real and we’re all part of a giant computer program. Let’s assume at least for the length of this blog post that this notion is untrue. Nonetheless, we may be heading for a future in which a substantial portion of what we see, hear, and read is a computer-generated simulation. We always keep it real here at the FTC, but what happens when none of us can tell real from fake?\\n\\nIn a recent blog post, we discussed how the term “AI” can be used as a deceptive selling point for new products and services. Let’s call that the fake AI problem. Today’s topic is the use of AI behind the screen to create or spread deception. Let’s call this the AI fake problem. The latter is a deeper, emerging threat that companies across the digital ecosystem need to address. Now.\\n\\nImage\\n\\nMost of us spend lots of time looking at things on a device. Thanks to AI tools that create “synthetic media” or otherwise generate content, a growing percentage of what we’re looking at is not authentic, and it’s getting more difficult to tell the difference. And just as these AI tools are becoming more advanced, they’re also becoming easier to access and use. Some of these tools may have beneficial uses, but scammers can also use them to cause widespread harm.\\n\\nGenerative AI and synthetic media are colloquial terms used to refer to chatbots developed from large language models and to technology that simulates human activity, such as software that creates deepfake videos and voice clones. Evidence already exists that fraudsters can use these tools to generate realistic but fake content quickly and cheaply, disseminating it to large groups or targeting certain communities or specific individuals. They can use chatbots to generate spear-phishing emails, fake websites, fake posts, fake profiles, and fake consumer reviews, or to help create malware, ransomware, and prompt injection attacks. They can use deepfakes and voice clones to facilitate imposter scams, extortion, and financial fraud. And that’s very much a non-exhaustive list.\\n\\nThe FTC Act’s prohibition on deceptive or unfair conduct can apply if you make, sell, or use a tool that is effectively designed to deceive – even if that’s not its intended or sole purpose. So consider:\\n\\nShould you even be making or selling it? If you develop or offer a synthetic media or generative AI product, consider at the design stage and thereafter the reasonably foreseeable – and often obvious – ways it could be misused for fraud or cause other harm. Then ask yourself whether such risks are high enough that you shouldn’t offer the product at all. It’s become a meme, but here we’ll paraphrase Dr. Ian Malcolm, the Jeff Goldblum character in “Jurassic Park,” who admonished executives for being so preoccupied with whether they could build something that they didn’t stop to think if they should.\\n\\nAre you effectively mitigating the risks? If you decide to make or offer a product like that, take all reasonable precautions before it hits the market. The FTC has sued businesses that disseminated potentially harmful technologies without taking reasonable measures to prevent consumer injury. Merely warning your customers about misuse or telling them to make disclosures is hardly sufficient to deter bad actors. Your deterrence measures should be durable, built-in features and not bug corrections or optional features that third parties can undermine via modification or removal. If your tool is intended to help people, also ask yourself whether it really needs to emulate humans or can be just as effective looking, talking, speaking, or acting like a bot.\\n\\nAre you over-relying on post-release detection? Researchers continue to improve on detection methods for AI-generated videos, images, and audio. Recognizing AI-generated text is more difficult. But these researchers are in an arms race with companies developing the generative AI tools, and the fraudsters using these tools will often have moved on by the time someone detects their fake content. The burden shouldn’t be on consumers, anyway, to figure out if a generative AI tool is being used to scam them.\\n\\nAre you misleading people about what they’re seeing, hearing, or reading? If you’re an advertiser, you might be tempted to employ some of these tools to sell, well, just about anything. Celebrity deepfakes are already common, for example, and have been popping up in ads. We’ve previously warned companies that misleading consumers via doppelgängers, such as fake dating profiles, phony followers, deepfakes, or chatbots, could result – and in fact have resulted – in FTC enforcement actions.\\n\\nWhile the focus of this post is on fraud and deception, these new AI tools carry with them a host of other serious concerns, such as potential harms to children, teens, and other populations at risk when interacting with or subject to these tools. Commission staff is tracking those concerns closely as companies continue to rush these products to market and as human-computer interactions keep taking new and possibly dangerous turns.\\n\\nTags:\\n\\nConsumer Protection\\n\\nBureau of Consumer Protection\\n\\nIdentity Theft\\n\\nImposter\\n\\nJobs\\n\\nOnline Dating\\n\\nPhishing\\n\\nAdvertising and Marketing\\n\\nEndorsements, Influencers, and Reviews\\n\\nOnline Advertising and Marketing\\n\\nAdvertising and Marketing Basics\\n\\nPrivacy and Security\\n\\nData Security\\n\\nTech\\n\\nAdd new comment\\n\\nCAPTCHA    \\n        \\n  \\n  \\n  \\n\\n      \\n      This question is for testing whether or not you are a human visitor and to prevent automated spam submissions.\\n\\nRead Our Privacy Act Statement\\n\\nIt is your choice whether to submit a comment. If you do, you must create a user name, or we will not post your comment. The Federal Trade Commission Act authorizes this information collection for purposes of managing online comments. Comments and user names are part of the Federal Trade Commission’s (FTC) public records system, and user names also are part of the FTC’s\\xa0computer user records\\xa0system. We may routinely use these records as described in the FTC’s\\xa0Privacy Act system notices. For more information on how the FTC handles information that we collect, please read our privacy policy.\\n\\nRead Our Comment Policy\\n\\nThe purpose of this blog and its comments section is to inform readers about Federal Trade Commission activity, and share information to help them avoid, report, and recover from fraud, scams, and bad business practices. Your thoughts, ideas, and concerns are welcome, and we encourage comments. But keep in mind, this is a moderated blog. We review all comments before they are posted, and we won’t post comments that don’t comply with our commenting policy. We expect commenters to treat each other and the blog writers with respect.\\n\\nWe won’t post off-topic comments, repeated identical comments, or comments that include sales pitches or promotions.\\n\\nWe won’t post comments that include vulgar messages, personal attacks by name, or offensive terms that target specific people or groups.\\n\\nWe won’t post threats, defamatory statements, or suggestions or encouragement of illegal activity.\\n\\nWe won’t post comments that include personal information, like Social Security numbers, account numbers, home addresses, and email addresses. To file a detailed report about a scam, go to ReportFraud.ftc.gov.\\n\\nWe don\\'t edit comments to remove objectionable content, so please ensure that your comment contains none of the above. The comments posted on this blog become part of the public domain. To protect your privacy and the privacy of other people, please do not include personal information. Opinions in comments that appear in this blog belong to the individuals who expressed them. They do not belong to or represent views of the Federal Trade Commission.\\n\\nMarch 20, 2023\\n\\nI have been experiencing all if the above. Please help me.\\n\\nReply\\n\\nMarch 21, 2023\\n\\nI have been experiencing calls from Direct TV, ATT and Spectrum to the point of harassment.  I have reported as spam, call the respective companies (they totally ignore me) repeatedly.  Nothing stops it.  Since it is a recording can\\'t do anything about.  The telephone number are not real.  When will the FTC really and truly do something to help.\\n\\nReply\\n\\nMarch 21, 2023\\n\\nPlease help due to the fact that my two kids and myself are interfaces with remote implants via transmitter w/o our consent!\\n\\nReply\\n\\nMarch 22, 2023\\n\\nAnd what about people using AI to impersonate the likeness of my artworks and designs?\\n\\nReply\\n\\nMarch 22, 2023\\n\\nA huge amount of what\\'s described here is happening in digital art communities. It feels as if AI is seen as something inherently \"bad\" that people are trying to hide as much as possible. I feel like the end goal of this technology\\'s deployment in enterprise sectors is to become invisible to consumers unless explicitly acknowledged.\\n\\nReply\\n\\nMarch 27, 2023\\n\\n\"FTC Act’s prohibition on deceptive or unfair conduct\" Sounds like a violation of the first amendment when the product merely has the capability for deceptive production, as all generative technology can be. I think your agency needs a to lose a nice case before the Supreme Court before the chilling effects from your reactionary department impact technological progress.\\n\\nReply\\n\\nMarch 24, 2023\\n\\nAs usual uncle sam is here with red tape and no actual meaningful solutions. As per the FTC we shouldn\\'t work on progress and forever be remained tied to the status quo because it may be risky. It\\'s come to a point where they are using quotes from freaking Jurassic Park.\\n\\nIt\\'s unbecoming of a Government agency to post/act in this way.\\n\\nReply\\n\\nMarch 27, 2023\\n\\nSo it\\'s ok for the government to be using these tools for intelligence gathering, even when it\\'s arguably unconstitutional and illegal (PRISM), but when this tech is in the hands of corporations and people, the FTC is in a huff about \"consumer safety\".\\n\\nCreate better solutions FTC. Be better.\\n\\nReply\\n\\nMarch 24, 2023\\n\\nI must give, from the absolute most earnest, deepest, bottom of my heart, a very emphatic THANK YOU to the FTC for recognizing what a danger these AI chatbots, image generators, deepfakes, and voice emulators are. AI art programs like Stable Diffusion, Midjourney, and Dall-E, text generators like Chat GPT, and more, are so incredibly dangerous and disruptive to society, and if left unchecked could quite literally cause mass disorder as people use them to impersonate and frame people of things they have not done, or could be used as an excuse to dismiss legitimate charges. These AI programs, by design, are meant to confuse and deceive, and any action that can be taken against them and the companies that propagate them must be taken immediately.\\n\\nSo thank you, FTC, for recognizing the danger these technologies represent, and I hope that we will be seeing some serious investigations into the companies that insist on propagating them for a quick buck, as well as hopefully some serious restrictions on what AI can be used for in the future, and hopefully the dissolution of some of these designed-to-deceive technologies entirely in the future.\\n\\nReply\\n\\nMarch 28, 2023\\n\\nOh yeah, where was you agency when they were putting lead in gasoline? Or the toxic chemical spills happening every month? There are so many mundane things your agency fails at, we don\\'t need you butting in to new stuff.\\n\\nHow about instead of these cringe articles (very surprisingly written by an attorney) you make regulation that can address the underlying issues. For example, to prevent grandma from getting a deepfake call from a grandson asking for money, have phone companies implement a SSL type of solution for identity verification / caller ID.\\n\\nReply\\n\\nMarch 28, 2023\\n\\nThank you FTC. Ignore those people who want to make money off AI in its various forms. Consumers and businesses need and appreciate your help. Please continue!\\n\\nReply\\n\\nApril 05, 2023\\n\\nI received a call from AI solicitation for Social Security.\\n\\nReply\\n\\nApril 27, 2023\\n\\nCool\\n\\nReply\\n\\nMay 03, 2023\\n\\nHuman brain hacking is addictive to robocalling. I am witness robocalling has evolved using deepfakes to produce digital voice/speech doubles that simulate co-workers, friends and family. Over a span of time even emotive is perceived as authentic.  How ML speech technology is exploiting people is not only criminal it is a violation of human rights. Person A using a computer system located in adjacent community that can hack into the language center of victim/target person B using EMS enabled MBI.  Person B is a cyber-hacked human (1) when Person B initiates phone call and Person/Computer system A has Person B under ISP surveillance and on trigger transmits synthetic text to speech across language center...or (2) Person B responds to a phone call, the ISP triggers Person/System A to transmit synthetic text to speech across language center.... more\\n\\nReply\\n\\nMay 24, 2023\\n\\nYahoo had a AI chatbot posing as a human, on comment boards. And deceptive.Very concerning\\n\\nReply\\n\\nJune 20, 2023\\n\\nA.I. needs to be stopped.\\n\\nPeriod.\\n\\nReply\\n\\nGet Business Blog updates\\n\\nTopics\\n\\nAdvertising and Marketing (512)\\n\\nAdvertising and Marketing Basics (225)\\n\\nChildren (34)\\n\\nChildren\\'s Privacy (53)\\n\\nConsumer Privacy (112)\\n\\nCredit and Finance (214)\\n\\nCredit and Loans (67)\\n\\nCredit Reporting (58)\\n\\nData Security (169)\\n\\nDebt (31)\\n\\nDebt Collection (39)\\n\\nEndorsements, Influencers, and Reviews (110)\\n\\nEnvironmental Marketing (35)\\n\\nFinTech (30)\\n\\nGramm-Leach-Bliley Act (23)\\n\\nHealth Claims (154)\\n\\nHealth Privacy (22)\\n\\nMade in USA (26)\\n\\nMortgages (12)\\n\\nOnline Advertising and Marketing (185)\\n\\nPayments and Billing (92)\\n\\nPrivacy and Security (315)\\n\\nPrivacy Shield (12)\\n\\nRed Flags Rule (3)\\n\\nSelf-Regulation (1)\\n\\nSmall Business (130)\\n\\nTech (69)\\n\\nTelemarketing (75)\\n\\nU.S.-EU Safe Harbor Framework (2)\\n\\nSelected Industries\\n\\nAlcohol (2)\\n\\nAppliances (13)\\n\\nAutomobiles (44)\\n\\nClothing and Textiles (26)\\n\\nFinance (39)\\n\\nFranchises, Business Opportunities, and Investments (73)\\n\\nFunerals (9)\\n\\nHuman Resources (35)\\n\\nJewelry (7)\\n\\nNon-Profits (15)\\n\\nReal Estate and Mortgages (16)\\n\\nTobacco (4)\\n\\nArchives\\n\\nJuly 2023\\n                  (5)\\n\\nJune 2023\\n                  (13)\\n\\nMay 2023\\n                  (14)\\n\\nApril 2023\\n                  (8)\\n\\nMarch 2023\\n                  (9)\\n\\nFebruary 2023\\n                  (9)\\n\\nJanuary 2023\\n                  (8)\\n\\nDecember 2022\\n                  (8)\\n\\nNovember 2022\\n                  (11)\\n\\nOctober 2022\\n                  (6)\\n\\nView More\\n\\nMore from the Business Blog\\n\\nBusiness Blog\\n\\nCrypto platform Celsius feels the heat from FTC lawsuit alleging unfair and deceptive practices\\n\\nLesley Fair\\n\\nBusiness Blog\\n\\nShare your perspectives on the Health Breach Notification Rule\\n\\nLesley Fair\\n\\nBusiness Blog\\n\\nFranchise Fundamentals: Considering, calculating, and consulting\\n\\nLesley Fair\\n\\nBusiness Blog\\n\\nWatching the detectives: Suspicious marketing claims for tools that spot AI-generated content\\n\\nMichael Atleson, Attorney, FTC Division of Advertising Practices\\n\\nGet Business Blog updates\\n\\nReturn to top' metadata={'source': 'https://www.ftc.gov/business-guidance/blog/2023/03/chatbots-deepfakes-voice-clones-ai-deception-sale'}\n"
     ]
    }
   ],
   "source": [
    "from langchain.document_loaders import SeleniumURLLoader\n",
    "\n",
    "urls = [result[\"link\"] for result in all_results]\n",
    "\n",
    "loader = SeleniumURLLoader(\n",
    "    urls=urls,\n",
    "    binary_location=os.environ.get(\"BROWSER_EXEC_PATH\"),\n",
    ")\n",
    "docs = loader.load()\n",
    "\n",
    "print(\"Number of pages:\", len(docs))\n",
    "print(docs[0])"
   ]
  },
  {
   "attachments": {},
   "cell_type": "markdown",
   "metadata": {},
   "source": [
    "#### 3.2 Split the Text"
   ]
  },
  {
   "cell_type": "code",
   "execution_count": 14,
   "metadata": {},
   "outputs": [
    {
     "name": "stdout",
     "output_type": "stream",
     "text": [
      "Number of chunks:  40\n"
     ]
    }
   ],
   "source": [
    "from langchain.text_splitter import RecursiveCharacterTextSplitter\n",
    "\n",
    "\n",
    "text_splitter = RecursiveCharacterTextSplitter(chunk_size=3000, chunk_overlap=100)\n",
    "splitted_docs = text_splitter.split_documents(docs)\n",
    "\n",
    "print(\"Number of chunks: \", len(splitted_docs))"
   ]
  },
  {
   "attachments": {},
   "cell_type": "markdown",
   "metadata": {},
   "source": [
    "#### 3.3 Compute Embeddings"
   ]
  },
  {
   "cell_type": "code",
   "execution_count": 15,
   "metadata": {},
   "outputs": [],
   "source": [
    "from langchain.embeddings import HuggingFaceEmbeddings\n",
    "\n",
    "embeddings = HuggingFaceEmbeddings()\n",
    "\n",
    "docs_embeddings = embeddings.embed_documents([doc.page_content for doc in docs])\n",
    "query_embedding = embeddings.embed_query(text_to_change)"
   ]
  },
  {
   "attachments": {},
   "cell_type": "markdown",
   "metadata": {},
   "source": [
    "#### 3.4 Perform similarity search to get the most relevant results"
   ]
  },
  {
   "cell_type": "code",
   "execution_count": 16,
   "metadata": {},
   "outputs": [],
   "source": [
    "import numpy as np\n",
    "from sklearn.metrics.pairwise import cosine_similarity\n",
    "from typing import List\n",
    "\n",
    "\n",
    "def get_top_k_indices(\n",
    "    list_of_doc_vectors: List[List[float]], query_vector: List[float], top_k: int\n",
    ") -> List[int]:\n",
    "    \"\"\"\n",
    "    Returns the indices of the top K vectors in the list of document vectors that\n",
    "    are most similar to the query vector.\n",
    "\n",
    "    :param list_of_doc_vectors: a list of document vectors\n",
    "    :param query_vector: a query vector\n",
    "    :param top_k: the number of top vectors to retrieve\n",
    "    :return: a list of indices of the top K vectors in the list of document vectors\n",
    "    \"\"\"\n",
    "    # convert the lists of vectors to numpy arrays\n",
    "    list_of_doc_vectors = np.array(list_of_doc_vectors)\n",
    "    query_vector = np.array(query_vector)\n",
    "\n",
    "    # compute cosine similarities\n",
    "    similarities = cosine_similarity(\n",
    "        query_vector.reshape(1, -1), list_of_doc_vectors\n",
    "    ).flatten()\n",
    "\n",
    "    # sort the vectors based on cosine similarity\n",
    "    sorted_indices = np.argsort(similarities)[::-1]\n",
    "\n",
    "    # retrieve the top K indices from the sorted list\n",
    "    top_k_indices = sorted_indices[:top_k]\n",
    "\n",
    "    return top_k_indices\n",
    "\n",
    "\n",
    "top_k = 3\n",
    "best_indexes = get_top_k_indices(docs_embeddings, query_embedding, top_k)\n",
    "best_k_documents = [doc for i, doc in enumerate(docs) if i in best_indexes]"
   ]
  },
  {
   "attachments": {},
   "cell_type": "markdown",
   "metadata": {},
   "source": [
    "### 4. Extend the Sentence"
   ]
  },
  {
   "cell_type": "code",
   "execution_count": 17,
   "metadata": {},
   "outputs": [
    {
     "name": "stdout",
     "output_type": "stream",
     "text": [
      "Text to Change:  Senators Josh Hawley and Richard Blumenthal expressed their recognition of the transformative nature of AI and the need to understand its implications for elections, jobs, and security. Blumenthal played an audio introduction using an AI voice cloning software trained on his speeches, demonstrating the potential of the technology.\n",
      "Expanded Variation: Senators Josh Hawley and Richard Blumenthal, Chair and Ranking Member of the Senate Judiciary Subcommittee on Privacy, Technology, and the Law, expressed their recognition of the transformative nature of AI and the need to understand its implications for elections, jobs, and security. In a hearing titled \"Oversight of AI: Rules for Artificial Intelligence,\" held on May 16, 2023, Blumenthal played an audio introduction using an AI voice cloning software trained on his speeches, demonstrating the potential of the technology. The hearing aimed to explore sensible standards and principles to help navigate the uncharted territory of AI and featured testimony from OpenAI CEO Sam Altman, Professor Emeritus Gary Marcus from New York University, and Christina Montgomery, Vice President and Chief Privacy and Trust Officer at IBM. The subcommittee's jurisdiction covers legal issues pertaining to technology, online privacy, civil rights, and the impacts of new or emerging technologies.\n"
     ]
    }
   ],
   "source": [
    "template = \"\"\"You are an exceptional copywriter and content creator.\n",
    "\n",
    "You're reading an article with the following title:\n",
    "----------------\n",
    "{title}\n",
    "----------------\n",
    "\n",
    "You've just read the following piece of text from that article.\n",
    "----------------\n",
    "{text_all}\n",
    "----------------\n",
    "\n",
    "Inside that text, there's the following TEXT TO CONSIDER that you want to enrich with new details.\n",
    "----------------\n",
    "{text_to_change}\n",
    "----------------\n",
    "\n",
    "Searching around the web, you've found this ADDITIONAL INFORMATION from distinct articles.\n",
    "----------------\n",
    "{doc_1}\n",
    "----------------\n",
    "{doc_2}\n",
    "----------------\n",
    "{doc_3}\n",
    "----------------\n",
    "\n",
    "Modify the previous TEXT TO CONSIDER by enriching it with information from the previous \\\n",
    "ADDITIONAL INFORMATION.\n",
    "\"\"\"\n",
    "\n",
    "human_message_prompt = HumanMessagePromptTemplate(\n",
    "    prompt=PromptTemplate(\n",
    "        template=template,\n",
    "        input_variables=[\n",
    "            \"text_to_change\",\n",
    "            \"text_all\",\n",
    "            \"title\",\n",
    "            \"doc_1\",\n",
    "            \"doc_2\",\n",
    "            \"doc_3\",\n",
    "        ],\n",
    "    )\n",
    ")\n",
    "chat_prompt_template = ChatPromptTemplate.from_messages([human_message_prompt])\n",
    "\n",
    "chat = AzureChatOpenAI(deployment_name=\"gpt4\", temperature=0.9)\n",
    "chain = LLMChain(llm=chat, prompt=chat_prompt_template)\n",
    "\n",
    "response = chain.run(\n",
    "    {\n",
    "        \"text_to_change\": text_to_change,\n",
    "        \"text_all\": text_all,\n",
    "        \"title\": title,\n",
    "        \"doc_1\": best_k_documents[0].page_content,\n",
    "        \"doc_2\": best_k_documents[1].page_content,\n",
    "        \"doc_3\": best_k_documents[2].page_content,\n",
    "    }\n",
    ")\n",
    "\n",
    "print(\"Text to Change: \", text_to_change)\n",
    "print(\"Expanded Variation:\", response)"
   ]
  }
 ],
 "metadata": {
  "kernelspec": {
   "display_name": "llm",
   "language": "python",
   "name": "python3"
  },
  "language_info": {
   "codemirror_mode": {
    "name": "ipython",
    "version": 3
   },
   "file_extension": ".py",
   "mimetype": "text/x-python",
   "name": "python",
   "nbconvert_exporter": "python",
   "pygments_lexer": "ipython3",
   "version": "3.11.3"
  }
 },
 "nbformat": 4,
 "nbformat_minor": 2
}
