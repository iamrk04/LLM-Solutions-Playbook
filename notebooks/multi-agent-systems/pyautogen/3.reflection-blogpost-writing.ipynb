{
 "cells": [
  {
   "cell_type": "markdown",
   "metadata": {},
   "source": [
    "# Reflection and Blogpost Writing\n",
    "\n",
    "Here we will learn about **reflection agentic design pattern**, through a simple example of writing a blog post.\n",
    "\n",
    "---"
   ]
  },
  {
   "cell_type": "markdown",
   "metadata": {},
   "source": [
    "## Pre-requisites"
   ]
  },
  {
   "cell_type": "markdown",
   "metadata": {},
   "source": [
    "- Create conda env using the following command from the root of this repo: `conda env create -f ./notebooks/multi-agent-systems/pyautogen/conda-env.yaml`.\n",
    "- Please define the following environment variables in `.env` file:\n",
    "    - `OPENAI_API_BASE=\"<ENDPOINT_URL>\"`\n",
    "    - `OPENAI_API_KEY=\"<API_KEY>\"`"
   ]
  },
  {
   "cell_type": "markdown",
   "metadata": {},
   "source": [
    "## Introduction"
   ]
  },
  {
   "cell_type": "markdown",
   "metadata": {},
   "source": [
    "- We will use **nested chat conversation pattern** to realize a sophisticated reflection process.\n",
    "- We will build a system where a set of reviewer agents is nested within a critic agent, to reflect on a blog post written by a writer agent."
   ]
  },
  {
   "cell_type": "markdown",
   "metadata": {},
   "source": [
    "## Setup"
   ]
  },
  {
   "cell_type": "code",
   "execution_count": 22,
   "metadata": {},
   "outputs": [],
   "source": [
    "import warnings\n",
    "import os\n",
    "from dotenv import load_dotenv, find_dotenv\n",
    "\n",
    "warnings.filterwarnings('ignore')\n",
    "_ = load_dotenv(find_dotenv())"
   ]
  },
  {
   "cell_type": "markdown",
   "metadata": {},
   "source": [
    "Please find additional info about how to create LLM Configuration [over here](https://microsoft.github.io/autogen/docs/topics/llm_configuration)."
   ]
  },
  {
   "cell_type": "code",
   "execution_count": 23,
   "metadata": {},
   "outputs": [],
   "source": [
    "llm_config = {\n",
    "    \"model\": \"gpt-4-turbo\",\n",
    "    \"api_type\": \"azure\",\n",
    "    \"base_url\": os.environ.get(\"OPENAI_API_BASE\"),\n",
    "    \"api_key\": os.environ.get(\"OPENAI_API_KEY\"),\n",
    "}"
   ]
  },
  {
   "cell_type": "markdown",
   "metadata": {},
   "source": [
    "## The task"
   ]
  },
  {
   "cell_type": "code",
   "execution_count": 24,
   "metadata": {},
   "outputs": [],
   "source": [
    "task = '''\n",
    "        Write a concise but engaging blogpost about\n",
    "       DeepLearning.AI. Make sure the blogpost is\n",
    "       within 100 words.\n",
    "       '''"
   ]
  },
  {
   "cell_type": "markdown",
   "metadata": {},
   "source": [
    "## Create a writer agent"
   ]
  },
  {
   "cell_type": "code",
   "execution_count": 25,
   "metadata": {},
   "outputs": [],
   "source": [
    "import autogen\n",
    "\n",
    "writer = autogen.AssistantAgent(\n",
    "    name=\"Writer\",\n",
    "    system_message=\"You are a writer. You write engaging and concise \" \n",
    "        \"blogpost (with title) on given topics. You must polish your \"\n",
    "        \"writing based on the feedback you receive and give a refined \"\n",
    "        \"version. Only return your final work without additional comments.\",\n",
    "    llm_config=llm_config,\n",
    ")"
   ]
  },
  {
   "cell_type": "code",
   "execution_count": 26,
   "metadata": {},
   "outputs": [
    {
     "name": "stdout",
     "output_type": "stream",
     "text": [
      "### Unveiling the Mysteries of AI with DeepLearning.AI\n",
      "\n",
      "In the rapidly evolving arena of artificial intelligence, DeepLearning.AI stands out as a beacon for those looking to dive into the complexities of AI and machine learning. Founded by Andrew Ng, a pioneer in the AI industry, this educational platform offers a plethora of courses designed to equip novices and professionals alike with the skills necessary in today’s tech-driven world. Through their in-depth tutorials and hands-on projects, learners understand AI algorithms and apply them practically. Whether you're starting from scratch or looking to polish your skills, DeepLearning.AI guides you through each step of mastering this cutting-edge technology.\n"
     ]
    }
   ],
   "source": [
    "reply = writer.generate_reply(messages=[{\"content\": task, \"role\": \"user\"}])\n",
    "print(reply)"
   ]
  },
  {
   "cell_type": "markdown",
   "metadata": {},
   "source": [
    "## Adding reflection"
   ]
  },
  {
   "cell_type": "markdown",
   "metadata": {},
   "source": [
    "### Two-agents reflection"
   ]
  },
  {
   "cell_type": "markdown",
   "metadata": {},
   "source": [
    "Create a critic agent to reflect on the work of the writer agent.\n",
    "\n",
    "<img src=\"./images/two-agents-reflection.png\" alt=\"Customer Onboarding Overview\" style=\"width: 30%;\"/>"
   ]
  },
  {
   "cell_type": "code",
   "execution_count": 27,
   "metadata": {},
   "outputs": [],
   "source": [
    "critic = autogen.AssistantAgent(\n",
    "    name=\"Critic\",\n",
    "    is_termination_msg=lambda x: x.get(\"content\", \"\").find(\"TERMINATE\") >= 0,\n",
    "    llm_config=llm_config,\n",
    "    system_message=\"You are a critic. You review the work of \"\n",
    "                \"the writer and provide constructive \"\n",
    "                \"feedback to help improve the quality of the content.\",\n",
    ")"
   ]
  },
  {
   "cell_type": "code",
   "execution_count": 28,
   "metadata": {},
   "outputs": [
    {
     "name": "stdout",
     "output_type": "stream",
     "text": [
      "\u001b[33mCritic\u001b[0m (to Writer):\n",
      "\n",
      "\n",
      "        Write a concise but engaging blogpost about\n",
      "       DeepLearning.AI. Make sure the blogpost is\n",
      "       within 100 words.\n",
      "       \n",
      "\n",
      "--------------------------------------------------------------------------------\n",
      "\u001b[33mWriter\u001b[0m (to Critic):\n",
      "\n",
      "### Revolutionizing AI Education: A Closer Look at DeepLearning.AI\n",
      "\n",
      "DeepLearning.AI is an innovative education technology company, spearheaded by AI pioneer Andrew Ng. Since its inception, it has become a beacon for professionals and enthusiasts alike, eager to harness the power of artificial intelligence. The platform offers a plethora of courses from AI fundamentals to cutting-edge specializations. What sets DeepLearning.AI apart is its community-focused approach, providing learners with valuable networking opportunities and real-world project experience. Whether you’re a novice or a seasoned expert, DeepLearning.AI equips you with the tools necessary to thrive in the era of AI. Ready to future-proof your career? Dive into DeepLearning.AI.\n",
      "\n",
      "--------------------------------------------------------------------------------\n",
      "\u001b[33mCritic\u001b[0m (to Writer):\n",
      "\n",
      "This is a well-crafted blog post that succinctly introduces DeepLearning.AI and its offerings. You’ve successfully highlighted its unique selling proposition and the extensive expertise of its founder, which adds credibility. However, consider addressing who the courses are specifically designed for to help readers immediately identify if it’s suited for their needs. Also, to further engage your readers, you might want to include a brief, compelling example of a success story from someone who used DeepLearning.AI. This can enrich the narrative and motivate readers to explore their courses. Good job maintaining clarity and enthusiasm throughout the post!\n",
      "\n",
      "--------------------------------------------------------------------------------\n",
      "\u001b[33mWriter\u001b[0m (to Critic):\n",
      "\n",
      "### Revolutionizing AI Education: A Closer Look at DeepLearning.AI\n",
      "\n",
      "DeepLearning.AI is transforming AI education under the guidance of AI pioneer Andrew Ng. Targeted at both beginners and seasoned professionals, the platform offers a range of courses from AI fundamentals to advanced specializations. DeepLearning.AI stands out with its community-focused ethos providing networking opportunities and hands-on project experience. A testament to its impact, alum Sarah Johnson, who transitioned from a non-tech role to AI Engineer, credits her success to the curriculum. Whether you're looking to start or scale your career in AI, DeepLearning.AI provides the necessary tools to excel in this fast-evolving field. Ready to future-proof your skills? Explore DeepLearning.AI.\n",
      "\n",
      "--------------------------------------------------------------------------------\n"
     ]
    }
   ],
   "source": [
    "res = critic.initiate_chat(\n",
    "    recipient=writer,\n",
    "    message=task,\n",
    "    max_turns=2,\n",
    "    summary_method=\"last_msg\"\n",
    ")"
   ]
  },
  {
   "cell_type": "markdown",
   "metadata": {},
   "source": [
    "### Nested chat reflection"
   ]
  },
  {
   "cell_type": "markdown",
   "metadata": {},
   "source": [
    "<img src=\"./images/nested-chat-reflection.png\" alt=\"Nested Chat Reflection\" style=\"width: 40%;\"/>"
   ]
  },
  {
   "cell_type": "code",
   "execution_count": 29,
   "metadata": {},
   "outputs": [],
   "source": [
    "SEO_reviewer = autogen.AssistantAgent(\n",
    "    name=\"SEO_Reviewer\",\n",
    "    llm_config=llm_config,\n",
    "    system_message=\"You are an SEO reviewer, known for \"\n",
    "        \"your ability to optimize content for search engines, \"\n",
    "        \"ensuring that it ranks well and attracts organic traffic. \" \n",
    "        \"Make sure your suggestion is concise (within 3 bullet points), \"\n",
    "        \"concrete and to the point. \"\n",
    "        \"Begin the review by stating your role.\",\n",
    ")"
   ]
  },
  {
   "cell_type": "code",
   "execution_count": 30,
   "metadata": {},
   "outputs": [],
   "source": [
    "legal_reviewer = autogen.AssistantAgent(\n",
    "    name=\"Legal_Reviewer\",\n",
    "    llm_config=llm_config,\n",
    "    system_message=\"You are a legal reviewer, known for \"\n",
    "        \"your ability to ensure that content is legally compliant \"\n",
    "        \"and free from any potential legal issues. \"\n",
    "        \"Make sure your suggestion is concise (within 3 bullet points), \"\n",
    "        \"concrete and to the point. \"\n",
    "        \"Begin the review by stating your role.\",\n",
    ")"
   ]
  },
  {
   "cell_type": "code",
   "execution_count": 31,
   "metadata": {},
   "outputs": [],
   "source": [
    "ethics_reviewer = autogen.AssistantAgent(\n",
    "    name=\"Ethics_Reviewer\",\n",
    "    llm_config=llm_config,\n",
    "    system_message=\"You are an ethics reviewer, known for \"\n",
    "        \"your ability to ensure that content is ethically sound \"\n",
    "        \"and free from any potential ethical issues. \" \n",
    "        \"Make sure your suggestion is concise (within 3 bullet points), \"\n",
    "        \"concrete and to the point. \"\n",
    "        \"Begin the review by stating your role. \",\n",
    ")"
   ]
  },
  {
   "cell_type": "code",
   "execution_count": 32,
   "metadata": {},
   "outputs": [],
   "source": [
    "meta_reviewer = autogen.AssistantAgent(\n",
    "    name=\"Meta_Reviewer\",\n",
    "    llm_config=llm_config,\n",
    "    system_message=\"You are a meta reviewer, you aggragate and review \"\n",
    "    \"the work of other reviewers and give a final suggestion on the content.\",\n",
    ")"
   ]
  },
  {
   "cell_type": "markdown",
   "metadata": {},
   "source": [
    "#### Orchestrate the nested chats to solve the task"
   ]
  },
  {
   "cell_type": "code",
   "execution_count": 33,
   "metadata": {},
   "outputs": [],
   "source": [
    "def reflection_message(recipient, messages, sender, config):\n",
    "    return f\"\"\"Review the following content. \n",
    "            \\n\\n {recipient.chat_messages_for_summary(sender)[-1]['content']}\"\"\"\n",
    "\n",
    "\n",
    "review_chats = [\n",
    "    {\n",
    "        \"recipient\": SEO_reviewer,\n",
    "        \"message\": reflection_message,\n",
    "        \"summary_method\": \"reflection_with_llm\",\n",
    "        \"summary_args\": {\n",
    "            \"summary_prompt\": \"Return review into as JSON object only:\"\n",
    "            \"{'Reviewer': '', 'Review': ''}. Here Reviewer should be your role\",\n",
    "        },\n",
    "        \"max_turns\": 1,\n",
    "    },\n",
    "    {\n",
    "        \"recipient\": legal_reviewer,\n",
    "        \"message\": reflection_message,\n",
    "        \"summary_method\": \"reflection_with_llm\",\n",
    "        \"summary_args\": {\n",
    "            \"summary_prompt\": \"Return review into as JSON object only:\"\n",
    "            \"{'Reviewer': '', 'Review': ''}.\",\n",
    "        },\n",
    "        \"max_turns\": 1,\n",
    "    },\n",
    "    {\n",
    "        \"recipient\": ethics_reviewer,\n",
    "        \"message\": reflection_message,\n",
    "        \"summary_method\": \"reflection_with_llm\",\n",
    "        \"summary_args\": {\n",
    "            \"summary_prompt\": \"Return review into as JSON object only:\"\n",
    "            \"{'reviewer': '', 'review': ''}\",\n",
    "        },\n",
    "        \"max_turns\": 1,\n",
    "    },\n",
    "    {\n",
    "        \"recipient\": meta_reviewer,\n",
    "        \"message\": \"Aggregrate feedback from all reviewers and give final suggestions on the writing.\",\n",
    "        \"max_turns\": 1,\n",
    "    },\n",
    "]"
   ]
  },
  {
   "cell_type": "code",
   "execution_count": 34,
   "metadata": {},
   "outputs": [],
   "source": [
    "critic.register_nested_chats(\n",
    "    review_chats,\n",
    "    trigger=writer,  # wnenever writer sends a message, the review_chats will be triggered\n",
    ")"
   ]
  },
  {
   "cell_type": "code",
   "execution_count": 35,
   "metadata": {},
   "outputs": [
    {
     "name": "stdout",
     "output_type": "stream",
     "text": [
      "\u001b[33mCritic\u001b[0m (to Writer):\n",
      "\n",
      "\n",
      "        Write a concise but engaging blogpost about\n",
      "       DeepLearning.AI. Make sure the blogpost is\n",
      "       within 100 words.\n",
      "       \n",
      "\n",
      "--------------------------------------------------------------------------------\n",
      "\u001b[33mWriter\u001b[0m (to Critic):\n",
      "\n",
      "### Revolutionizing AI Education: A Closer Look at DeepLearning.AI\n",
      "\n",
      "DeepLearning.AI is an innovative education technology company, spearheaded by AI pioneer Andrew Ng. Since its inception, it has become a beacon for professionals and enthusiasts alike, eager to harness the power of artificial intelligence. The platform offers a plethora of courses from AI fundamentals to cutting-edge specializations. What sets DeepLearning.AI apart is its community-focused approach, providing learners with valuable networking opportunities and real-world project experience. Whether you’re a novice or a seasoned expert, DeepLearning.AI equips you with the tools necessary to thrive in the era of AI. Ready to future-proof your career? Dive into DeepLearning.AI.\n",
      "\n",
      "--------------------------------------------------------------------------------\n",
      "\u001b[34m\n",
      "********************************************************************************\u001b[0m\n",
      "\u001b[34mStarting a new chat....\u001b[0m\n",
      "\u001b[34m\n",
      "********************************************************************************\u001b[0m\n",
      "\u001b[33mCritic\u001b[0m (to SEO_Reviewer):\n",
      "\n",
      "Review the following content. \n",
      "            \n",
      "\n",
      " ### Revolutionizing AI Education: A Closer Look at DeepLearning.AI\n",
      "\n",
      "DeepLearning.AI is an innovative education technology company, spearheaded by AI pioneer Andrew Ng. Since its inception, it has become a beacon for professionals and enthusiasts alike, eager to harness the power of artificial intelligence. The platform offers a plethora of courses from AI fundamentals to cutting-edge specializations. What sets DeepLearning.AI apart is its community-focused approach, providing learners with valuable networking opportunities and real-world project experience. Whether you’re a novice or a seasoned expert, DeepLearning.AI equips you with the tools necessary to thrive in the era of AI. Ready to future-proof your career? Dive into DeepLearning.AI.\n",
      "\n",
      "--------------------------------------------------------------------------------\n",
      "\u001b[33mSEO_Reviewer\u001b[0m (to Critic):\n",
      "\n",
      "As an SEO reviewer, here are my recommendations to optimize this content:\n",
      "\n",
      "1. **Keyword Optimization**: Integrate primary keywords like \"AI education platform,\" \"learn artificial intelligence,\" and \"AI courses online\" strategically throughout the content. Use secondary keywords like \"AI specializations\" and \"AI career advancement\" in subheadings.\n",
      "\n",
      "2. **Meta Description and Title Tags**: Craft a compelling meta description and optimize the title tag to include main keywords (e.g., \"Revolutionize Your Career with DeepLearning.AI’s AI Education Courses\").\n",
      "\n",
      "3. **Internal and External Links**: Include internal links to course pages or other relevant content on the DeepLearning.AI website. Add external links to reputable AI resources or Andrew Ng’s publications to enhance credibility and SEO.\n",
      "\n",
      "--------------------------------------------------------------------------------\n",
      "\u001b[34m\n",
      "********************************************************************************\u001b[0m\n",
      "\u001b[34mStarting a new chat....\u001b[0m\n",
      "\u001b[34m\n",
      "********************************************************************************\u001b[0m\n",
      "\u001b[33mCritic\u001b[0m (to Legal_Reviewer):\n",
      "\n",
      "Review the following content. \n",
      "            \n",
      "\n",
      " ### Revolutionizing AI Education: A Closer Look at DeepLearning.AI\n",
      "\n",
      "DeepLearning.AI is an innovative education technology company, spearheaded by AI pioneer Andrew Ng. Since its inception, it has become a beacon for professionals and enthusiasts alike, eager to harness the power of artificial intelligence. The platform offers a plethora of courses from AI fundamentals to cutting-edge specializations. What sets DeepLearning.AI apart is its community-focused approach, providing learners with valuable networking opportunities and real-world project experience. Whether you’re a novice or a seasoned expert, DeepLearning.AI equips you with the tools necessary to thrive in the era of AI. Ready to future-proof your career? Dive into DeepLearning.AI.\n",
      "Context: \n",
      "{\n",
      "  'Reviewer': 'SEO_Reviewer',\n",
      "  'Review': 'As an SEO reviewer, here are my recommendations to optimize this content: 1. **Keyword Optimization**: Integrate primary keywords like \"AI education platform,\" \"learn artificial intelligence,\" and \"AI courses online\" strategically throughout the content. Use secondary keywords like \"AI specializations\" and \"AI career advancement\" in subheadings. 2. **Meta Description and Title Tags**: Craft a compelling meta description and optimize the title tag to include main keywords (e.g., \"Revolutionize Your Career with DeepLearning.AI’s AI Education Courses\"). 3. **Internal and External Links**: Include internal links to course pages or other relevant content on the DeepLearning.AI website. Add external links to reputable AI resources or Andrew Ng’s publications to enhance credibility and SEO.'\n",
      "}\n",
      "\n",
      "--------------------------------------------------------------------------------\n",
      "\u001b[33mLegal_Reviewer\u001b[0m (to Critic):\n",
      "\n",
      "As a legal reviewer, here are my recommendations to ensure that this content is legally compliant:\n",
      "\n",
      "1. **Verification of Facts and Permissions**: Confirm that all claims about DeepLearning.AI, including its offerings and the role of Andrew Ng, are accurate and that you have permission to use any personal names or trademarks mentioned in the content.\n",
      "   \n",
      "2. **Copyrighted Material**: Ensure that any content or material borrowed from external sources, such as course descriptions or direct quotes from Andrew Ng, is either in the public domain, properly attributed, or used with permission to avoid copyright infringement.\n",
      "   \n",
      "3. **Endorsements and Testimonials**: If any endorsements or testimonials are included regarding the effectiveness or quality of the courses, ensure they comply with legal standards, such as those set by the Federal Trade Commission, including truthful representation and disclosure of any relationships between endorsers and DeepLearning.AI.\n",
      "\n",
      "--------------------------------------------------------------------------------\n",
      "\u001b[34m\n",
      "********************************************************************************\u001b[0m\n",
      "\u001b[34mStarting a new chat....\u001b[0m\n",
      "\u001b[34m\n",
      "********************************************************************************\u001b[0m\n",
      "\u001b[33mCritic\u001b[0m (to Ethics_Reviewer):\n",
      "\n",
      "Review the following content. \n",
      "            \n",
      "\n",
      " ### Revolutionizing AI Education: A Closer Look at DeepLearning.AI\n",
      "\n",
      "DeepLearning.AI is an innovative education technology company, spearheaded by AI pioneer Andrew Ng. Since its inception, it has become a beacon for professionals and enthusiasts alike, eager to harness the power of artificial intelligence. The platform offers a plethora of courses from AI fundamentals to cutting-edge specializations. What sets DeepLearning.AI apart is its community-focused approach, providing learners with valuable networking opportunities and real-world project experience. Whether you’re a novice or a seasoned expert, DeepLearning.AI equips you with the tools necessary to thrive in the era of AI. Ready to future-proof your career? Dive into DeepLearning.AI.\n",
      "Context: \n",
      "{\n",
      "  'Reviewer': 'SEO_Reviewer',\n",
      "  'Review': 'As an SEO reviewer, here are my recommendations to optimize this content: 1. **Keyword Optimization**: Integrate primary keywords like \"AI education platform,\" \"learn artificial intelligence,\" and \"AI courses online\" strategically throughout the content. Use secondary keywords like \"AI specializations\" and \"AI career advancement\" in subheadings. 2. **Meta Description and Title Tags**: Craft a compelling meta description and optimize the title tag to include main keywords (e.g., \"Revolutionize Your Career with DeepLearning.AI’s AI Education Courses\"). 3. **Internal and External Links**: Include internal links to course pages or other relevant content on the DeepLearning.AI website. Add external links to reputable AI resources or Andrew Ng’s publications to enhance credibility and SEO.'\n",
      "}\n",
      "{\n",
      "  'Reviewer': 'Legal_Reviewer',\n",
      "  'Review': 'As a legal reviewer, here are my recommendations to ensure that this content is legally compliant: 1. **Verification of Facts and Permissions**: Confirm that all claims about DeepLearning.AI, including its offerings and the role of Andrew Ng, are accurate and that you have permission to use any personal names or trademarks mentioned in the content. 2. **Copyrighted Material**: Ensure that any content or material borrowed from external sources, such as course descriptions or direct quotes from Andrew Ng, is either in the public domain, properly attributed, or used with permission to avoid copyright infringement. 3. **Endorsements and Testimonials**: If any endorsements or testimonials are included regarding the effectiveness or quality of the courses, ensure they comply with legal standards, such as those set by the Federal Trade Commission, including truthful representation and disclosure of any relationships between endorsers and DeepLearning.AI.'\n",
      "}\n",
      "\n",
      "--------------------------------------------------------------------------------\n",
      "\u001b[33mEthics_Reviewer\u001b[0m (to Critic):\n",
      "\n",
      "As an ethics reviewer, here are my recommendations to ensure that this content is ethically sound:\n",
      "\n",
      "1. **Transparency and Full Disclosure**: Make sure that any affiliations or partnerships between DeepLearning.AI and other entities are clearly disclosed, preventing any potential conflicts of interest or perceptions of bias in the endorsements of the courses or platform.\n",
      "\n",
      "2. **Fair Representation and Inclusivity**: Ensure that the language used does not implicitly favor any specific demographic over others. Promoting inclusivity in AI education can enhance accessibility and fairness. For instance, mentioning that the courses cater to various skill levels and diverse backgrounds can help.\n",
      "\n",
      "3. **Accuracy of Information**: Verify that all the factual claims regarding the efficacy and outcomes of the courses are based on up-to-date and accurate data. Avoid overstating or guaranteeing specific career benefits without clear evidence or typical results to support such claims.\n",
      "\n",
      "\n",
      "--------------------------------------------------------------------------------\n",
      "\u001b[34m\n",
      "********************************************************************************\u001b[0m\n",
      "\u001b[34mStarting a new chat....\u001b[0m\n",
      "\u001b[34m\n",
      "********************************************************************************\u001b[0m\n",
      "\u001b[33mCritic\u001b[0m (to Meta_Reviewer):\n",
      "\n",
      "Aggregrate feedback from all reviewers and give final suggestions on the writing.\n",
      "Context: \n",
      "{\n",
      "  'Reviewer': 'SEO_Reviewer',\n",
      "  'Review': 'As an SEO reviewer, here are my recommendations to optimize this content: 1. **Keyword Optimization**: Integrate primary keywords like \"AI education platform,\" \"learn artificial intelligence,\" and \"AI courses online\" strategically throughout the content. Use secondary keywords like \"AI specializations\" and \"AI career advancement\" in subheadings. 2. **Meta Description and Title Tags**: Craft a compelling meta description and optimize the title tag to include main keywords (e.g., \"Revolutionize Your Career with DeepLearning.AI’s AI Education Courses\"). 3. **Internal and External Links**: Include internal links to course pages or other relevant content on the DeepLearning.AI website. Add external links to reputable AI resources or Andrew Ng’s publications to enhance credibility and SEO.'\n",
      "}\n",
      "{\n",
      "  'Reviewer': 'Legal_Reviewer',\n",
      "  'Review': 'As a legal reviewer, here are my recommendations to ensure that this content is legally compliant: 1. **Verification of Facts and Permissions**: Confirm that all claims about DeepLearning.AI, including its offerings and the role of Andrew Ng, are accurate and that you have permission to use any personal names or trademarks mentioned in the content. 2. **Copyrighted Material**: Ensure that any content or material borrowed from external sources, such as course descriptions or direct quotes from Andrew Ng, is either in the public domain, properly attributed, or used with permission to avoid copyright infringement. 3. **Endorsements and Testimonials**: If any endorsements or testimonials are included regarding the effectiveness or quality of the courses, ensure they comply with legal standards, such as those set by the Federal Trade Commission, including truthful representation and disclosure of any relationships between endorsers and DeepLearning.AI.'\n",
      "}\n",
      "{\n",
      "  'reviewer': 'Ethics_Reviewer',\n",
      "  'review': 'As an ethics reviewer, here are my recommendations to ensure that this content is ethically sound: 1. **Transparency and Full Disclosure**: Make sure that any affiliations or partnerships between DeepLearning.AI and other entities are clearly disclosed, preventing any potential conflicts of interest or perceptions of bias in the endorsements of the courses or platform. 2. **Fair Representation and Inclusivity**: Ensure that the language used does not implicitly favor any specific demographic over others. Promoting inclusivity in AI education can enhance accessibility and fairness. For instance, mentioning that the courses cater to various skill levels and diverse backgrounds can help. 3. **Accuracy of Information**: Verify that all the factual claims regarding the efficacy and outcomes of the courses are based on up-to-date and accurate data. Avoid overstating or guaranteeing specific career benefits without clear evidence or typical results to support such claims.'\n",
      "}\n",
      "\n",
      "--------------------------------------------------------------------------------\n",
      "\u001b[33mMeta_Reviewer\u001b[0m (to Critic):\n",
      "\n",
      "After evaluating feedback from the SEO, Legal, and Ethics reviewers, the following final suggestions are offered to ensure the content about DeepLearning.AI's AI education platform is comprehensive, compliant, engaging, and responsible:\n",
      "\n",
      "1. **Enhance SEO**: Incorporate recommended primary keywords like \"AI education platform,\" \"learn artificial intelligence,\" and \"AI courses online.\" Utilize secondary keywords in subheadings. Craft a clear meta description and optimize the title for better search engine visibility. Incorporate both internal and external links wisely to improve credibility and SEO ranking.\n",
      "\n",
      "2. **Legal Compliance**: \n",
      "   - Confirm accuracy of all factual claims about DeepLearning.AI and its offerings. Obtain proper permissions for using names and trademarks.\n",
      "   - Verify that sourced material is either from the public domain, attributed correctly, or used with permission.\n",
      "   - Ensure that any endorsements or testimonials comply with legal guidelines, particularly regarding truthful representation.\n",
      "\n",
      "3. **Ethical Considerations**:\n",
      "   - Maintain transparency about partnerships or affiliations to avoid potential biases.\n",
      "   - Use inclusive language that speaks to diverse demographics, emphasizing that the courses are designed for varying skill levels and backgrounds.\n",
      "   - Ensure that all claims about course efficacy and career benefits are substantiated with current and accurate data, avoiding any overstatements or unsupported guarantees.\n",
      "\n",
      "By integrating these detailed suggestions, the content will not only attract more readers through optimized SEO practices but will also uphold the highest ethical and legal standards, thereby enhancing the credibility and user trust in the DeepLearning.AI education platform.\n",
      "\n",
      "--------------------------------------------------------------------------------\n",
      "\u001b[33mCritic\u001b[0m (to Writer):\n",
      "\n",
      "After evaluating feedback from the SEO, Legal, and Ethics reviewers, the following final suggestions are offered to ensure the content about DeepLearning.AI's AI education platform is comprehensive, compliant, engaging, and responsible:\n",
      "\n",
      "1. **Enhance SEO**: Incorporate recommended primary keywords like \"AI education platform,\" \"learn artificial intelligence,\" and \"AI courses online.\" Utilize secondary keywords in subheadings. Craft a clear meta description and optimize the title for better search engine visibility. Incorporate both internal and external links wisely to improve credibility and SEO ranking.\n",
      "\n",
      "2. **Legal Compliance**: \n",
      "   - Confirm accuracy of all factual claims about DeepLearning.AI and its offerings. Obtain proper permissions for using names and trademarks.\n",
      "   - Verify that sourced material is either from the public domain, attributed correctly, or used with permission.\n",
      "   - Ensure that any endorsements or testimonials comply with legal guidelines, particularly regarding truthful representation.\n",
      "\n",
      "3. **Ethical Considerations**:\n",
      "   - Maintain transparency about partnerships or affiliations to avoid potential biases.\n",
      "   - Use inclusive language that speaks to diverse demographics, emphasizing that the courses are designed for varying skill levels and backgrounds.\n",
      "   - Ensure that all claims about course efficacy and career benefits are substantiated with current and accurate data, avoiding any overstatements or unsupported guarantees.\n",
      "\n",
      "By integrating these detailed suggestions, the content will not only attract more readers through optimized SEO practices but will also uphold the highest ethical and legal standards, thereby enhancing the credibility and user trust in the DeepLearning.AI education platform.\n",
      "\n",
      "--------------------------------------------------------------------------------\n",
      "\u001b[33mWriter\u001b[0m (to Critic):\n",
      "\n",
      "### Revolutionizing AI Education: A Closer Look at DeepLearning.AI\n",
      "\n",
      "DeepLearning.AI is transcending borders in AI education through its comprehensive online platform. Founded by AI luminary Andrew Ng, it offers a spectrum of AI courses, from beginner basics to advanced techniques. This AI education platform doesn't just educate; it integrates community building, helping learners network and collaborate on real-world projects. Whether you're looking to start your journey in artificial intelligence or polish your skills, DeepLearning.AI provides the tools needed for success in today's tech-driven world. Embrace the future of learning; explore how to learn artificial intelligence through DeepLearning.AI today.\n",
      "\n",
      "Meta Description: Discover DeepLearning.AI, your ultimate AI learning platform with courses designed for all levels. Join a global community and enhance your career in AI.\n",
      "\n",
      "--------------------------------------------------------------------------------\n"
     ]
    }
   ],
   "source": [
    "res = critic.initiate_chat(\n",
    "    recipient=writer,\n",
    "    message=task,\n",
    "    max_turns=2,\n",
    "    summary_method=\"last_msg\"\n",
    ")"
   ]
  },
  {
   "cell_type": "markdown",
   "metadata": {},
   "source": [
    "#### Get the summary"
   ]
  },
  {
   "cell_type": "code",
   "execution_count": 37,
   "metadata": {},
   "outputs": [
    {
     "name": "stdout",
     "output_type": "stream",
     "text": [
      "### Revolutionizing AI Education: A Closer Look at DeepLearning.AI\n",
      "\n",
      "DeepLearning.AI is transcending borders in AI education through its comprehensive online platform. Founded by AI luminary Andrew Ng, it offers a spectrum of AI courses, from beginner basics to advanced techniques. This AI education platform doesn't just educate; it integrates community building, helping learners network and collaborate on real-world projects. Whether you're looking to start your journey in artificial intelligence or polish your skills, DeepLearning.AI provides the tools needed for success in today's tech-driven world. Embrace the future of learning; explore how to learn artificial intelligence through DeepLearning.AI today.\n",
      "\n",
      "Meta Description: Discover DeepLearning.AI, your ultimate AI learning platform with courses designed for all levels. Join a global community and enhance your career in AI.\n"
     ]
    }
   ],
   "source": [
    "print(res.summary)"
   ]
  }
 ],
 "metadata": {
  "kernelspec": {
   "display_name": "autogen",
   "language": "python",
   "name": "python3"
  },
  "language_info": {
   "codemirror_mode": {
    "name": "ipython",
    "version": 3
   },
   "file_extension": ".py",
   "mimetype": "text/x-python",
   "name": "python",
   "nbconvert_exporter": "python",
   "pygments_lexer": "ipython3",
   "version": "3.12.0"
  }
 },
 "nbformat": 4,
 "nbformat_minor": 2
}
