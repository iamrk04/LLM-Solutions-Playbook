{
 "cells": [
  {
   "cell_type": "markdown",
   "metadata": {},
   "source": [
    "# AI Agents\n",
    "\n",
    "---"
   ]
  },
  {
   "cell_type": "markdown",
   "metadata": {},
   "source": [
    "## Key elements of AI agents"
   ]
  },
  {
   "cell_type": "markdown",
   "metadata": {},
   "source": [
    "These are the key elements of AI agents:\n",
    "- **Role Playing**: Agents perform better when asked to play a role.\n",
    "- **Focus**: Create many focused agents instead of one general agent.\n",
    "- **Tools**: Do not overload agent with too many tools.\n",
    "- **Cooperation**: Make sure to setup agents so that they can collaborate with each other.\n",
    "- **Guardrails**: Helps agent from derailing and makes sure they stay on path to achieve their goals. CrewAI implements them.\n",
    "- **Memory**: Provides agents the ability to remember what it has done, which can then be used to make new decisions and executions. CrewAI has support for memory."
   ]
  },
  {
   "cell_type": "markdown",
   "metadata": {},
   "source": [
    "## What makes a great Tool"
   ]
  },
  {
   "cell_type": "markdown",
   "metadata": {},
   "source": [
    "- **Versatile**: APIs are strongly typed whereas LLMs can produce any kind of text. Make sure your tool is able to correctly handle the output of the LLM, and map them to the correct types. CrewAI does this.\n",
    "- **Fault-tolerant**: Make sure your tool can handle errors and exceptions gracefully. CrewAI does this.\n",
    "- **Caching**: Caching is important to avoid repeated API calls. CrewAI has support for caching called cross-agent caching."
   ]
  }
 ],
 "metadata": {
  "language_info": {
   "name": "python"
  }
 },
 "nbformat": 4,
 "nbformat_minor": 2
}
